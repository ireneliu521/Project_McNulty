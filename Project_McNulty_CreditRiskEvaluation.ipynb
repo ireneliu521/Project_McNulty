  {
   "cell_type": "markdown",
   "metadata": {},
   "source": [
    "# German Credit Card Fraud Dataset"
   ]
  },
  {
   "cell_type": "markdown",
   "metadata": {},
   "source": [
    "### Variable Description\n",
    "<ul>\n",
    "<li><b>Over Draft</b>: <0, 0<=X<200, >=200, no checking account\n",
    "<li><b>Credit Usage</b>: Duration in month\n",
    "<li><b>Credit History</b>: No credits/all paid, All paid, Existing paid, Delayed previously, Critical/other existing credit\n",
    "<li><b>Purpose</b>: New car, Used car, Furniture/Equipment, Radio/TV, Domestic appliance, Repairs, Education, Vacation, Retraining, Business, Other\n",
    "<li><b>Current Balance</b>: Credit amount\n",
    "<li><b>Average Credit Balance</b>: <100, 100<=X<500, 500<=X<1000, >=1000, no known savings\n",
    "<li><b>Employment</b>: unemployed, <1 year, 1 year<=X<4 year, 4 year<=X<7 year, >=7 year\n",
    "<li><b>Location</b>: 1 to 4\n",
    "<li><b>Personal Status</b>: male div/sep, female div/dep/mar, male single, male mar/wid, female single\n",
    "<li><b>Other Parties</b>: none, co applicant, guarantor\n",
    "<li><b>Residence Since</b>: 1 to 4\n",
    "<li><b>Property Magnitude</b>: real estate, life insurance, car, no known property\n",
    "<li><b>cc_age</b>: cc_age in month\n",
    "<li><b>Other Payment Plans</b>: bank, stores, none\n",
    "<li><b>Housing</b>: rent, own, for free\n",
    "<li><b>Existing Credits</b>: 1 to 4\n",
    "<li><b>Job</b>: unemp/unskilled non res, unskilled resident, skilled, high qualif/self emp/mgmt\n",
    "<li><b>Number of Dependents</b>: 1 or 2\n",
    "<li><b>Own Telephone</b>: Yes or No\n",
    "<li><b>Foreign Worker</b>: Yes or No\n",
    "<li><b>Class</b>: Good or Bad"
   ]
  },
  {
   "cell_type": "code",
   "execution_count": 1,
   "metadata": {},
   "outputs": [],
   "source": [
    "import pickle\n",
    "import pandas as pd\n",
    "import numpy as np\n",
    "import seaborn as sns\n",
    "import matplotlib.pyplot as plt\n",
    "plt.style.use('seaborn')\n",
    "from scipy.io import arff\n",
    "from sklearn.model_selection import train_test_split, cross_val_score, GridSearchCV\n",
    "from sklearn.preprocessing import StandardScaler, Normalizer\n",
    "from imblearn.over_sampling import SMOTE\n",
    "from collections import Counter\n",
    "from sklearn.linear_model import LogisticRegression\n",
    "from sklearn.neighbors import KNeighborsClassifier\n",
    "from sklearn.tree import DecisionTreeClassifier\n",
    "from sklearn.ensemble import RandomForestClassifier, ExtraTreesClassifier\n",
    "from sklearn.svm import SVC, LinearSVC\n",
    "from sklearn.naive_bayes import GaussianNB\n",
    "from xgboost import XGBClassifier\n",
    "\n",
    "from sklearn.feature_selection import VarianceThreshold, SelectKBest, chi2\n",
    "\n",
    "from sklearn.metrics import accuracy_score, precision_score, recall_score, f1_score\n",
    "from sklearn.metrics import roc_curve, roc_auc_score, precision_recall_curve\n",
    "from sklearn.metrics import confusion_matrix, classification_report\n",
    "\n",
    "import warnings\n",
    "warnings.filterwarnings(module='sklearn*', action='ignore', category=DeprecationWarning)"
   ]
  },
  {
   "cell_type": "code",
   "execution_count": 2,
   "metadata": {},
   "outputs": [],
   "source": [
    "data = arff.loadarff('credit_fruad.arff')\n",
    "df = pd.DataFrame(data[0])"
   ]
  },
  {
   "cell_type": "code",
   "execution_count": 3,
   "metadata": {
    "scrolled": true
   },
   "outputs": [
    {
     "data": {
      "text/plain": [
       "Index(['over_draft', 'credit_usage', 'credit_history', 'purpose',\n",
       "       'current_balance', 'Average_Credit_Balance', 'employment', 'location',\n",
       "       'personal_status', 'other_parties', 'residence_since',\n",
       "       'property_magnitude', 'cc_age', 'other_payment_plans', 'housing',\n",
       "       'existing_credits', 'job', 'num_dependents', 'own_telephone',\n",
       "       'foreign_worker', 'class'],\n",
       "      dtype='object')"
      ]
     },
     "execution_count": 3,
     "metadata": {},
     "output_type": "execute_result"
    }
   ],
   "source": [
    "df.columns"
   ]
  },
  {
   "cell_type": "code",
   "execution_count": 4,
   "metadata": {
    "scrolled": false
   },
   "outputs": [
    {
     "data": {
      "text/html": [
       "<div>\n",
       "<style scoped>\n",
       "    .dataframe tbody tr th:only-of-type {\n",
       "        vertical-align: middle;\n",
       "    }\n",
       "\n",
       "    .dataframe tbody tr th {\n",
       "        vertical-align: top;\n",
       "    }\n",
       "\n",
       "    .dataframe thead th {\n",
       "        text-align: right;\n",
       "    }\n",
       "</style>\n",
       "<table border=\"1\" class=\"dataframe\">\n",
       "  <thead>\n",
       "    <tr style=\"text-align: right;\">\n",
       "      <th></th>\n",
       "      <th>credit_usage</th>\n",
       "      <th>current_balance</th>\n",
       "      <th>location</th>\n",
       "      <th>residence_since</th>\n",
       "      <th>cc_age</th>\n",
       "      <th>existing_credits</th>\n",
       "      <th>num_dependents</th>\n",
       "    </tr>\n",
       "  </thead>\n",
       "  <tbody>\n",
       "    <tr>\n",
       "      <th>count</th>\n",
       "      <td>1000.000000</td>\n",
       "      <td>1000.000000</td>\n",
       "      <td>1000.000000</td>\n",
       "      <td>1000.000000</td>\n",
       "      <td>1000.000000</td>\n",
       "      <td>1000.000000</td>\n",
       "      <td>1000.000000</td>\n",
       "    </tr>\n",
       "    <tr>\n",
       "      <th>mean</th>\n",
       "      <td>20.903000</td>\n",
       "      <td>3271.258000</td>\n",
       "      <td>2.973000</td>\n",
       "      <td>2.845000</td>\n",
       "      <td>35.546000</td>\n",
       "      <td>1.407000</td>\n",
       "      <td>1.155000</td>\n",
       "    </tr>\n",
       "    <tr>\n",
       "      <th>std</th>\n",
       "      <td>12.058814</td>\n",
       "      <td>2822.736876</td>\n",
       "      <td>1.118715</td>\n",
       "      <td>1.103718</td>\n",
       "      <td>11.375469</td>\n",
       "      <td>0.577654</td>\n",
       "      <td>0.362086</td>\n",
       "    </tr>\n",
       "    <tr>\n",
       "      <th>min</th>\n",
       "      <td>4.000000</td>\n",
       "      <td>250.000000</td>\n",
       "      <td>1.000000</td>\n",
       "      <td>1.000000</td>\n",
       "      <td>19.000000</td>\n",
       "      <td>1.000000</td>\n",
       "      <td>1.000000</td>\n",
       "    </tr>\n",
       "    <tr>\n",
       "      <th>25%</th>\n",
       "      <td>12.000000</td>\n",
       "      <td>1365.500000</td>\n",
       "      <td>2.000000</td>\n",
       "      <td>2.000000</td>\n",
       "      <td>27.000000</td>\n",
       "      <td>1.000000</td>\n",
       "      <td>1.000000</td>\n",
       "    </tr>\n",
       "    <tr>\n",
       "      <th>50%</th>\n",
       "      <td>18.000000</td>\n",
       "      <td>2319.500000</td>\n",
       "      <td>3.000000</td>\n",
       "      <td>3.000000</td>\n",
       "      <td>33.000000</td>\n",
       "      <td>1.000000</td>\n",
       "      <td>1.000000</td>\n",
       "    </tr>\n",
       "    <tr>\n",
       "      <th>75%</th>\n",
       "      <td>24.000000</td>\n",
       "      <td>3972.250000</td>\n",
       "      <td>4.000000</td>\n",
       "      <td>4.000000</td>\n",
       "      <td>42.000000</td>\n",
       "      <td>2.000000</td>\n",
       "      <td>1.000000</td>\n",
       "    </tr>\n",
       "    <tr>\n",
       "      <th>max</th>\n",
       "      <td>72.000000</td>\n",
       "      <td>18424.000000</td>\n",
       "      <td>4.000000</td>\n",
       "      <td>4.000000</td>\n",
       "      <td>75.000000</td>\n",
       "      <td>4.000000</td>\n",
       "      <td>2.000000</td>\n",
       "    </tr>\n",
       "  </tbody>\n",
       "</table>\n",
       "</div>"
      ],
      "text/plain": [
       "       credit_usage  current_balance     location  residence_since  \\\n",
       "count   1000.000000      1000.000000  1000.000000      1000.000000   \n",
       "mean      20.903000      3271.258000     2.973000         2.845000   \n",
       "std       12.058814      2822.736876     1.118715         1.103718   \n",
       "min        4.000000       250.000000     1.000000         1.000000   \n",
       "25%       12.000000      1365.500000     2.000000         2.000000   \n",
       "50%       18.000000      2319.500000     3.000000         3.000000   \n",
       "75%       24.000000      3972.250000     4.000000         4.000000   \n",
       "max       72.000000     18424.000000     4.000000         4.000000   \n",
       "\n",
       "            cc_age  existing_credits  num_dependents  \n",
       "count  1000.000000       1000.000000     1000.000000  \n",
       "mean     35.546000          1.407000        1.155000  \n",
       "std      11.375469          0.577654        0.362086  \n",
       "min      19.000000          1.000000        1.000000  \n",
       "25%      27.000000          1.000000        1.000000  \n",
       "50%      33.000000          1.000000        1.000000  \n",
       "75%      42.000000          2.000000        1.000000  \n",
       "max      75.000000          4.000000        2.000000  "
      ]
     },
     "execution_count": 4,
     "metadata": {},
     "output_type": "execute_result"
    }
   ],
   "source": [
    "df.describe()"
   ]
  },
  {
   "cell_type": "code",
   "execution_count": 5,
   "metadata": {
    "scrolled": false
   },
   "outputs": [
    {
     "name": "stdout",
     "output_type": "stream",
     "text": [
      "<class 'pandas.core.frame.DataFrame'>\n",
      "RangeIndex: 1000 entries, 0 to 999\n",
      "Data columns (total 21 columns):\n",
      "over_draft                1000 non-null object\n",
      "credit_usage              1000 non-null float64\n",
      "credit_history            1000 non-null object\n",
      "purpose                   1000 non-null object\n",
      "current_balance           1000 non-null float64\n",
      "Average_Credit_Balance    1000 non-null object\n",
      "employment                1000 non-null object\n",
      "location                  1000 non-null float64\n",
      "personal_status           1000 non-null object\n",
      "other_parties             1000 non-null object\n",
      "residence_since           1000 non-null float64\n",
      "property_magnitude        1000 non-null object\n",
      "cc_age                    1000 non-null float64\n",
      "other_payment_plans       1000 non-null object\n",
      "housing                   1000 non-null object\n",
      "existing_credits          1000 non-null float64\n",
      "job                       1000 non-null object\n",
      "num_dependents            1000 non-null float64\n",
      "own_telephone             1000 non-null object\n",
      "foreign_worker            1000 non-null object\n",
      "class                     1000 non-null object\n",
      "dtypes: float64(7), object(14)\n",
      "memory usage: 164.1+ KB\n"
     ]
    }
   ],
   "source": [
    "df.info()"
   ]
  },
  {
   "cell_type": "code",
   "execution_count": 6,
   "metadata": {
    "scrolled": true
   },
   "outputs": [
    {
     "data": {
      "text/html": [
       "<div>\n",
       "<style scoped>\n",
       "    .dataframe tbody tr th:only-of-type {\n",
       "        vertical-align: middle;\n",
       "    }\n",
       "\n",
       "    .dataframe tbody tr th {\n",
       "        vertical-align: top;\n",
       "    }\n",
       "\n",
       "    .dataframe thead th {\n",
       "        text-align: right;\n",
       "    }\n",
       "</style>\n",
       "<table border=\"1\" class=\"dataframe\">\n",
       "  <thead>\n",
       "    <tr style=\"text-align: right;\">\n",
       "      <th></th>\n",
       "      <th>over_draft</th>\n",
       "      <th>credit_usage</th>\n",
       "      <th>credit_history</th>\n",
       "      <th>purpose</th>\n",
       "      <th>current_balance</th>\n",
       "      <th>Average_Credit_Balance</th>\n",
       "      <th>employment</th>\n",
       "      <th>location</th>\n",
       "      <th>personal_status</th>\n",
       "      <th>other_parties</th>\n",
       "      <th>...</th>\n",
       "      <th>property_magnitude</th>\n",
       "      <th>cc_age</th>\n",
       "      <th>other_payment_plans</th>\n",
       "      <th>housing</th>\n",
       "      <th>existing_credits</th>\n",
       "      <th>job</th>\n",
       "      <th>num_dependents</th>\n",
       "      <th>own_telephone</th>\n",
       "      <th>foreign_worker</th>\n",
       "      <th>class</th>\n",
       "    </tr>\n",
       "  </thead>\n",
       "  <tbody>\n",
       "    <tr>\n",
       "      <th>0</th>\n",
       "      <td>b\"'&lt;0'\"</td>\n",
       "      <td>6.0</td>\n",
       "      <td>b\"'critical/other existing credit'\"</td>\n",
       "      <td>b'radio/tv'</td>\n",
       "      <td>1169.0</td>\n",
       "      <td>b\"'no known savings'\"</td>\n",
       "      <td>b\"'&gt;=7'\"</td>\n",
       "      <td>4.0</td>\n",
       "      <td>b\"'male single'\"</td>\n",
       "      <td>b'none'</td>\n",
       "      <td>...</td>\n",
       "      <td>b\"'real estate'\"</td>\n",
       "      <td>67.0</td>\n",
       "      <td>b'none'</td>\n",
       "      <td>b'own'</td>\n",
       "      <td>2.0</td>\n",
       "      <td>b'skilled'</td>\n",
       "      <td>1.0</td>\n",
       "      <td>b'yes'</td>\n",
       "      <td>b'yes'</td>\n",
       "      <td>b'good'</td>\n",
       "    </tr>\n",
       "    <tr>\n",
       "      <th>1</th>\n",
       "      <td>b\"'0&lt;=X&lt;200'\"</td>\n",
       "      <td>48.0</td>\n",
       "      <td>b\"'existing paid'\"</td>\n",
       "      <td>b'radio/tv'</td>\n",
       "      <td>5951.0</td>\n",
       "      <td>b\"'&lt;100'\"</td>\n",
       "      <td>b\"'1&lt;=X&lt;4'\"</td>\n",
       "      <td>2.0</td>\n",
       "      <td>b\"'female div/dep/mar'\"</td>\n",
       "      <td>b'none'</td>\n",
       "      <td>...</td>\n",
       "      <td>b\"'real estate'\"</td>\n",
       "      <td>22.0</td>\n",
       "      <td>b'none'</td>\n",
       "      <td>b'own'</td>\n",
       "      <td>1.0</td>\n",
       "      <td>b'skilled'</td>\n",
       "      <td>1.0</td>\n",
       "      <td>b'none'</td>\n",
       "      <td>b'yes'</td>\n",
       "      <td>b'bad'</td>\n",
       "    </tr>\n",
       "    <tr>\n",
       "      <th>2</th>\n",
       "      <td>b\"'no checking'\"</td>\n",
       "      <td>12.0</td>\n",
       "      <td>b\"'critical/other existing credit'\"</td>\n",
       "      <td>b'education'</td>\n",
       "      <td>2096.0</td>\n",
       "      <td>b\"'&lt;100'\"</td>\n",
       "      <td>b\"'4&lt;=X&lt;7'\"</td>\n",
       "      <td>2.0</td>\n",
       "      <td>b\"'male single'\"</td>\n",
       "      <td>b'none'</td>\n",
       "      <td>...</td>\n",
       "      <td>b\"'real estate'\"</td>\n",
       "      <td>49.0</td>\n",
       "      <td>b'none'</td>\n",
       "      <td>b'own'</td>\n",
       "      <td>1.0</td>\n",
       "      <td>b\"'unskilled resident'\"</td>\n",
       "      <td>2.0</td>\n",
       "      <td>b'none'</td>\n",
       "      <td>b'yes'</td>\n",
       "      <td>b'good'</td>\n",
       "    </tr>\n",
       "    <tr>\n",
       "      <th>3</th>\n",
       "      <td>b\"'&lt;0'\"</td>\n",
       "      <td>42.0</td>\n",
       "      <td>b\"'existing paid'\"</td>\n",
       "      <td>b'furniture/equipment'</td>\n",
       "      <td>7882.0</td>\n",
       "      <td>b\"'&lt;100'\"</td>\n",
       "      <td>b\"'4&lt;=X&lt;7'\"</td>\n",
       "      <td>2.0</td>\n",
       "      <td>b\"'male single'\"</td>\n",
       "      <td>b'guarantor'</td>\n",
       "      <td>...</td>\n",
       "      <td>b\"'life insurance'\"</td>\n",
       "      <td>45.0</td>\n",
       "      <td>b'none'</td>\n",
       "      <td>b\"'for free'\"</td>\n",
       "      <td>1.0</td>\n",
       "      <td>b'skilled'</td>\n",
       "      <td>2.0</td>\n",
       "      <td>b'none'</td>\n",
       "      <td>b'yes'</td>\n",
       "      <td>b'good'</td>\n",
       "    </tr>\n",
       "    <tr>\n",
       "      <th>4</th>\n",
       "      <td>b\"'&lt;0'\"</td>\n",
       "      <td>24.0</td>\n",
       "      <td>b\"'delayed previously'\"</td>\n",
       "      <td>b\"'new car'\"</td>\n",
       "      <td>4870.0</td>\n",
       "      <td>b\"'&lt;100'\"</td>\n",
       "      <td>b\"'1&lt;=X&lt;4'\"</td>\n",
       "      <td>3.0</td>\n",
       "      <td>b\"'male single'\"</td>\n",
       "      <td>b'none'</td>\n",
       "      <td>...</td>\n",
       "      <td>b\"'no known property'\"</td>\n",
       "      <td>53.0</td>\n",
       "      <td>b'none'</td>\n",
       "      <td>b\"'for free'\"</td>\n",
       "      <td>2.0</td>\n",
       "      <td>b'skilled'</td>\n",
       "      <td>2.0</td>\n",
       "      <td>b'none'</td>\n",
       "      <td>b'yes'</td>\n",
       "      <td>b'bad'</td>\n",
       "    </tr>\n",
       "  </tbody>\n",
       "</table>\n",
       "<p>5 rows × 21 columns</p>\n",
       "</div>"
      ],
      "text/plain": [
       "         over_draft  credit_usage                       credit_history  \\\n",
       "0           b\"'<0'\"           6.0  b\"'critical/other existing credit'\"   \n",
       "1     b\"'0<=X<200'\"          48.0                   b\"'existing paid'\"   \n",
       "2  b\"'no checking'\"          12.0  b\"'critical/other existing credit'\"   \n",
       "3           b\"'<0'\"          42.0                   b\"'existing paid'\"   \n",
       "4           b\"'<0'\"          24.0              b\"'delayed previously'\"   \n",
       "\n",
       "                  purpose  current_balance Average_Credit_Balance  \\\n",
       "0             b'radio/tv'           1169.0  b\"'no known savings'\"   \n",
       "1             b'radio/tv'           5951.0              b\"'<100'\"   \n",
       "2            b'education'           2096.0              b\"'<100'\"   \n",
       "3  b'furniture/equipment'           7882.0              b\"'<100'\"   \n",
       "4            b\"'new car'\"           4870.0              b\"'<100'\"   \n",
       "\n",
       "    employment  location          personal_status other_parties   ...     \\\n",
       "0     b\"'>=7'\"       4.0         b\"'male single'\"       b'none'   ...      \n",
       "1  b\"'1<=X<4'\"       2.0  b\"'female div/dep/mar'\"       b'none'   ...      \n",
       "2  b\"'4<=X<7'\"       2.0         b\"'male single'\"       b'none'   ...      \n",
       "3  b\"'4<=X<7'\"       2.0         b\"'male single'\"  b'guarantor'   ...      \n",
       "4  b\"'1<=X<4'\"       3.0         b\"'male single'\"       b'none'   ...      \n",
       "\n",
       "       property_magnitude cc_age  other_payment_plans        housing  \\\n",
       "0        b\"'real estate'\"   67.0              b'none'         b'own'   \n",
       "1        b\"'real estate'\"   22.0              b'none'         b'own'   \n",
       "2        b\"'real estate'\"   49.0              b'none'         b'own'   \n",
       "3     b\"'life insurance'\"   45.0              b'none'  b\"'for free'\"   \n",
       "4  b\"'no known property'\"   53.0              b'none'  b\"'for free'\"   \n",
       "\n",
       "  existing_credits                      job num_dependents  own_telephone  \\\n",
       "0              2.0               b'skilled'            1.0         b'yes'   \n",
       "1              1.0               b'skilled'            1.0        b'none'   \n",
       "2              1.0  b\"'unskilled resident'\"            2.0        b'none'   \n",
       "3              1.0               b'skilled'            2.0        b'none'   \n",
       "4              2.0               b'skilled'            2.0        b'none'   \n",
       "\n",
       "  foreign_worker    class  \n",
       "0         b'yes'  b'good'  \n",
       "1         b'yes'   b'bad'  \n",
       "2         b'yes'  b'good'  \n",
       "3         b'yes'  b'good'  \n",
       "4         b'yes'   b'bad'  \n",
       "\n",
       "[5 rows x 21 columns]"
      ]
     },
     "execution_count": 6,
     "metadata": {},
     "output_type": "execute_result"
    }
   ],
   "source": [
    "df.head()"
   ]
  },
  {
   "cell_type": "code",
   "execution_count": 7,
   "metadata": {},
   "outputs": [],
   "source": [
    "new_df = df.copy()"
   ]
  },
  {
   "cell_type": "code",
   "execution_count": 8,
   "metadata": {
    "scrolled": true
   },
   "outputs": [],
   "source": [
    "# Eliminate unwanted strings\n",
    "new_df['over_draft'] = [str(x).replace(\"b\", \"\", 1).replace(\"'\", \"\").replace(\"\\\"\", \"\") for x in new_df.over_draft]\n",
    "new_df['credit_history'] = [str(x).replace(\"b\", \"\", 1).replace(\"'\", \"\").replace(\"\\\"\", \"\") for x in new_df.credit_history]\n",
    "new_df['purpose'] = [str(x).replace(\"b\", \"\", 1).replace(\"'\", \"\").replace(\"\\\"\", \"\") for x in new_df.purpose]\n",
    "new_df['Average_Credit_Balance'] = [str(x).replace(\"b\", \"\", 1).replace(\"'\", \"\").replace(\"\\\"\", \"\") for x in new_df.Average_Credit_Balance]\n",
    "new_df['employment'] = [str(x).replace(\"b\", \"\", 1).replace(\"'\", \"\").replace(\"\\\"\", \"\") for x in new_df.employment]\n",
    "new_df['housing'] = [str(x).replace(\"b\", \"\", 1).replace(\"'\", \"\").replace(\"\\\"\", \"\") for x in new_df.housing]\n",
    "new_df['personal_status'] = [str(x).replace(\"b\", \"\", 1).replace(\"'\", \"\").replace(\"\\\"\", \"\") for x in new_df.personal_status]\n",
    "new_df['other_parties'] = [str(x).replace(\"b\", \"\", 1).replace(\"'\", \"\").replace(\"\\\"\", \"\") for x in new_df.other_parties]\n",
    "new_df['residence_since'] = [str(x).replace(\"b\", \"\", 1).replace(\"'\", \"\").replace(\"\\\"\", \"\") for x in new_df.residence_since]\n",
    "new_df['property_magnitude'] = [str(x).replace(\"b\", \"\", 1).replace(\"'\", \"\").replace(\"\\\"\", \"\") for x in new_df.property_magnitude]\n",
    "new_df['other_payment_plans'] = [str(x).replace(\"b\", \"\", 1).replace(\"'\", \"\").replace(\"\\\"\", \"\") for x in new_df.other_payment_plans]\n",
    "new_df['job'] = [str(x).replace(\"b\", \"\", 1).replace(\"'\", \"\").replace(\"\\\"\", \"\") for x in new_df.job]\n",
    "new_df['own_telephone'] = [str(x).replace(\"b\", \"\", 1).replace(\"'\", \"\").replace(\"\\\"\", \"\") for x in new_df.own_telephone]\n",
    "new_df['foreign_worker'] = [str(x).replace(\"b\", \"\", 1).replace(\"'\", \"\").replace(\"\\\"\", \"\") for x in new_df.foreign_worker]\n",
    "new_df.rename(columns={'class': 'credit'}, inplace=True)\n",
    "new_df['credit'] = [str(x).replace(\"b\", \"\", 1).replace(\"'\", \"\") for x in new_df.credit]\n",
    "new_df['credit'].replace((\"good\", \"bad\"), (0,1), inplace=True)\n",
    "new_df['gender'] = [0 if 'female' in status else 1 for status in new_df.personal_status]\n",
    "new_df['personal_status'] = [str(x).replace('male', '').replace('female', '') for x in new_df.personal_status]"
   ]
  },
  {
   "cell_type": "code",
   "execution_count": 9,
   "metadata": {},
   "outputs": [],
   "source": [
    "# Drop other parties and other payment plans because of too many none\n",
    "new_df.drop(['other_parties', 'other_payment_plans'], axis=1, inplace=True)"
   ]
  },
  {
   "cell_type": "code",
   "execution_count": 10,
   "metadata": {
    "scrolled": true
   },
   "outputs": [
    {
     "data": {
      "text/html": [
       "<div>\n",
       "<style scoped>\n",
       "    .dataframe tbody tr th:only-of-type {\n",
       "        vertical-align: middle;\n",
       "    }\n",
       "\n",
       "    .dataframe tbody tr th {\n",
       "        vertical-align: top;\n",
       "    }\n",
       "\n",
       "    .dataframe thead th {\n",
       "        text-align: right;\n",
       "    }\n",
       "</style>\n",
       "<table border=\"1\" class=\"dataframe\">\n",
       "  <thead>\n",
       "    <tr style=\"text-align: right;\">\n",
       "      <th></th>\n",
       "      <th>over_draft</th>\n",
       "      <th>credit_usage</th>\n",
       "      <th>credit_history</th>\n",
       "      <th>purpose</th>\n",
       "      <th>current_balance</th>\n",
       "      <th>Average_Credit_Balance</th>\n",
       "      <th>employment</th>\n",
       "      <th>location</th>\n",
       "      <th>personal_status</th>\n",
       "      <th>residence_since</th>\n",
       "      <th>property_magnitude</th>\n",
       "      <th>cc_age</th>\n",
       "      <th>housing</th>\n",
       "      <th>existing_credits</th>\n",
       "      <th>job</th>\n",
       "      <th>num_dependents</th>\n",
       "      <th>own_telephone</th>\n",
       "      <th>foreign_worker</th>\n",
       "      <th>credit</th>\n",
       "      <th>gender</th>\n",
       "    </tr>\n",
       "  </thead>\n",
       "  <tbody>\n",
       "    <tr>\n",
       "      <th>0</th>\n",
       "      <td>&lt;0</td>\n",
       "      <td>6.0</td>\n",
       "      <td>critical/other existing credit</td>\n",
       "      <td>radio/tv</td>\n",
       "      <td>1169.0</td>\n",
       "      <td>no known savings</td>\n",
       "      <td>&gt;=7</td>\n",
       "      <td>4.0</td>\n",
       "      <td>single</td>\n",
       "      <td>4.0</td>\n",
       "      <td>real estate</td>\n",
       "      <td>67.0</td>\n",
       "      <td>own</td>\n",
       "      <td>2.0</td>\n",
       "      <td>skilled</td>\n",
       "      <td>1.0</td>\n",
       "      <td>yes</td>\n",
       "      <td>yes</td>\n",
       "      <td>0</td>\n",
       "      <td>1</td>\n",
       "    </tr>\n",
       "    <tr>\n",
       "      <th>1</th>\n",
       "      <td>0&lt;=X&lt;200</td>\n",
       "      <td>48.0</td>\n",
       "      <td>existing paid</td>\n",
       "      <td>radio/tv</td>\n",
       "      <td>5951.0</td>\n",
       "      <td>&lt;100</td>\n",
       "      <td>1&lt;=X&lt;4</td>\n",
       "      <td>2.0</td>\n",
       "      <td>fe div/dep/mar</td>\n",
       "      <td>2.0</td>\n",
       "      <td>real estate</td>\n",
       "      <td>22.0</td>\n",
       "      <td>own</td>\n",
       "      <td>1.0</td>\n",
       "      <td>skilled</td>\n",
       "      <td>1.0</td>\n",
       "      <td>none</td>\n",
       "      <td>yes</td>\n",
       "      <td>1</td>\n",
       "      <td>0</td>\n",
       "    </tr>\n",
       "    <tr>\n",
       "      <th>2</th>\n",
       "      <td>no checking</td>\n",
       "      <td>12.0</td>\n",
       "      <td>critical/other existing credit</td>\n",
       "      <td>education</td>\n",
       "      <td>2096.0</td>\n",
       "      <td>&lt;100</td>\n",
       "      <td>4&lt;=X&lt;7</td>\n",
       "      <td>2.0</td>\n",
       "      <td>single</td>\n",
       "      <td>3.0</td>\n",
       "      <td>real estate</td>\n",
       "      <td>49.0</td>\n",
       "      <td>own</td>\n",
       "      <td>1.0</td>\n",
       "      <td>unskilled resident</td>\n",
       "      <td>2.0</td>\n",
       "      <td>none</td>\n",
       "      <td>yes</td>\n",
       "      <td>0</td>\n",
       "      <td>1</td>\n",
       "    </tr>\n",
       "    <tr>\n",
       "      <th>3</th>\n",
       "      <td>&lt;0</td>\n",
       "      <td>42.0</td>\n",
       "      <td>existing paid</td>\n",
       "      <td>furniture/equipment</td>\n",
       "      <td>7882.0</td>\n",
       "      <td>&lt;100</td>\n",
       "      <td>4&lt;=X&lt;7</td>\n",
       "      <td>2.0</td>\n",
       "      <td>single</td>\n",
       "      <td>4.0</td>\n",
       "      <td>life insurance</td>\n",
       "      <td>45.0</td>\n",
       "      <td>for free</td>\n",
       "      <td>1.0</td>\n",
       "      <td>skilled</td>\n",
       "      <td>2.0</td>\n",
       "      <td>none</td>\n",
       "      <td>yes</td>\n",
       "      <td>0</td>\n",
       "      <td>1</td>\n",
       "    </tr>\n",
       "    <tr>\n",
       "      <th>4</th>\n",
       "      <td>&lt;0</td>\n",
       "      <td>24.0</td>\n",
       "      <td>delayed previously</td>\n",
       "      <td>new car</td>\n",
       "      <td>4870.0</td>\n",
       "      <td>&lt;100</td>\n",
       "      <td>1&lt;=X&lt;4</td>\n",
       "      <td>3.0</td>\n",
       "      <td>single</td>\n",
       "      <td>4.0</td>\n",
       "      <td>no known property</td>\n",
       "      <td>53.0</td>\n",
       "      <td>for free</td>\n",
       "      <td>2.0</td>\n",
       "      <td>skilled</td>\n",
       "      <td>2.0</td>\n",
       "      <td>none</td>\n",
       "      <td>yes</td>\n",
       "      <td>1</td>\n",
       "      <td>1</td>\n",
       "    </tr>\n",
       "  </tbody>\n",
       "</table>\n",
       "</div>"
      ],
      "text/plain": [
       "    over_draft  credit_usage                  credit_history  \\\n",
       "0           <0           6.0  critical/other existing credit   \n",
       "1     0<=X<200          48.0                   existing paid   \n",
       "2  no checking          12.0  critical/other existing credit   \n",
       "3           <0          42.0                   existing paid   \n",
       "4           <0          24.0              delayed previously   \n",
       "\n",
       "               purpose  current_balance Average_Credit_Balance employment  \\\n",
       "0             radio/tv           1169.0       no known savings        >=7   \n",
       "1             radio/tv           5951.0                   <100     1<=X<4   \n",
       "2            education           2096.0                   <100     4<=X<7   \n",
       "3  furniture/equipment           7882.0                   <100     4<=X<7   \n",
       "4              new car           4870.0                   <100     1<=X<4   \n",
       "\n",
       "   location personal_status residence_since property_magnitude  cc_age  \\\n",
       "0       4.0          single             4.0        real estate    67.0   \n",
       "1       2.0  fe div/dep/mar             2.0        real estate    22.0   \n",
       "2       2.0          single             3.0        real estate    49.0   \n",
       "3       2.0          single             4.0     life insurance    45.0   \n",
       "4       3.0          single             4.0  no known property    53.0   \n",
       "\n",
       "    housing  existing_credits                 job  num_dependents  \\\n",
       "0       own               2.0             skilled             1.0   \n",
       "1       own               1.0             skilled             1.0   \n",
       "2       own               1.0  unskilled resident             2.0   \n",
       "3  for free               1.0             skilled             2.0   \n",
       "4  for free               2.0             skilled             2.0   \n",
       "\n",
       "  own_telephone foreign_worker  credit  gender  \n",
       "0           yes            yes       0       1  \n",
       "1          none            yes       1       0  \n",
       "2          none            yes       0       1  \n",
       "3          none            yes       0       1  \n",
       "4          none            yes       1       1  "
      ]
     },
     "execution_count": 10,
     "metadata": {},
     "output_type": "execute_result"
    }
   ],
   "source": [
    "new_df.head()"
   ]
  },
  {
   "cell_type": "code",
   "execution_count": 11,
   "metadata": {
    "scrolled": false
   },
   "outputs": [
    {
     "data": {
      "text/html": [
       "<div>\n",
       "<style scoped>\n",
       "    .dataframe tbody tr th:only-of-type {\n",
       "        vertical-align: middle;\n",
       "    }\n",
       "\n",
       "    .dataframe tbody tr th {\n",
       "        vertical-align: top;\n",
       "    }\n",
       "\n",
       "    .dataframe thead th {\n",
       "        text-align: right;\n",
       "    }\n",
       "</style>\n",
       "<table border=\"1\" class=\"dataframe\">\n",
       "  <thead>\n",
       "    <tr style=\"text-align: right;\">\n",
       "      <th></th>\n",
       "      <th>credit_usage</th>\n",
       "      <th>current_balance</th>\n",
       "      <th>location</th>\n",
       "      <th>cc_age</th>\n",
       "      <th>existing_credits</th>\n",
       "      <th>num_dependents</th>\n",
       "      <th>credit</th>\n",
       "      <th>gender</th>\n",
       "    </tr>\n",
       "  </thead>\n",
       "  <tbody>\n",
       "    <tr>\n",
       "      <th>credit_usage</th>\n",
       "      <td>1.000000</td>\n",
       "      <td>0.624984</td>\n",
       "      <td>0.074749</td>\n",
       "      <td>-0.036136</td>\n",
       "      <td>-0.011284</td>\n",
       "      <td>-0.023834</td>\n",
       "      <td>0.214927</td>\n",
       "      <td>0.081432</td>\n",
       "    </tr>\n",
       "    <tr>\n",
       "      <th>current_balance</th>\n",
       "      <td>0.624984</td>\n",
       "      <td>1.000000</td>\n",
       "      <td>-0.271316</td>\n",
       "      <td>0.032716</td>\n",
       "      <td>0.020795</td>\n",
       "      <td>0.017142</td>\n",
       "      <td>0.154739</td>\n",
       "      <td>0.093482</td>\n",
       "    </tr>\n",
       "    <tr>\n",
       "      <th>location</th>\n",
       "      <td>0.074749</td>\n",
       "      <td>-0.271316</td>\n",
       "      <td>1.000000</td>\n",
       "      <td>0.058266</td>\n",
       "      <td>0.021669</td>\n",
       "      <td>-0.071207</td>\n",
       "      <td>0.072404</td>\n",
       "      <td>0.086302</td>\n",
       "    </tr>\n",
       "    <tr>\n",
       "      <th>cc_age</th>\n",
       "      <td>-0.036136</td>\n",
       "      <td>0.032716</td>\n",
       "      <td>0.058266</td>\n",
       "      <td>1.000000</td>\n",
       "      <td>0.149254</td>\n",
       "      <td>0.118201</td>\n",
       "      <td>-0.091127</td>\n",
       "      <td>0.161694</td>\n",
       "    </tr>\n",
       "    <tr>\n",
       "      <th>existing_credits</th>\n",
       "      <td>-0.011284</td>\n",
       "      <td>0.020795</td>\n",
       "      <td>0.021669</td>\n",
       "      <td>0.149254</td>\n",
       "      <td>1.000000</td>\n",
       "      <td>0.109667</td>\n",
       "      <td>-0.045732</td>\n",
       "      <td>0.094260</td>\n",
       "    </tr>\n",
       "    <tr>\n",
       "      <th>num_dependents</th>\n",
       "      <td>-0.023834</td>\n",
       "      <td>0.017142</td>\n",
       "      <td>-0.071207</td>\n",
       "      <td>0.118201</td>\n",
       "      <td>0.109667</td>\n",
       "      <td>1.000000</td>\n",
       "      <td>-0.003015</td>\n",
       "      <td>0.203431</td>\n",
       "    </tr>\n",
       "    <tr>\n",
       "      <th>credit</th>\n",
       "      <td>0.214927</td>\n",
       "      <td>0.154739</td>\n",
       "      <td>0.072404</td>\n",
       "      <td>-0.091127</td>\n",
       "      <td>-0.045732</td>\n",
       "      <td>-0.003015</td>\n",
       "      <td>1.000000</td>\n",
       "      <td>-0.075493</td>\n",
       "    </tr>\n",
       "    <tr>\n",
       "      <th>gender</th>\n",
       "      <td>0.081432</td>\n",
       "      <td>0.093482</td>\n",
       "      <td>0.086302</td>\n",
       "      <td>0.161694</td>\n",
       "      <td>0.094260</td>\n",
       "      <td>0.203431</td>\n",
       "      <td>-0.075493</td>\n",
       "      <td>1.000000</td>\n",
       "    </tr>\n",
       "  </tbody>\n",
       "</table>\n",
       "</div>"
      ],
      "text/plain": [
       "                  credit_usage  current_balance  location    cc_age  \\\n",
       "credit_usage          1.000000         0.624984  0.074749 -0.036136   \n",
       "current_balance       0.624984         1.000000 -0.271316  0.032716   \n",
       "location              0.074749        -0.271316  1.000000  0.058266   \n",
       "cc_age               -0.036136         0.032716  0.058266  1.000000   \n",
       "existing_credits     -0.011284         0.020795  0.021669  0.149254   \n",
       "num_dependents       -0.023834         0.017142 -0.071207  0.118201   \n",
       "credit                0.214927         0.154739  0.072404 -0.091127   \n",
       "gender                0.081432         0.093482  0.086302  0.161694   \n",
       "\n",
       "                  existing_credits  num_dependents    credit    gender  \n",
       "credit_usage             -0.011284       -0.023834  0.214927  0.081432  \n",
       "current_balance           0.020795        0.017142  0.154739  0.093482  \n",
       "location                  0.021669       -0.071207  0.072404  0.086302  \n",
       "cc_age                    0.149254        0.118201 -0.091127  0.161694  \n",
       "existing_credits          1.000000        0.109667 -0.045732  0.094260  \n",
       "num_dependents            0.109667        1.000000 -0.003015  0.203431  \n",
       "credit                   -0.045732       -0.003015  1.000000 -0.075493  \n",
       "gender                    0.094260        0.203431 -0.075493  1.000000  "
      ]
     },
     "execution_count": 11,
     "metadata": {},
     "output_type": "execute_result"
    }
   ],
   "source": [
    "new_df.corr()"
   ]
  },
  {
   "cell_type": "code",
   "execution_count": 12,
   "metadata": {
    "scrolled": true
   },
   "outputs": [],
   "source": [
    "# Get dummies for all the categorical features\n",
    "new_df = pd.get_dummies(new_df, columns=['over_draft', 'credit_history', 'purpose', 'Average_Credit_Balance', 'employment', 'personal_status', 'property_magnitude', 'housing', 'job', 'own_telephone', 'foreign_worker'], drop_first=True)\n",
    "new_df = new_df.apply(pd.to_numeric)"
   ]
  },
  {
   "cell_type": "code",
   "execution_count": 13,
   "metadata": {
    "scrolled": false
   },
   "outputs": [
    {
     "data": {
      "text/html": [
       "<div>\n",
       "<style scoped>\n",
       "    .dataframe tbody tr th:only-of-type {\n",
       "        vertical-align: middle;\n",
       "    }\n",
       "\n",
       "    .dataframe tbody tr th {\n",
       "        vertical-align: top;\n",
       "    }\n",
       "\n",
       "    .dataframe thead th {\n",
       "        text-align: right;\n",
       "    }\n",
       "</style>\n",
       "<table border=\"1\" class=\"dataframe\">\n",
       "  <thead>\n",
       "    <tr style=\"text-align: right;\">\n",
       "      <th></th>\n",
       "      <th>credit_usage</th>\n",
       "      <th>current_balance</th>\n",
       "      <th>location</th>\n",
       "      <th>residence_since</th>\n",
       "      <th>cc_age</th>\n",
       "      <th>existing_credits</th>\n",
       "      <th>num_dependents</th>\n",
       "      <th>credit</th>\n",
       "      <th>gender</th>\n",
       "      <th>over_draft_&lt;0</th>\n",
       "      <th>...</th>\n",
       "      <th>property_magnitude_life insurance</th>\n",
       "      <th>property_magnitude_no known property</th>\n",
       "      <th>property_magnitude_real estate</th>\n",
       "      <th>housing_own</th>\n",
       "      <th>housing_rent</th>\n",
       "      <th>job_skilled</th>\n",
       "      <th>job_unemp/unskilled non res</th>\n",
       "      <th>job_unskilled resident</th>\n",
       "      <th>own_telephone_yes</th>\n",
       "      <th>foreign_worker_yes</th>\n",
       "    </tr>\n",
       "  </thead>\n",
       "  <tbody>\n",
       "    <tr>\n",
       "      <th>0</th>\n",
       "      <td>6.0</td>\n",
       "      <td>1169.0</td>\n",
       "      <td>4.0</td>\n",
       "      <td>4.0</td>\n",
       "      <td>67.0</td>\n",
       "      <td>2.0</td>\n",
       "      <td>1.0</td>\n",
       "      <td>0</td>\n",
       "      <td>1</td>\n",
       "      <td>1</td>\n",
       "      <td>...</td>\n",
       "      <td>0</td>\n",
       "      <td>0</td>\n",
       "      <td>1</td>\n",
       "      <td>1</td>\n",
       "      <td>0</td>\n",
       "      <td>1</td>\n",
       "      <td>0</td>\n",
       "      <td>0</td>\n",
       "      <td>1</td>\n",
       "      <td>1</td>\n",
       "    </tr>\n",
       "    <tr>\n",
       "      <th>1</th>\n",
       "      <td>48.0</td>\n",
       "      <td>5951.0</td>\n",
       "      <td>2.0</td>\n",
       "      <td>2.0</td>\n",
       "      <td>22.0</td>\n",
       "      <td>1.0</td>\n",
       "      <td>1.0</td>\n",
       "      <td>1</td>\n",
       "      <td>0</td>\n",
       "      <td>0</td>\n",
       "      <td>...</td>\n",
       "      <td>0</td>\n",
       "      <td>0</td>\n",
       "      <td>1</td>\n",
       "      <td>1</td>\n",
       "      <td>0</td>\n",
       "      <td>1</td>\n",
       "      <td>0</td>\n",
       "      <td>0</td>\n",
       "      <td>0</td>\n",
       "      <td>1</td>\n",
       "    </tr>\n",
       "    <tr>\n",
       "      <th>2</th>\n",
       "      <td>12.0</td>\n",
       "      <td>2096.0</td>\n",
       "      <td>2.0</td>\n",
       "      <td>3.0</td>\n",
       "      <td>49.0</td>\n",
       "      <td>1.0</td>\n",
       "      <td>2.0</td>\n",
       "      <td>0</td>\n",
       "      <td>1</td>\n",
       "      <td>0</td>\n",
       "      <td>...</td>\n",
       "      <td>0</td>\n",
       "      <td>0</td>\n",
       "      <td>1</td>\n",
       "      <td>1</td>\n",
       "      <td>0</td>\n",
       "      <td>0</td>\n",
       "      <td>0</td>\n",
       "      <td>1</td>\n",
       "      <td>0</td>\n",
       "      <td>1</td>\n",
       "    </tr>\n",
       "    <tr>\n",
       "      <th>3</th>\n",
       "      <td>42.0</td>\n",
       "      <td>7882.0</td>\n",
       "      <td>2.0</td>\n",
       "      <td>4.0</td>\n",
       "      <td>45.0</td>\n",
       "      <td>1.0</td>\n",
       "      <td>2.0</td>\n",
       "      <td>0</td>\n",
       "      <td>1</td>\n",
       "      <td>1</td>\n",
       "      <td>...</td>\n",
       "      <td>1</td>\n",
       "      <td>0</td>\n",
       "      <td>0</td>\n",
       "      <td>0</td>\n",
       "      <td>0</td>\n",
       "      <td>1</td>\n",
       "      <td>0</td>\n",
       "      <td>0</td>\n",
       "      <td>0</td>\n",
       "      <td>1</td>\n",
       "    </tr>\n",
       "    <tr>\n",
       "      <th>4</th>\n",
       "      <td>24.0</td>\n",
       "      <td>4870.0</td>\n",
       "      <td>3.0</td>\n",
       "      <td>4.0</td>\n",
       "      <td>53.0</td>\n",
       "      <td>2.0</td>\n",
       "      <td>2.0</td>\n",
       "      <td>1</td>\n",
       "      <td>1</td>\n",
       "      <td>1</td>\n",
       "      <td>...</td>\n",
       "      <td>0</td>\n",
       "      <td>1</td>\n",
       "      <td>0</td>\n",
       "      <td>0</td>\n",
       "      <td>0</td>\n",
       "      <td>1</td>\n",
       "      <td>0</td>\n",
       "      <td>0</td>\n",
       "      <td>0</td>\n",
       "      <td>1</td>\n",
       "    </tr>\n",
       "  </tbody>\n",
       "</table>\n",
       "<p>5 rows × 46 columns</p>\n",
       "</div>"
      ],
      "text/plain": [
       "   credit_usage  current_balance  location  residence_since  cc_age  \\\n",
       "0           6.0           1169.0       4.0              4.0    67.0   \n",
       "1          48.0           5951.0       2.0              2.0    22.0   \n",
       "2          12.0           2096.0       2.0              3.0    49.0   \n",
       "3          42.0           7882.0       2.0              4.0    45.0   \n",
       "4          24.0           4870.0       3.0              4.0    53.0   \n",
       "\n",
       "   existing_credits  num_dependents  credit  gender  over_draft_<0  \\\n",
       "0               2.0             1.0       0       1              1   \n",
       "1               1.0             1.0       1       0              0   \n",
       "2               1.0             2.0       0       1              0   \n",
       "3               1.0             2.0       0       1              1   \n",
       "4               2.0             2.0       1       1              1   \n",
       "\n",
       "          ...          property_magnitude_life insurance  \\\n",
       "0         ...                                          0   \n",
       "1         ...                                          0   \n",
       "2         ...                                          0   \n",
       "3         ...                                          1   \n",
       "4         ...                                          0   \n",
       "\n",
       "   property_magnitude_no known property  property_magnitude_real estate  \\\n",
       "0                                     0                               1   \n",
       "1                                     0                               1   \n",
       "2                                     0                               1   \n",
       "3                                     0                               0   \n",
       "4                                     1                               0   \n",
       "\n",
       "   housing_own  housing_rent  job_skilled  job_unemp/unskilled non res  \\\n",
       "0            1             0            1                            0   \n",
       "1            1             0            1                            0   \n",
       "2            1             0            0                            0   \n",
       "3            0             0            1                            0   \n",
       "4            0             0            1                            0   \n",
       "\n",
       "   job_unskilled resident  own_telephone_yes  foreign_worker_yes  \n",
       "0                       0                  1                   1  \n",
       "1                       0                  0                   1  \n",
       "2                       1                  0                   1  \n",
       "3                       0                  0                   1  \n",
       "4                       0                  0                   1  \n",
       "\n",
       "[5 rows x 46 columns]"
      ]
     },
     "execution_count": 13,
     "metadata": {},
     "output_type": "execute_result"
    }
   ],
   "source": [
    "new_df.head()"
   ]
  },
  {
   "cell_type": "code",
   "execution_count": 14,
   "metadata": {},
   "outputs": [],
   "source": [
    "# Repalce some signs in column name for later use\n",
    "new_df.columns = [str(x).replace('<','less_than').replace('>=','greater_than') for x in new_df.columns]"
   ]
  },
  {
   "cell_type": "code",
   "execution_count": 15,
   "metadata": {
    "scrolled": false
   },
   "outputs": [
    {
     "data": {
      "image/png": "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\n",
      "text/plain": [
       "<Figure size 540x540 with 12 Axes>"
      ]
     },
     "metadata": {},
     "output_type": "display_data"
    }
   ],
   "source": [
    "sns.pairplot(new_df[['credit_usage', 'current_balance', 'cc_age']]);"
   ]
  },
  {
   "cell_type": "code",
   "execution_count": 16,
   "metadata": {
    "scrolled": false
   },
   "outputs": [
    {
     "data": {
      "image/png": "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\n",
      "text/plain": [
       "<Figure size 432x288 with 1 Axes>"
      ]
     },
     "metadata": {},
     "output_type": "display_data"
    }
   ],
   "source": [
    "# Check if the data is imbalanced by plotting\n",
    "imbalanced_check = new_df.credit.astype('category')\n",
    "sns.countplot(imbalanced_check)\n",
    "plt.title('Imbalance Check', fontsize=18);"
   ]
  },
  {
   "cell_type": "code",
   "execution_count": 17,
   "metadata": {},
   "outputs": [
    {
     "name": "stdout",
     "output_type": "stream",
     "text": [
      "The percentage of bad: 0.3\n",
      "The percentage of good: 0.7\n"
     ]
    }
   ],
   "source": [
    "# Check the exact percentage\n",
    "print('The percentage of bad: ' + str(sum(new_df.credit) / len(new_df)))\n",
    "print('The percentage of good: ' + str(sum(new_df.credit == 0) / len(new_df)))"
   ]
  },
  {
   "cell_type": "code",
   "execution_count": 18,
   "metadata": {
    "scrolled": true
   },
   "outputs": [
    {
     "data": {
      "text/plain": [
       "credit\n",
       "0    33.333333\n",
       "1    14.285714\n",
       "Name: credit, dtype: float64"
      ]
     },
     "execution_count": 18,
     "metadata": {},
     "output_type": "execute_result"
    }
   ],
   "source": [
    "# Good - Logit ratio check (ratio should be greater than 10:1 to perform logit regression)\n",
    "logit_ratio = new_df.groupby(by='credit')['credit'].count()\n",
    "logit_ratio/21 # 21 features"
   ]
  },
  {
   "cell_type": "markdown",
   "metadata": {},
   "source": [
    "### Save as Pickle file"
   ]
  },
  {
   "cell_type": "code",
   "execution_count": 19,
   "metadata": {},
   "outputs": [],
   "source": [
    "file = open('credit_evaluation.pkl', 'wb')\n",
    "pickle.dump(new_df, file)\n",
    "file.close()"
   ]
  },
  {
   "cell_type": "markdown",
   "metadata": {},
   "source": [
    "### Baseline Model"
   ]
  },
  {
   "cell_type": "code",
   "execution_count": 20,
   "metadata": {},
   "outputs": [],
   "source": [
    "# Log the current balance column before use standard scaler\n",
    "new_df['log_current_balance'] = np.log(new_df.current_balance)\n",
    "new_df.drop('current_balance', axis=1, inplace=True)"
   ]
  },
  {
   "cell_type": "code",
   "execution_count": 21,
   "metadata": {},
   "outputs": [
    {
     "data": {
      "image/png": "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\n",
      "text/plain": [
       "<Figure size 432x288 with 1 Axes>"
      ]
     },
     "metadata": {},
     "output_type": "display_data"
    }
   ],
   "source": [
    "plt.hist(new_df.log_current_balance)\n",
    "plt.title('Check the distribution of current balance after log', fontsize=18);"
   ]
  },
  {
   "cell_type": "code",
   "execution_count": 22,
   "metadata": {},
   "outputs": [],
   "source": [
    "X = new_df.drop('credit', axis=1)\n",
    "y = new_df.credit"
   ]
  },
  {
   "cell_type": "code",
   "execution_count": 23,
   "metadata": {},
   "outputs": [],
   "source": [
    "# Split the data\n",
    "# Add stratify to keep the fraud at 7:3\n",
    "X_train, X_test, y_train, y_test = train_test_split(X, y, test_size=0.3, stratify=y, random_state=42)"
   ]
  },
  {
   "cell_type": "code",
   "execution_count": 24,
   "metadata": {},
   "outputs": [],
   "source": [
    "# Scale the data\n",
    "ssX = StandardScaler()\n",
    "X_train_scaled = ssX.fit_transform(X_train)\n",
    "X_test_scaled  = ssX.transform(X_test)"
   ]
  },
  {
   "cell_type": "code",
   "execution_count": 25,
   "metadata": {},
   "outputs": [],
   "source": [
    "# Normalize the data\n",
    "nor = Normalizer()\n",
    "X_train_nor = nor.fit_transform(X_train)\n",
    "X_test_nor = nor.transform(X_test)"
   ]
  },
  {
   "cell_type": "markdown",
   "metadata": {},
   "source": [
    "### Oversampling\n",
    "Since we only have 0.3 of fraud, we'll try oversampling to see if it helps"
   ]
  },
  {
   "cell_type": "code",
   "execution_count": 26,
   "metadata": {},
   "outputs": [],
   "source": [
    "# On scaled data \n",
    "X_train_scaled_smoted, y_train_scaled_smoted = SMOTE(random_state=42).fit_sample(X_train_scaled,y_train)"
   ]
  },
  {
   "cell_type": "code",
   "execution_count": 27,
   "metadata": {},
   "outputs": [
    {
     "name": "stdout",
     "output_type": "stream",
     "text": [
      "Counter({1: 490, 0: 490})\n"
     ]
    }
   ],
   "source": [
    "print(Counter(y_train_scaled_smoted))"
   ]
  },
  {
   "cell_type": "code",
   "execution_count": 28,
   "metadata": {},
   "outputs": [],
   "source": [
    "# One Normalized data\n",
    "X_train_nor_smoted, y_train_nor_smoted = SMOTE(random_state=42).fit_sample(X_train_nor,y_train)"
   ]
  },
  {
   "cell_type": "code",
   "execution_count": 29,
   "metadata": {},
   "outputs": [
    {
     "name": "stdout",
     "output_type": "stream",
     "text": [
      "Counter({1: 490, 0: 490})\n"
     ]
    }
   ],
   "source": [
    "print(Counter(y_train_nor_smoted))"
   ]
  },
  {
   "cell_type": "markdown",
   "metadata": {},
   "source": [
    "### Grid search on baseline model"
   ]
  },
  {
   "cell_type": "code",
   "execution_count": 30,
   "metadata": {},
   "outputs": [],
   "source": [
    "models = [('KNN', KNeighborsClassifier),\n",
    "          ('Logit', LogisticRegression),\n",
    "          ('DecisionTree', DecisionTreeClassifier),\n",
    "          ('RandomForest', RandomForestClassifier),\n",
    "          ('ExtraTrees', ExtraTreesClassifier),\n",
    "          ('GaussioanNB', GaussianNB),\n",
    "          ('XGboost', XGBClassifier)\n",
    "]\n",
    "\n",
    "param_choices = [\n",
    "    {\n",
    "        'n_neighbors': range(1,21),\n",
    "        'weights': ['uniform', 'distance']\n",
    "    },\n",
    "    {\n",
    "        'C': np.logspace(0,4,10),\n",
    "        'penalty': ['l1', 'l2']\n",
    "    },\n",
    "    {\n",
    "        'max_depth': [1,2,3,4,5],\n",
    "        'min_samples_leaf': [3,6,10]\n",
    "    },\n",
    "    {\n",
    "        'n_estimators': [50,100,200],\n",
    "        'max_depth': [1,2,3,4,5],\n",
    "        'min_samples_leaf': [3,6,10]\n",
    "    },\n",
    "    {\n",
    "        'n_estimators': [50,100,200],\n",
    "        'max_depth': [1,2,3,4,5],\n",
    "        'min_samples_leaf': [3,6,10]\n",
    "    },\n",
    "    {\n",
    "        'priors': [None]\n",
    "    },\n",
    "    {\n",
    "        'objective': ['binary:logistic'],\n",
    "        'n_estimators': [50,100,200],\n",
    "        'max_depth': [10,30,50],\n",
    "        'min_child_weight': [1,3,6],\n",
    "        'learning_rate': [0.05,0.1,1.0]\n",
    "    }\n",
    "    \n",
    "]"
   ]
  },
  {
   "cell_type": "code",
   "execution_count": 31,
   "metadata": {},
   "outputs": [
    {
     "name": "stdout",
     "output_type": "stream",
     "text": [
      "KNN: best score: 0.9489795918367347\n",
      "Logit: best score: 0.8408163265306122\n",
      "DecisionTree: best score: 0.9183673469387755\n",
      "RandomForest: best score: 0.826530612244898\n",
      "ExtraTrees: best score: 0.8489795918367347\n",
      "GaussioanNB: best score: 0.8346938775510204\n",
      "XGboost: best score: 0.8204081632653061\n"
     ]
    }
   ],
   "source": [
    "# On scaled X_train\n",
    "grids = {}\n",
    "for model_info, params in zip(models, param_choices):\n",
    "    name, model = model_info\n",
    "    grid = GridSearchCV(model(), params, cv=5, scoring='recall')\n",
    "    grid.fit(X_train_scaled_smoted, y_train_scaled_smoted)\n",
    "    s = f\"{name}: best score: {grid.best_score_}\"\n",
    "    print(s)\n",
    "    grids[name] = grid.best_estimator_"
   ]
  },
  {
   "cell_type": "code",
   "execution_count": 32,
   "metadata": {},
   "outputs": [
    {
     "data": {
      "text/plain": [
       "{'KNN': KNeighborsClassifier(algorithm='auto', leaf_size=30, metric='minkowski',\n",
       "            metric_params=None, n_jobs=1, n_neighbors=3, p=2,\n",
       "            weights='distance'),\n",
       " 'Logit': LogisticRegression(C=59.94842503189409, class_weight=None, dual=False,\n",
       "           fit_intercept=True, intercept_scaling=1, max_iter=100,\n",
       "           multi_class='ovr', n_jobs=1, penalty='l1', random_state=None,\n",
       "           solver='liblinear', tol=0.0001, verbose=0, warm_start=False),\n",
       " 'DecisionTree': DecisionTreeClassifier(class_weight=None, criterion='gini', max_depth=1,\n",
       "             max_features=None, max_leaf_nodes=None,\n",
       "             min_impurity_decrease=0.0, min_impurity_split=None,\n",
       "             min_samples_leaf=3, min_samples_split=2,\n",
       "             min_weight_fraction_leaf=0.0, presort=False, random_state=None,\n",
       "             splitter='best'),\n",
       " 'RandomForest': RandomForestClassifier(bootstrap=True, class_weight=None, criterion='gini',\n",
       "             max_depth=1, max_features='auto', max_leaf_nodes=None,\n",
       "             min_impurity_decrease=0.0, min_impurity_split=None,\n",
       "             min_samples_leaf=3, min_samples_split=2,\n",
       "             min_weight_fraction_leaf=0.0, n_estimators=100, n_jobs=1,\n",
       "             oob_score=False, random_state=None, verbose=0,\n",
       "             warm_start=False),\n",
       " 'ExtraTrees': ExtraTreesClassifier(bootstrap=False, class_weight=None, criterion='gini',\n",
       "            max_depth=5, max_features='auto', max_leaf_nodes=None,\n",
       "            min_impurity_decrease=0.0, min_impurity_split=None,\n",
       "            min_samples_leaf=3, min_samples_split=2,\n",
       "            min_weight_fraction_leaf=0.0, n_estimators=200, n_jobs=1,\n",
       "            oob_score=False, random_state=None, verbose=0, warm_start=False),\n",
       " 'GaussioanNB': GaussianNB(priors=None),\n",
       " 'XGboost': XGBClassifier(base_score=0.5, booster='gbtree', colsample_bylevel=1,\n",
       "        colsample_bytree=1, gamma=0, learning_rate=0.05, max_delta_step=0,\n",
       "        max_depth=30, min_child_weight=1, missing=None, n_estimators=200,\n",
       "        n_jobs=1, nthread=None, objective='binary:logistic', random_state=0,\n",
       "        reg_alpha=0, reg_lambda=1, scale_pos_weight=1, seed=None,\n",
       "        silent=True, subsample=1)}"
      ]
     },
     "execution_count": 32,
     "metadata": {},
     "output_type": "execute_result"
    }
   ],
   "source": [
    "grids"
   ]
  },
  {
   "cell_type": "code",
   "execution_count": 33,
   "metadata": {},
   "outputs": [],
   "source": [
    "# Best estimator for knn: n_estimators=3,  weights='distance'\n",
    "\n",
    "# Best estimator for DStree: max_depth=1, min_samples_leaf=3"
   ]
  },
  {
   "cell_type": "code",
   "execution_count": 34,
   "metadata": {},
   "outputs": [
    {
     "name": "stdout",
     "output_type": "stream",
     "text": [
      "0.8693877551020408\n"
     ]
    }
   ],
   "source": [
    "# SVM\n",
    "svm = SVC()\n",
    "scores = cross_val_score(svm, X_train_scaled_smoted, y_train_scaled_smoted, cv=5, scoring='recall')\n",
    "print(np.mean((scores)))"
   ]
  },
  {
   "cell_type": "code",
   "execution_count": 35,
   "metadata": {},
   "outputs": [
    {
     "name": "stdout",
     "output_type": "stream",
     "text": [
      "KNN: best score: 0.9530612244897959\n",
      "Logit: best score: 0.7775510204081633\n",
      "DecisionTree: best score: 0.8755102040816326\n",
      "RandomForest: best score: 0.8204081632653061\n",
      "ExtraTrees: best score: 0.8122448979591836\n",
      "GaussioanNB: best score: 0.746938775510204\n",
      "XGboost: best score: 0.8122448979591836\n"
     ]
    }
   ],
   "source": [
    "# On nor X_train\n",
    "grids = {}\n",
    "for model_info, params in zip(models, param_choices):\n",
    "    name, model = model_info\n",
    "    grid = GridSearchCV(model(), params, cv=5, scoring='recall')\n",
    "    grid.fit(X_train_nor_smoted, y_train_nor_smoted)\n",
    "    s = f\"{name}: best score: {grid.best_score_}\"\n",
    "    print(s)\n",
    "    grids[name] = grid.best_estimator_"
   ]
  },
  {
   "cell_type": "code",
   "execution_count": 36,
   "metadata": {},
   "outputs": [
    {
     "data": {
      "text/plain": [
       "{'KNN': KNeighborsClassifier(algorithm='auto', leaf_size=30, metric='minkowski',\n",
       "            metric_params=None, n_jobs=1, n_neighbors=1, p=2,\n",
       "            weights='uniform'),\n",
       " 'Logit': LogisticRegression(C=2.7825594022071245, class_weight=None, dual=False,\n",
       "           fit_intercept=True, intercept_scaling=1, max_iter=100,\n",
       "           multi_class='ovr', n_jobs=1, penalty='l1', random_state=None,\n",
       "           solver='liblinear', tol=0.0001, verbose=0, warm_start=False),\n",
       " 'DecisionTree': DecisionTreeClassifier(class_weight=None, criterion='gini', max_depth=1,\n",
       "             max_features=None, max_leaf_nodes=None,\n",
       "             min_impurity_decrease=0.0, min_impurity_split=None,\n",
       "             min_samples_leaf=3, min_samples_split=2,\n",
       "             min_weight_fraction_leaf=0.0, presort=False, random_state=None,\n",
       "             splitter='best'),\n",
       " 'RandomForest': RandomForestClassifier(bootstrap=True, class_weight=None, criterion='gini',\n",
       "             max_depth=5, max_features='auto', max_leaf_nodes=None,\n",
       "             min_impurity_decrease=0.0, min_impurity_split=None,\n",
       "             min_samples_leaf=3, min_samples_split=2,\n",
       "             min_weight_fraction_leaf=0.0, n_estimators=100, n_jobs=1,\n",
       "             oob_score=False, random_state=None, verbose=0,\n",
       "             warm_start=False),\n",
       " 'ExtraTrees': ExtraTreesClassifier(bootstrap=False, class_weight=None, criterion='gini',\n",
       "            max_depth=5, max_features='auto', max_leaf_nodes=None,\n",
       "            min_impurity_decrease=0.0, min_impurity_split=None,\n",
       "            min_samples_leaf=3, min_samples_split=2,\n",
       "            min_weight_fraction_leaf=0.0, n_estimators=50, n_jobs=1,\n",
       "            oob_score=False, random_state=None, verbose=0, warm_start=False),\n",
       " 'GaussioanNB': GaussianNB(priors=None),\n",
       " 'XGboost': XGBClassifier(base_score=0.5, booster='gbtree', colsample_bylevel=1,\n",
       "        colsample_bytree=1, gamma=0, learning_rate=1.0, max_delta_step=0,\n",
       "        max_depth=30, min_child_weight=1, missing=None, n_estimators=100,\n",
       "        n_jobs=1, nthread=None, objective='binary:logistic', random_state=0,\n",
       "        reg_alpha=0, reg_lambda=1, scale_pos_weight=1, seed=None,\n",
       "        silent=True, subsample=1)}"
      ]
     },
     "execution_count": 36,
     "metadata": {},
     "output_type": "execute_result"
    }
   ],
   "source": [
    "grids"
   ]
  },
  {
   "cell_type": "code",
   "execution_count": 37,
   "metadata": {},
   "outputs": [
    {
     "name": "stdout",
     "output_type": "stream",
     "text": [
      "0.44693877551020406\n"
     ]
    }
   ],
   "source": [
    "# SVM\n",
    "svm = SVC()\n",
    "scores = cross_val_score(svm, X_train_nor_smoted, y_train_nor_smoted, cv=5, scoring='recall')\n",
    "print(np.mean((scores)))"
   ]
  },
  {
   "cell_type": "markdown",
   "metadata": {},
   "source": [
    "### Find important features"
   ]
  },
  {
   "cell_type": "markdown",
   "metadata": {},
   "source": [
    "#### Removing features with low variance "
   ]
  },
  {
   "cell_type": "code",
   "execution_count": 38,
   "metadata": {
    "scrolled": true
   },
   "outputs": [],
   "source": [
    "# Remove all features that are either one or zero (on or off) in more than 60% of the samples\n",
    "select_var = VarianceThreshold(threshold=(0.6*(1-0.6))).fit(X_train)"
   ]
  },
  {
   "cell_type": "code",
   "execution_count": 39,
   "metadata": {
    "scrolled": true
   },
   "outputs": [
    {
     "name": "stdout",
     "output_type": "stream",
     "text": [
      "Index(['credit_usage', 'location', 'residence_since', 'cc_age',\n",
      "       'existing_credits', 'credit_history_existing paid',\n",
      "       'Average_Credit_Balance_less_than100', 'personal_status_ single',\n",
      "       'own_telephone_yes', 'log_current_balance'],\n",
      "      dtype='object')\n",
      "Number of selected features: 10\n"
     ]
    }
   ],
   "source": [
    "print(X_train[X_train.columns[select_var.get_support(indices=True)]].columns)\n",
    "print('Number of selected features: ' + str(len(X_train[X_train.columns[select_var.get_support(indices=True)]].columns)))"
   ]
  },
  {
   "cell_type": "markdown",
   "metadata": {},
   "source": [
    "#### Chi-squared"
   ]
  },
  {
   "cell_type": "code",
   "execution_count": 40,
   "metadata": {},
   "outputs": [],
   "source": [
    "# Select 10 features\n",
    "select_chi2 = SelectKBest(chi2, k=10).fit(X_train, y_train)"
   ]
  },
  {
   "cell_type": "code",
   "execution_count": 41,
   "metadata": {},
   "outputs": [
    {
     "data": {
      "text/plain": [
       "Index(['credit_usage', 'cc_age', 'over_draft_less_than0',\n",
       "       'over_draft_no checking',\n",
       "       'credit_history_critical/other existing credit',\n",
       "       'credit_history_no credits/all paid',\n",
       "       'Average_Credit_Balance_less_than100',\n",
       "       'Average_Credit_Balance_no known savings', 'employment_less_than1',\n",
       "       'property_magnitude_no known property'],\n",
       "      dtype='object')"
      ]
     },
     "execution_count": 41,
     "metadata": {},
     "output_type": "execute_result"
    }
   ],
   "source": [
    "X_train[X_train.columns[select_chi2.get_support(indices=True)]].columns"
   ]
  },
  {
   "cell_type": "markdown",
   "metadata": {},
   "source": [
    "#### Features for the new model\n",
    "\n",
    "* credit_usage\n",
    "* cc_age\n",
    "* credit_history\n",
    "* over_draft\n",
    "* Average_Credit_Balance"
   ]
  },
  {
   "cell_type": "markdown",
   "metadata": {},
   "source": [
    "### Grid search after feature selection"
   ]
  },
  {
   "cell_type": "code",
   "execution_count": 42,
   "metadata": {},
   "outputs": [
    {
     "data": {
      "text/plain": [
       "Index(['credit_usage', 'location', 'residence_since', 'cc_age',\n",
       "       'existing_credits', 'num_dependents', 'gender', 'over_draft_less_than0',\n",
       "       'over_draft_greater_than200', 'over_draft_no checking',\n",
       "       'credit_history_critical/other existing credit',\n",
       "       'credit_history_delayed previously', 'credit_history_existing paid',\n",
       "       'credit_history_no credits/all paid', 'purpose_domestic appliance',\n",
       "       'purpose_education', 'purpose_furniture/equipment', 'purpose_new car',\n",
       "       'purpose_other', 'purpose_radio/tv', 'purpose_repairs',\n",
       "       'purpose_retraining', 'purpose_used car',\n",
       "       'Average_Credit_Balance_500less_than=Xless_than1000',\n",
       "       'Average_Credit_Balance_less_than100',\n",
       "       'Average_Credit_Balance_greater_than1000',\n",
       "       'Average_Credit_Balance_no known savings',\n",
       "       'employment_4less_than=Xless_than7', 'employment_less_than1',\n",
       "       'employment_greater_than7', 'employment_unemployed',\n",
       "       'personal_status_ mar/wid', 'personal_status_ single',\n",
       "       'personal_status_fe div/dep/mar', 'property_magnitude_life insurance',\n",
       "       'property_magnitude_no known property',\n",
       "       'property_magnitude_real estate', 'housing_own', 'housing_rent',\n",
       "       'job_skilled', 'job_unemp/unskilled non res', 'job_unskilled resident',\n",
       "       'own_telephone_yes', 'foreign_worker_yes', 'log_current_balance'],\n",
       "      dtype='object')"
      ]
     },
     "execution_count": 42,
     "metadata": {},
     "output_type": "execute_result"
    }
   ],
   "source": [
    "X_train.columns"
   ]
  },
  {
   "cell_type": "code",
   "execution_count": 43,
   "metadata": {
    "scrolled": false
   },
   "outputs": [],
   "source": [
    "X_train_2 = X_train[['credit_usage','cc_age','credit_history_critical/other existing credit','credit_history_delayed previously','credit_history_existing paid','credit_history_no credits/all paid','over_draft_less_than0','over_draft_greater_than200','over_draft_no checking','Average_Credit_Balance_500less_than=Xless_than1000','Average_Credit_Balance_less_than100','Average_Credit_Balance_greater_than1000','Average_Credit_Balance_no known savings']]\n",
    "X_test_2 = X_test[['credit_usage','cc_age','credit_history_critical/other existing credit','credit_history_delayed previously','credit_history_existing paid','credit_history_no credits/all paid','over_draft_less_than0','over_draft_greater_than200','over_draft_no checking','Average_Credit_Balance_500less_than=Xless_than1000','Average_Credit_Balance_less_than100','Average_Credit_Balance_greater_than1000','Average_Credit_Balance_no known savings']]"
   ]
  },
  {
   "cell_type": "code",
   "execution_count": 44,
   "metadata": {},
   "outputs": [],
   "source": [
    "# Normalize new train set\n",
    "X_train_2_nor = nor.transform(X_train_2)\n",
    "X_test_2_nor = nor.transform(X_test_2)"
   ]
  },
  {
   "cell_type": "code",
   "execution_count": 45,
   "metadata": {},
   "outputs": [],
   "source": [
    "X_train_2_nor_smoted, y_train_2_nor_smoted = SMOTE(random_state=42).fit_sample(X_train_2_nor,y_train)"
   ]
  },
  {
   "cell_type": "code",
   "execution_count": 46,
   "metadata": {
    "scrolled": true
   },
   "outputs": [
    {
     "name": "stdout",
     "output_type": "stream",
     "text": [
      "KNN: best score: 0.9102040816326531\n",
      "Logit: best score: 0.8020408163265306\n",
      "DecisionTree: best score: 0.8938775510204081\n",
      "RandomForest: best score: 0.8183673469387756\n",
      "ExtraTrees: best score: 0.8306122448979592\n",
      "GaussioanNB: best score: 0.8204081632653061\n",
      "XGboost: best score: 0.8122448979591836\n"
     ]
    }
   ],
   "source": [
    "# On nor X_train\n",
    "grids_2 = {}\n",
    "for model_info, params in zip(models, param_choices):\n",
    "    name, model = model_info\n",
    "    grid = GridSearchCV(model(), params, cv=5, scoring='recall')\n",
    "    grid.fit(X_train_2_nor_smoted, y_train_2_nor_smoted)\n",
    "    s = f\"{name}: best score: {grid.best_score_}\"\n",
    "    print(s)\n",
    "    grids_2[name] = grid"
   ]
  },
  {
   "cell_type": "code",
   "execution_count": 47,
   "metadata": {},
   "outputs": [
    {
     "data": {
      "text/plain": [
       "{'KNN': GridSearchCV(cv=5, error_score='raise',\n",
       "        estimator=KNeighborsClassifier(algorithm='auto', leaf_size=30, metric='minkowski',\n",
       "            metric_params=None, n_jobs=1, n_neighbors=5, p=2,\n",
       "            weights='uniform'),\n",
       "        fit_params=None, iid=True, n_jobs=1,\n",
       "        param_grid={'n_neighbors': range(1, 21), 'weights': ['uniform', 'distance']},\n",
       "        pre_dispatch='2*n_jobs', refit=True, return_train_score='warn',\n",
       "        scoring='recall', verbose=0),\n",
       " 'Logit': GridSearchCV(cv=5, error_score='raise',\n",
       "        estimator=LogisticRegression(C=1.0, class_weight=None, dual=False, fit_intercept=True,\n",
       "           intercept_scaling=1, max_iter=100, multi_class='ovr', n_jobs=1,\n",
       "           penalty='l2', random_state=None, solver='liblinear', tol=0.0001,\n",
       "           verbose=0, warm_start=False),\n",
       "        fit_params=None, iid=True, n_jobs=1,\n",
       "        param_grid={'C': array([1.00000e+00, 2.78256e+00, 7.74264e+00, 2.15443e+01, 5.99484e+01,\n",
       "        1.66810e+02, 4.64159e+02, 1.29155e+03, 3.59381e+03, 1.00000e+04]), 'penalty': ['l1', 'l2']},\n",
       "        pre_dispatch='2*n_jobs', refit=True, return_train_score='warn',\n",
       "        scoring='recall', verbose=0),\n",
       " 'DecisionTree': GridSearchCV(cv=5, error_score='raise',\n",
       "        estimator=DecisionTreeClassifier(class_weight=None, criterion='gini', max_depth=None,\n",
       "             max_features=None, max_leaf_nodes=None,\n",
       "             min_impurity_decrease=0.0, min_impurity_split=None,\n",
       "             min_samples_leaf=1, min_samples_split=2,\n",
       "             min_weight_fraction_leaf=0.0, presort=False, random_state=None,\n",
       "             splitter='best'),\n",
       "        fit_params=None, iid=True, n_jobs=1,\n",
       "        param_grid={'max_depth': [1, 2, 3, 4, 5], 'min_samples_leaf': [3, 6, 10]},\n",
       "        pre_dispatch='2*n_jobs', refit=True, return_train_score='warn',\n",
       "        scoring='recall', verbose=0),\n",
       " 'RandomForest': GridSearchCV(cv=5, error_score='raise',\n",
       "        estimator=RandomForestClassifier(bootstrap=True, class_weight=None, criterion='gini',\n",
       "             max_depth=None, max_features='auto', max_leaf_nodes=None,\n",
       "             min_impurity_decrease=0.0, min_impurity_split=None,\n",
       "             min_samples_leaf=1, min_samples_split=2,\n",
       "             min_weight_fraction_leaf=0.0, n_estimators=10, n_jobs=1,\n",
       "             oob_score=False, random_state=None, verbose=0,\n",
       "             warm_start=False),\n",
       "        fit_params=None, iid=True, n_jobs=1,\n",
       "        param_grid={'n_estimators': [50, 100, 200], 'max_depth': [1, 2, 3, 4, 5], 'min_samples_leaf': [3, 6, 10]},\n",
       "        pre_dispatch='2*n_jobs', refit=True, return_train_score='warn',\n",
       "        scoring='recall', verbose=0),\n",
       " 'ExtraTrees': GridSearchCV(cv=5, error_score='raise',\n",
       "        estimator=ExtraTreesClassifier(bootstrap=False, class_weight=None, criterion='gini',\n",
       "            max_depth=None, max_features='auto', max_leaf_nodes=None,\n",
       "            min_impurity_decrease=0.0, min_impurity_split=None,\n",
       "            min_samples_leaf=1, min_samples_split=2,\n",
       "            min_weight_fraction_leaf=0.0, n_estimators=10, n_jobs=1,\n",
       "            oob_score=False, random_state=None, verbose=0, warm_start=False),\n",
       "        fit_params=None, iid=True, n_jobs=1,\n",
       "        param_grid={'n_estimators': [50, 100, 200], 'max_depth': [1, 2, 3, 4, 5], 'min_samples_leaf': [3, 6, 10]},\n",
       "        pre_dispatch='2*n_jobs', refit=True, return_train_score='warn',\n",
       "        scoring='recall', verbose=0),\n",
       " 'GaussioanNB': GridSearchCV(cv=5, error_score='raise', estimator=GaussianNB(priors=None),\n",
       "        fit_params=None, iid=True, n_jobs=1, param_grid={'priors': [None]},\n",
       "        pre_dispatch='2*n_jobs', refit=True, return_train_score='warn',\n",
       "        scoring='recall', verbose=0),\n",
       " 'XGboost': GridSearchCV(cv=5, error_score='raise',\n",
       "        estimator=XGBClassifier(base_score=0.5, booster='gbtree', colsample_bylevel=1,\n",
       "        colsample_bytree=1, gamma=0, learning_rate=0.1, max_delta_step=0,\n",
       "        max_depth=3, min_child_weight=1, missing=None, n_estimators=100,\n",
       "        n_jobs=1, nthread=None, objective='binary:logistic', random_state=0,\n",
       "        reg_alpha=0, reg_lambda=1, scale_pos_weight=1, seed=None,\n",
       "        silent=True, subsample=1),\n",
       "        fit_params=None, iid=True, n_jobs=1,\n",
       "        param_grid={'objective': ['binary:logistic'], 'n_estimators': [50, 100, 200], 'max_depth': [10, 30, 50], 'min_child_weight': [1, 3, 6], 'learning_rate': [0.05, 0.1, 1.0]},\n",
       "        pre_dispatch='2*n_jobs', refit=True, return_train_score='warn',\n",
       "        scoring='recall', verbose=0)}"
      ]
     },
     "execution_count": 47,
     "metadata": {},
     "output_type": "execute_result"
    }
   ],
   "source": [
    "grids_2"
   ]
  },
  {
   "cell_type": "code",
   "execution_count": 48,
   "metadata": {
    "scrolled": true
   },
   "outputs": [
    {
     "name": "stdout",
     "output_type": "stream",
     "text": [
      "0.5\n"
     ]
    }
   ],
   "source": [
    "# SVM\n",
    "svm = SVC()\n",
    "scores = cross_val_score(svm, X_train_2_nor_smoted, y_train_2_nor_smoted, cv=5, scoring='recall')\n",
    "print(np.mean((scores)))"
   ]
  },
  {
   "cell_type": "markdown",
   "metadata": {},
   "source": [
    "### KNN Confusion Matrix"
   ]
  },
  {
   "cell_type": "code",
   "execution_count": 49,
   "metadata": {},
   "outputs": [
    {
     "data": {
      "text/plain": [
       "KNeighborsClassifier(algorithm='auto', leaf_size=30, metric='minkowski',\n",
       "           metric_params=None, n_jobs=1, n_neighbors=10, p=2,\n",
       "           weights='distance')"
      ]
     },
     "execution_count": 49,
     "metadata": {},
     "output_type": "execute_result"
    }
   ],
   "source": [
    "knn = KNeighborsClassifier(n_neighbors=10, weights='distance')\n",
    "knn.fit(X_train_2_nor_smoted, y_train_2_nor_smoted)"
   ]
  },
  {
   "cell_type": "code",
   "execution_count": 50,
   "metadata": {},
   "outputs": [
    {
     "name": "stdout",
     "output_type": "stream",
     "text": [
      "precision_score: 0.45255474452554745\n",
      "recall_score: 0.6888888888888889\n",
      "accuracy_score: 0.6566666666666666\n"
     ]
    }
   ],
   "source": [
    "y_test_pred = knn.predict(X_test_2_nor)\n",
    "print('precision_score: ' + str(precision_score(y_test, y_test_pred)))\n",
    "print('recall_score: '+ str(recall_score(y_test, y_test_pred)))\n",
    "print('accuracy_score: ' + str(accuracy_score(y_test, y_test_pred)))"
   ]
  },
  {
   "cell_type": "code",
   "execution_count": 51,
   "metadata": {
    "scrolled": false
   },
   "outputs": [
    {
     "data": {
      "image/png": "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\n",
      "text/plain": [
       "<Figure size 900x600 with 2 Axes>"
      ]
     },
     "metadata": {},
     "output_type": "display_data"
    }
   ],
   "source": [
    "knn_confusion_with_default_threshold = confusion_matrix(y_test, knn.predict(X_test_2_nor))\n",
    "plt.figure(dpi=150)\n",
    "sns.heatmap(knn_confusion_with_default_threshold, cmap=plt.cm.Blues, annot=True, square=True,\n",
    "           xticklabels=['good', 'bad'],\n",
    "           yticklabels=['good', 'bad'])\n",
    "\n",
    "plt.xlabel('Predicted Values')\n",
    "plt.ylabel('Actual Values')\n",
    "plt.title('KNN confusion matrix');"
   ]
  },
  {
   "cell_type": "markdown",
   "metadata": {},
   "source": [
    "### Precision-recall curve for KNN"
   ]
  },
  {
   "cell_type": "code",
   "execution_count": 52,
   "metadata": {},
   "outputs": [
    {
     "data": {
      "image/png": "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\n",
      "text/plain": [
       "<Figure size 432x288 with 1 Axes>"
      ]
     },
     "metadata": {},
     "output_type": "display_data"
    }
   ],
   "source": [
    "precision_curve, recall_curve, threshold_curve = precision_recall_curve(y_test, knn.predict_proba(X_test_2_nor)[:,1])\n",
    "\n",
    "plt.plot(threshold_curve, precision_curve[1:],label='precision')\n",
    "plt.plot(threshold_curve, recall_curve[1:], label='recall')\n",
    "plt.legend(loc='lower left')\n",
    "plt.xlabel('threshold (above this probability, label as bad)')\n",
    "plt.title('Precision-recall curve', fontsize=18);"
   ]
  },
  {
   "cell_type": "code",
   "execution_count": 53,
   "metadata": {},
   "outputs": [],
   "source": [
    "def make_confusion_matrix(model, threshold=0.5, dpi=130):\n",
    "    # (model.predict(X_test) does this automatically with a threshold of 0.5)\n",
    "    y_predict = (model.predict_proba(X_test_2_nor)[:, 1] >= threshold)\n",
    "    fraud_confusion = confusion_matrix(y_test, y_predict)\n",
    "    plt.figure(dpi=dpi)\n",
    "    sns.heatmap(fraud_confusion, cmap=plt.cm.Blues, annot=True, square=True, fmt='d',\n",
    "           xticklabels=['good', 'bad'],\n",
    "           yticklabels=['good', 'bad']);\n",
    "    plt.xlabel('Prediction', fontsize=18)\n",
    "    plt.ylabel('Actual', fontsize=18)\n",
    "    plt.title('Confusion Matrix', fontsize=18)"
   ]
  },
  {
   "cell_type": "code",
   "execution_count": 54,
   "metadata": {
    "scrolled": false
   },
   "outputs": [
    {
     "data": {
      "image/png": "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\n",
      "text/plain": [
       "<Figure size 780x520 with 2 Axes>"
      ]
     },
     "metadata": {},
     "output_type": "display_data"
    }
   ],
   "source": [
    "make_confusion_matrix(knn, threshold=0.7)"
   ]
  },
  {
   "cell_type": "markdown",
   "metadata": {},
   "source": [
    "### The ROC curve for KNN"
   ]
  },
  {
   "cell_type": "code",
   "execution_count": 55,
   "metadata": {},
   "outputs": [],
   "source": [
    "fpr, tpr, thresholds = roc_curve(y_test, knn.predict_proba(X_test_2_nor)[:,1])"
   ]
  },
  {
   "cell_type": "code",
   "execution_count": 56,
   "metadata": {},
   "outputs": [
    {
     "name": "stdout",
     "output_type": "stream",
     "text": [
      "ROC AUC score =  0.6891005291005291\n"
     ]
    },
    {
     "data": {
      "image/png": "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\n",
      "text/plain": [
       "<Figure size 432x288 with 1 Axes>"
      ]
     },
     "metadata": {},
     "output_type": "display_data"
    }
   ],
   "source": [
    "plt.plot(fpr, tpr,lw=2)\n",
    "plt.plot([0,1],[0,1],c='r',ls='--')\n",
    "plt.xlim([-0.05,1.05])\n",
    "plt.ylim([-0.05,1.05])\n",
    "\n",
    "\n",
    "plt.xlabel('False positive rate')\n",
    "plt.ylabel('True positive rate')\n",
    "plt.title('ROC curve for credit problem');\n",
    "print(\"ROC AUC score = \", roc_auc_score(y_test, knn.predict_proba(X_test_2_nor)[:,1]))"
   ]
  },
  {
   "cell_type": "markdown",
   "metadata": {},
   "source": [
    "### Decision Tree Confusion Matrix"
   ]
  },
  {
   "cell_type": "code",
   "execution_count": 57,
   "metadata": {},
   "outputs": [
    {
     "data": {
      "text/plain": [
       "DecisionTreeClassifier(class_weight=None, criterion='gini', max_depth=1,\n",
       "            max_features=None, max_leaf_nodes=None,\n",
       "            min_impurity_decrease=0.0, min_impurity_split=None,\n",
       "            min_samples_leaf=3, min_samples_split=2,\n",
       "            min_weight_fraction_leaf=0.0, presort=False, random_state=None,\n",
       "            splitter='best')"
      ]
     },
     "execution_count": 57,
     "metadata": {},
     "output_type": "execute_result"
    }
   ],
   "source": [
    "dtree = DecisionTreeClassifier(max_depth=1,min_samples_leaf=3)\n",
    "dtree.fit(X_train_2_nor_smoted, y_train_2_nor_smoted)"
   ]
  },
  {
   "cell_type": "code",
   "execution_count": 58,
   "metadata": {},
   "outputs": [
    {
     "name": "stdout",
     "output_type": "stream",
     "text": [
      "precision_score: 0.4095744680851064\n",
      "recall_score: 0.8555555555555555\n",
      "accuracy_score: 0.5866666666666667\n"
     ]
    }
   ],
   "source": [
    "y_test_pred = dtree.predict(X_test_2_nor)\n",
    "print('precision_score: ' + str(precision_score(y_test, y_test_pred)))\n",
    "print('recall_score: '+ str(recall_score(y_test, y_test_pred)))\n",
    "print('accuracy_score: ' + str(accuracy_score(y_test, y_test_pred)))"
   ]
  },
  {
   "cell_type": "code",
   "execution_count": 59,
   "metadata": {},
   "outputs": [
    {
     "data": {
      "image/png": "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\n",
      "text/plain": [
       "<Figure size 900x600 with 2 Axes>"
      ]
     },
     "metadata": {},
     "output_type": "display_data"
    }
   ],
   "source": [
    "dtree_confusion_with_default_threshold = confusion_matrix(y_test, y_test_pred)\n",
    "plt.figure(dpi=150)\n",
    "sns.heatmap(dtree_confusion_with_default_threshold, cmap=plt.cm.Blues, annot=True, square=True,\n",
    "           xticklabels=['good', 'bad'],\n",
    "           yticklabels=['good', 'bad'])\n",
    "\n",
    "plt.xlabel('Predicted Values')\n",
    "plt.ylabel('Actual Values')\n",
    "plt.title('Decision Tree confusion matrix');"
   ]
  },
  {
   "cell_type": "markdown",
   "metadata": {},
   "source": [
    "### Precision-recall curve for Decision Tree"
   ]
  },
  {
   "cell_type": "code",
   "execution_count": 60,
   "metadata": {},
   "outputs": [
    {
     "data": {
      "image/png": "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\n",
      "text/plain": [
       "<Figure size 432x288 with 1 Axes>"
      ]
     },
     "metadata": {},
     "output_type": "display_data"
    }
   ],
   "source": [
    "precision_curve, recall_curve, threshold_curve = precision_recall_curve(y_test, dtree.predict_proba(X_test_2_nor)[:,1])\n",
    "\n",
    "plt.plot(threshold_curve, precision_curve[1:],label='precision')\n",
    "plt.plot(threshold_curve, recall_curve[1:], label='recall')\n",
    "plt.legend(loc='lower left')\n",
    "plt.xlabel('threshold (above this probability, label as bad)')\n",
    "plt.title('Precision-recall curve', fontsize=18);"
   ]
  },
  {
   "cell_type": "markdown",
   "metadata": {},
   "source": [
    "### The ROC curve for Decision Tree"
   ]
  },
  {
   "cell_type": "code",
   "execution_count": 61,
   "metadata": {},
   "outputs": [],
   "source": [
    "fpr, tpr, thresholds = roc_curve(y_test, dtree.predict_proba(X_test_2_nor)[:,1])"
   ]
  },
  {
   "cell_type": "code",
   "execution_count": 62,
   "metadata": {},
   "outputs": [
    {
     "name": "stdout",
     "output_type": "stream",
     "text": [
      "ROC AUC score =  0.6634920634920635\n"
     ]
    },
    {
     "data": {
      "image/png": "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\n",
      "text/plain": [
       "<Figure size 432x288 with 1 Axes>"
      ]
     },
     "metadata": {},
     "output_type": "display_data"
    }
   ],
   "source": [
    "plt.plot(fpr, tpr,lw=2)\n",
    "plt.plot([0,1],[0,1],c='r',ls='--')\n",
    "plt.xlim([-0.05,1.05])\n",
    "plt.ylim([-0.05,1.05])\n",
    "\n",
    "\n",
    "plt.xlabel('False positive rate')\n",
    "plt.ylabel('True positive rate')\n",
    "plt.title('ROC curve for credit problem');\n",
    "print(\"ROC AUC score = \", roc_auc_score(y_test, dtree.predict_proba(X_test_2_nor)[:,1]))"
   ]
  },
  {
   "cell_type": "markdown",
   "metadata": {},
   "source": [
    "### Random Forest Confusion Matrix"
   ]
  },
  {
   "cell_type": "code",
   "execution_count": 66,
   "metadata": {},
   "outputs": [
    {
     "name": "stdout",
     "output_type": "stream",
     "text": [
      "0.8142857142857143\n"
     ]
    }
   ],
   "source": [
    "rf = RandomForestClassifier(max_depth=1, min_samples_leaf=6, n_estimators=50)\n",
    "rf.fit(X_train_2_nor_smoted, y_train_2_nor_smoted)\n",
    "y_train_pred = rf.predict(X_train_2_nor_smoted)\n",
    "print(recall_score(y_train_2_nor_smoted, y_train_pred))"
   ]
  },
  {
   "cell_type": "code",
   "execution_count": 67,
   "metadata": {},
   "outputs": [
    {
     "name": "stdout",
     "output_type": "stream",
     "text": [
      "precision_score: 0.5074626865671642\n",
      "recall_score: 0.7555555555555555\n",
      "accuracy_score: 0.7066666666666667\n"
     ]
    }
   ],
   "source": [
    "y_test_pred = rf.predict(X_test_2_nor)\n",
    "print('precision_score: ' + str(precision_score(y_test, y_test_pred)))\n",
    "print('recall_score: '+ str(recall_score(y_test, y_test_pred)))\n",
    "print('accuracy_score: ' + str(accuracy_score(y_test, y_test_pred)))"
   ]
  },
  {
   "cell_type": "code",
   "execution_count": 68,
   "metadata": {},
   "outputs": [
    {
     "data": {
      "image/png": "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\n",
      "text/plain": [
       "<Figure size 900x600 with 2 Axes>"
      ]
     },
     "metadata": {},
     "output_type": "display_data"
    }
   ],
   "source": [
    "rf_confusion_with_default_threshold = confusion_matrix(y_test, y_test_pred)\n",
    "plt.figure(dpi=150)\n",
    "sns.heatmap(rf_confusion_with_default_threshold, cmap=plt.cm.Blues, annot=True, square=True,\n",
    "           xticklabels=['good', 'bad'],\n",
    "           yticklabels=['good', 'bad'])\n",
    "\n",
    "plt.xlabel('Predicted Values')\n",
    "plt.ylabel('Actual Values')\n",
    "plt.title('Random Forest confusion matrix');"
   ]
  },
  {
   "cell_type": "markdown",
   "metadata": {},
   "source": [
    "### Precision-recall curve for Random Forest"
   ]
  },
  {
   "cell_type": "code",
   "execution_count": 199,
   "metadata": {},
   "outputs": [
    {
     "data": {
      "image/png": "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\n",
      "text/plain": [
       "<Figure size 576x396 with 1 Axes>"
      ]
     },
     "metadata": {},
     "output_type": "display_data"
    }
   ],
   "source": [
    "precision_curve, recall_curve, threshold_curve = precision_recall_curve(y_test, rf.predict_proba(X_test_2_nor)[:,1])\n",
    "\n",
    "plt.plot(threshold_curve, precision_curve[1:],label='precision')\n",
    "plt.plot(threshold_curve, recall_curve[1:], label='recall')\n",
    "plt.legend(loc='lower left')\n",
    "plt.xlabel('threshold')\n",
    "plt.title('Precision-recall curve', fontsize=20);"
   ]
  },
  {
   "cell_type": "code",
   "execution_count": 209,
   "metadata": {},
   "outputs": [
    {
     "data": {
      "image/png": "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\n",
      "text/plain": [
       "<Figure size 1040x715 with 2 Axes>"
      ]
     },
     "metadata": {},
     "output_type": "display_data"
    }
   ],
   "source": [
    "make_confusion_matrix(rf, threshold=0.4, dpi=130)"
   ]
  },
  {
   "cell_type": "markdown",
   "metadata": {},
   "source": [
    "### The ROC curve for Random Forest"
   ]
  },
  {
   "cell_type": "code",
   "execution_count": 107,
   "metadata": {},
   "outputs": [],
   "source": [
    "fpr, tpr, thresholds = roc_curve(y_test, rf.predict_proba(X_test_2_nor)[:,1])"
   ]
  },
  {
   "cell_type": "code",
   "execution_count": 108,
   "metadata": {},
   "outputs": [
    {
     "name": "stdout",
     "output_type": "stream",
     "text": [
      "ROC AUC score =  0.7380687830687831\n"
     ]
    },
    {
     "data": {
      "image/png": "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\n",
      "text/plain": [
       "<Figure size 576x396 with 1 Axes>"
      ]
     },
     "metadata": {},
     "output_type": "display_data"
    }
   ],
   "source": [
    "plt.plot(fpr, tpr,lw=2)\n",
    "plt.plot([0,1],[0,1],c='r',ls='--')\n",
    "plt.xlim([-0.05,1.05])\n",
    "plt.ylim([-0.05,1.05])\n",
    "\n",
    "\n",
    "plt.xlabel('False positive rate')\n",
    "plt.ylabel('True positive rate')\n",
    "plt.title('ROC curve for credit problem');\n",
    "print(\"ROC AUC score = \", roc_auc_score(y_test, rf.predict_proba(X_test_2_nor)[:,1]))"
   ]
  },
  {
   "cell_type": "code",
   "execution_count": 134,
   "metadata": {},
   "outputs": [
    {
     "name": "stdout",
     "output_type": "stream",
     "text": [
      "             precision    recall  f1-score   support\n",
      "\n",
      "    class 0       0.87      0.67      0.75       210\n",
      "    class 1       0.50      0.77      0.60        90\n",
      "\n",
      "avg / total       0.76      0.70      0.71       300\n",
      "\n"
     ]
    }
   ],
   "source": [
    "target_names = ['class 0', 'class 1']\n",
    "print(classification_report(y_test, rf.predict(X_test_2_nor), target_names=target_names))"
   ]
  },
  {
   "cell_type": "markdown",
   "metadata": {},
   "source": [
    "### For API"
   ]
  },
  {
   "cell_type": "code",
   "execution_count": 119,
   "metadata": {},
   "outputs": [
    {
     "data": {
      "text/plain": [
       "RandomForestClassifier(bootstrap=True, class_weight=None, criterion='gini',\n",
       "            max_depth=1, max_features='auto', max_leaf_nodes=None,\n",
       "            min_impurity_decrease=0.0, min_impurity_split=None,\n",
       "            min_samples_leaf=6, min_samples_split=2,\n",
       "            min_weight_fraction_leaf=0.0, n_estimators=200, n_jobs=1,\n",
       "            oob_score=False, random_state=None, verbose=0,\n",
       "            warm_start=False)"
      ]
     },
     "execution_count": 119,
     "metadata": {},
     "output_type": "execute_result"
    }
   ],
   "source": [
    "grids_2['RandomForest'].best_estimator_"
   ]
  },
  {
   "cell_type": "code",
   "execution_count": 120,
   "metadata": {},
   "outputs": [
    {
     "data": {
      "text/plain": [
       "0.7166666666666667"
      ]
     },
     "execution_count": 120,
     "metadata": {},
     "output_type": "execute_result"
    }
   ],
   "source": [
    "grids_2['RandomForest'].best_estimator_.score(X_test_2_nor, y_test)"
   ]
  },
  {
   "cell_type": "code",
   "execution_count": 121,
   "metadata": {},
   "outputs": [],
   "source": [
    "Selected_X = X[['credit_usage','cc_age','credit_history_critical/other existing credit','credit_history_delayed previously','credit_history_existing paid','credit_history_no credits/all paid','over_draft_less_than0','over_draft_greater_than200','over_draft_no checking','Average_Credit_Balance_500less_than=Xless_than1000','Average_Credit_Balance_less_than100','Average_Credit_Balance_greater_than1000','Average_Credit_Balance_no known savings']]\n",
    "Selected_y = y"
   ]
  },
  {
   "cell_type": "code",
   "execution_count": 122,
   "metadata": {},
   "outputs": [
    {
     "data": {
      "text/plain": [
       "Pipeline(memory=None,\n",
       "     steps=[('normalizer', Normalizer(copy=True, norm='l2')), ('randomforest', RandomForestClassifier(bootstrap=True, class_weight=None, criterion='gini',\n",
       "            max_depth=1, max_features='auto', max_leaf_nodes=None,\n",
       "            min_impurity_decrease=0.0, min_impurity_split=None,\n",
       "            min_samples_leaf=6, min_samples_split=2,\n",
       "            min_weight_fraction_leaf=0.0, n_estimators=200, n_jobs=1,\n",
       "            oob_score=False, random_state=None, verbose=0,\n",
       "            warm_start=False))])"
      ]
     },
     "execution_count": 122,
     "metadata": {},
     "output_type": "execute_result"
    }
   ],
   "source": [
    "from sklearn.pipeline import Pipeline\n",
    "\n",
    "pipeline = Pipeline([('normalizer', Normalizer()),\n",
    "                     ('randomforest', RandomForestClassifier(**grids_2['RandomForest'].best_params_))])\n",
    "\n",
    "pipeline.fit(Selected_X, Selected_y)"
   ]
  },
  {
   "cell_type": "code",
   "execution_count": 123,
   "metadata": {},
   "outputs": [],
   "source": [
    "import pickle\n",
    "\n",
    "pickle.dump(pipeline, open('model.pkl', 'wb'))"
   ]
  },
  {
   "cell_type": "markdown",
   "metadata": {},
   "source": [
    "### Make model for prediction "
   ]
  },
  {
   "cell_type": "code",
   "execution_count": 488,
   "metadata": {
    "scrolled": false
   },
   "outputs": [
    {
     "data": {
      "text/plain": [
       "credit_usage                                          12.0\n",
       "cc_age                                                25.0\n",
       "credit_history_critical/other existing credit          0.0\n",
       "credit_history_delayed previously                      0.0\n",
       "credit_history_existing paid                           1.0\n",
       "credit_history_no credits/all paid                     0.0\n",
       "over_draft_less_than0                                  0.0\n",
       "over_draft_greater_than200                             0.0\n",
       "over_draft_no checking                                 0.0\n",
       "Average_Credit_Balance_500less_than=Xless_than1000     0.0\n",
       "Average_Credit_Balance_less_than100                    1.0\n",
       "Average_Credit_Balance_greater_than1000                0.0\n",
       "Average_Credit_Balance_no known savings                0.0\n",
       "Name: 10, dtype: float64"
      ]
     },
     "execution_count": 488,
     "metadata": {},
     "output_type": "execute_result"
    }
   ],
   "source": [
    "X_train_2.iloc[0]"
   ]
  },
  {
   "cell_type": "code",
   "execution_count": 499,
   "metadata": {},
   "outputs": [
    {
     "data": {
      "text/plain": [
       "75.0"
      ]
     },
     "execution_count": 499,
     "metadata": {},
     "output_type": "execute_result"
    }
   ],
   "source": [
    "X_train_2.cc_age.max()"
   ]
  },
  {
   "cell_type": "code",
   "execution_count": 500,
   "metadata": {},
   "outputs": [
    {
     "data": {
      "text/plain": [
       "19.0"
      ]
     },
     "execution_count": 500,
     "metadata": {},
     "output_type": "execute_result"
    }
   ],
   "source": [
    "X_train_2.cc_age.min()"
   ]
  },
  {
   "cell_type": "code",
   "execution_count": 490,
   "metadata": {},
   "outputs": [],
   "source": [
    "example = {\n",
    "    'credit_usage': 12.0,\n",
    "    'cc_age': 25.0,\n",
    "    'credit_history_critical/other existing credit': 0,\n",
    "    'credit_history_delayed previously': 0,\n",
    "    'credit_history_existing paid': 1,\n",
    "    'credit_history_no credits/all paid': 0,\n",
    "    'over_draft_less_than0': 0,\n",
    "    'over_draft_greater_than200': 0,\n",
    "    'over_draft_no checking': 0,\n",
    "    'Average_Credit_Balance_500less_than=Xless_than1000': 0,\n",
    "    'Average_Credit_Balance_less_than100': 1,\n",
    "    'Average_Credit_Balance_greater_than1000': 0,\n",
    "    'Average_Credit_Balance_no known savings': 0\n",
    "}\n",
    "\n",
    "def make_prediction(features):\n",
    "    X = np.array([features['credit_usage'], features['cc_age'], \n",
    "                  features['credit_history_critical/other existing credit'], \n",
    "                  features['credit_history_delayed previously'], \n",
    "                  features['credit_history_existing paid'], \n",
    "                  features['credit_history_no credits/all paid'], \n",
    "                  features['over_draft_less_than0'], \n",
    "                  features['over_draft_greater_than200'],\n",
    "                  features['over_draft_no checking'],\n",
    "                  features['Average_Credit_Balance_500less_than=Xless_than1000'],\n",
    "                  features['Average_Credit_Balance_less_than100'],\n",
    "                  features['Average_Credit_Balance_greater_than1000'],\n",
    "                  features['Average_Credit_Balance_no known savings']\n",
    "                 ]).reshape(1,-1)\n",
    "    prob_survived = pipeline.predict_proba(X)[0, 1]\n",
    "    \n",
    "    result = {\n",
    "        'prediction': int(prob_survived > 0.5),\n",
    "        'prob_survived': prob_survived\n",
    "    }\n",
    "    return result"
   ]
  },
  {
   "cell_type": "code",
   "execution_count": 491,
   "metadata": {},
   "outputs": [
    {
     "data": {
      "text/plain": [
       "{'prediction': 0, 'prob_survived': 0.31956969446605504}"
      ]
     },
     "execution_count": 491,
     "metadata": {},
     "output_type": "execute_result"
    }
   ],
   "source": [
    "make_prediction(example)"
   ]
  },
  {
   "cell_type": "code",
   "execution_count": 494,
   "metadata": {
    "scrolled": true
   },
   "outputs": [
    {
     "data": {
      "text/plain": [
       "array([[0.68235454, 0.31764546]])"
      ]
     },
     "execution_count": 494,
     "metadata": {},
     "output_type": "execute_result"
    }
   ],
   "source": [
    "pipeline.predict_proba(Selected_X.iloc[0].values.reshape(1,-1))"
   ]
  },
  {
   "cell_type": "code",
   "execution_count": null,
   "metadata": {},
   "outputs": [],
   "source": []
  },
  {
   "cell_type": "code",
   "execution_count": null,
   "metadata": {},
   "outputs": [],
   "source": []
  },
  {
   "cell_type": "code",
   "execution_count": null,
   "metadata": {},
   "outputs": [],
   "source": []
  },
  {
   "cell_type": "code",
   "execution_count": null,
   "metadata": {},
   "outputs": [],
   "source": []
  },
  {
   "cell_type": "code",
   "execution_count": null,
   "metadata": {},
   "outputs": [],
   "source": []
  },
  {
   "cell_type": "markdown",
   "metadata": {},
   "source": [
    "### Cross validation across algorithms on baseline model"
   ]
  },
  {
   "cell_type": "code",
   "execution_count": 104,
   "metadata": {},
   "outputs": [],
   "source": [
    "algorithms = ['KNN',\n",
    "              'Logit',\n",
    "              'Decision_Tree',\n",
    "              'Random_Forst',\n",
    "              'SVM',\n",
    "              'LinearSVM',\n",
    "              'GaussioanNB',\n",
    "              'XGboost']\n",
    "\n",
    "clfs = [(KNeighborsClassifier()), \n",
    "        (LogisticRegression()),\n",
    "        (DecisionTreeClassifier()),\n",
    "        (RandomForestClassifier()),\n",
    "        (SVC()),\n",
    "        (LinearSVC()),\n",
    "        (GaussianNB()),\n",
    "        (XGBClassifier())\n",
    "         ]"
   ]
  },
  {
   "cell_type": "code",
   "execution_count": 436,
   "metadata": {},
   "outputs": [
    {
     "name": "stdout",
     "output_type": "stream",
     "text": [
      "KNN CV_precision is: 0.7705351958692768\n",
      "Logit CV_precision is: 0.787612722229227\n",
      "Decision_Tree CV_precision is: 0.7647042950355761\n",
      "Random_Forst CV_precision is: 0.8035326083965806\n",
      "SVM CV_precision is: 0.7682134430282234\n",
      "LinearSVM CV_precision is: 0.7846508182073628\n",
      "GaussioanNB CV_precision is: 0.8368598194569081\n",
      "XGboost CV_precision is: 0.7955079407928395\n"
     ]
    }
   ],
   "source": [
    "# Precision scores\n",
    "for algorithm, clf in zip(algorithms, clfs):\n",
    "    CVScores = cross_val_score(clf, X_train_scaled, y_train, cv=5, scoring='precision')\n",
    "    print(f'{algorithm} CV_precision is:', np.mean(CVScores))"
   ]
  },
  {
   "cell_type": "code",
   "execution_count": 437,
   "metadata": {},
   "outputs": [
    {
     "name": "stdout",
     "output_type": "stream",
     "text": [
      "KNN CV_recall is: 0.8734693877551021\n",
      "Logit CV_recall is: 0.8510204081632653\n",
      "Decision_Tree CV_recall is: 0.7591836734693878\n",
      "Random_Forst CV_recall is: 0.8122448979591838\n",
      "SVM CV_recall is: 0.9224489795918368\n",
      "LinearSVM CV_recall is: 0.8591836734693876\n",
      "GaussioanNB CV_recall is: 0.610204081632653\n",
      "XGboost CV_recall is: 0.8877551020408163\n"
     ]
    }
   ],
   "source": [
    "# Recall scores\n",
    "for algorithm, clf in zip(algorithms, clfs):\n",
    "    CVScores = cross_val_score(clf, X_train_scaled, y_train, cv=5, scoring='recall')\n",
    "    print(f'{algorithm} CV_recall is:', np.mean(CVScores))"
   ]
  },
  {
   "cell_type": "code",
   "execution_count": 438,
   "metadata": {},
   "outputs": [
    {
     "name": "stdout",
     "output_type": "stream",
     "text": [
      "KNN CV_f1 is: 0.8184383346076289\n",
      "Logit CV_f1 is: 0.8177341372529228\n",
      "Decision_Tree CV_f1 is: 0.7474864192631007\n",
      "Random_Forst CV_f1 is: 0.7871360232054203\n",
      "SVM CV_f1 is: 0.8379458412094168\n",
      "LinearSVM CV_f1 is: 0.8184137676751945\n",
      "GaussioanNB CV_f1 is: 0.686811395166836\n",
      "XGboost CV_f1 is: 0.8388256923741586\n"
     ]
    }
   ],
   "source": [
    "# F1 scores\n",
    "for algorithm, clf in zip(algorithms, clfs):\n",
    "    CVScores = cross_val_score(clf, X_train_scaled, y_train, cv=5, scoring='f1')\n",
    "    print(f'{algorithm} CV_f1 is:', np.mean(CVScores))"
   ]
  },
  {
   "cell_type": "markdown",
   "metadata": {},
   "source": [
    "### KNN (GridSearchCV)"
   ]
  },
  {
   "cell_type": "code",
   "execution_count": 447,
   "metadata": {},
   "outputs": [
    {
     "name": "stdout",
     "output_type": "stream",
     "text": [
      "0.6306122448979592\n"
     ]
    }
   ],
   "source": [
    "# Cross validation using default parameters\n",
    "knn = KNeighborsClassifier()\n",
    "scores = cross_val_score(knn, X_train_smoted, y_train_smoted, cv=10, scoring='recall')\n",
    "print(np.mean(scores))"
   ]
  },
  {
   "cell_type": "code",
   "execution_count": 396,
   "metadata": {},
   "outputs": [],
   "source": [
    "knn = KNeighborsClassifier()\n",
    "k_range = list(range(1, 51))\n",
    "weight_options = ['uniform', 'distance']\n",
    "param_grid_knn = dict(n_neighbors=k_range, weights=weight_options)"
   ]
  },
  {
   "cell_type": "code",
   "execution_count": 397,
   "metadata": {},
   "outputs": [
    {
     "data": {
      "text/plain": [
       "GridSearchCV(cv=10, error_score='raise',\n",
       "       estimator=KNeighborsClassifier(algorithm='auto', leaf_size=30, metric='minkowski',\n",
       "           metric_params=None, n_jobs=1, n_neighbors=5, p=2,\n",
       "           weights='uniform'),\n",
       "       fit_params=None, iid=True, n_jobs=1,\n",
       "       param_grid={'n_neighbors': [1, 2, 3, 4, 5, 6, 7, 8, 9, 10, 11, 12, 13, 14, 15, 16, 17, 18, 19, 20, 21, 22, 23, 24, 25, 26, 27, 28, 29, 30, 31, 32, 33, 34, 35, 36, 37, 38, 39, 40, 41, 42, 43, 44, 45, 46, 47, 48, 49, 50], 'weights': ['uniform', 'distance']},\n",
       "       pre_dispatch='2*n_jobs', refit=True, return_train_score='warn',\n",
       "       scoring='recall', verbose=0)"
      ]
     },
     "execution_count": 397,
     "metadata": {},
     "output_type": "execute_result"
    }
   ],
   "source": [
    "grid_knn = GridSearchCV(knn, param_grid_knn, cv=10, scoring='recall')\n",
    "grid_knn.fit(X_train_smoted, y_train_smoted)"
   ]
  },
  {
   "cell_type": "code",
   "execution_count": 398,
   "metadata": {
    "scrolled": true
   },
   "outputs": [
    {
     "data": {
      "text/plain": [
       "[mean: 0.72041, std: 0.07417, params: {'n_neighbors': 1, 'weights': 'uniform'},\n",
       " mean: 0.72041, std: 0.07417, params: {'n_neighbors': 1, 'weights': 'distance'},\n",
       " mean: 0.55510, std: 0.04545, params: {'n_neighbors': 2, 'weights': 'uniform'},\n",
       " mean: 0.72041, std: 0.07417, params: {'n_neighbors': 2, 'weights': 'distance'},\n",
       " mean: 0.66735, std: 0.04087, params: {'n_neighbors': 3, 'weights': 'uniform'},\n",
       " mean: 0.67143, std: 0.03587, params: {'n_neighbors': 3, 'weights': 'distance'},\n",
       " mean: 0.53878, std: 0.04582, params: {'n_neighbors': 4, 'weights': 'uniform'},\n",
       " mean: 0.66939, std: 0.03390, params: {'n_neighbors': 4, 'weights': 'distance'},\n",
       " mean: 0.63061, std: 0.03088, params: {'n_neighbors': 5, 'weights': 'uniform'},\n",
       " mean: 0.63265, std: 0.03027, params: {'n_neighbors': 5, 'weights': 'distance'},\n",
       " mean: 0.52857, std: 0.04868, params: {'n_neighbors': 6, 'weights': 'uniform'},\n",
       " mean: 0.64286, std: 0.03679, params: {'n_neighbors': 6, 'weights': 'distance'},\n",
       " mean: 0.61224, std: 0.04563, params: {'n_neighbors': 7, 'weights': 'uniform'},\n",
       " mean: 0.61837, std: 0.04658, params: {'n_neighbors': 7, 'weights': 'distance'},\n",
       " mean: 0.54082, std: 0.04764, params: {'n_neighbors': 8, 'weights': 'uniform'},\n",
       " mean: 0.62041, std: 0.02915, params: {'n_neighbors': 8, 'weights': 'distance'},\n",
       " mean: 0.59592, std: 0.04061, params: {'n_neighbors': 9, 'weights': 'uniform'},\n",
       " mean: 0.59388, std: 0.04227, params: {'n_neighbors': 9, 'weights': 'distance'},\n",
       " mean: 0.53469, std: 0.04261, params: {'n_neighbors': 10, 'weights': 'uniform'},\n",
       " mean: 0.59184, std: 0.03651, params: {'n_neighbors': 10, 'weights': 'distance'},\n",
       " mean: 0.58980, std: 0.04953, params: {'n_neighbors': 11, 'weights': 'uniform'},\n",
       " mean: 0.58776, std: 0.05461, params: {'n_neighbors': 11, 'weights': 'distance'},\n",
       " mean: 0.52653, std: 0.03851, params: {'n_neighbors': 12, 'weights': 'uniform'},\n",
       " mean: 0.59388, std: 0.04782, params: {'n_neighbors': 12, 'weights': 'distance'},\n",
       " mean: 0.56531, std: 0.04476, params: {'n_neighbors': 13, 'weights': 'uniform'},\n",
       " mean: 0.56939, std: 0.04953, params: {'n_neighbors': 13, 'weights': 'distance'},\n",
       " mean: 0.52449, std: 0.02893, params: {'n_neighbors': 14, 'weights': 'uniform'},\n",
       " mean: 0.56531, std: 0.03421, params: {'n_neighbors': 14, 'weights': 'distance'},\n",
       " mean: 0.54898, std: 0.04868, params: {'n_neighbors': 15, 'weights': 'uniform'},\n",
       " mean: 0.55510, std: 0.04453, params: {'n_neighbors': 15, 'weights': 'distance'},\n",
       " mean: 0.52449, std: 0.05326, params: {'n_neighbors': 16, 'weights': 'uniform'},\n",
       " mean: 0.56939, std: 0.04953, params: {'n_neighbors': 16, 'weights': 'distance'},\n",
       " mean: 0.56735, std: 0.04982, params: {'n_neighbors': 17, 'weights': 'uniform'},\n",
       " mean: 0.56939, std: 0.04868, params: {'n_neighbors': 17, 'weights': 'distance'},\n",
       " mean: 0.52041, std: 0.04305, params: {'n_neighbors': 18, 'weights': 'uniform'},\n",
       " mean: 0.57143, std: 0.04182, params: {'n_neighbors': 18, 'weights': 'distance'},\n",
       " mean: 0.55306, std: 0.05199, params: {'n_neighbors': 19, 'weights': 'uniform'},\n",
       " mean: 0.56531, std: 0.05247, params: {'n_neighbors': 19, 'weights': 'distance'},\n",
       " mean: 0.51020, std: 0.04915, params: {'n_neighbors': 20, 'weights': 'uniform'},\n",
       " mean: 0.56939, std: 0.05036, params: {'n_neighbors': 20, 'weights': 'distance'},\n",
       " mean: 0.55714, std: 0.05247, params: {'n_neighbors': 21, 'weights': 'uniform'},\n",
       " mean: 0.56122, std: 0.04586, params: {'n_neighbors': 21, 'weights': 'distance'},\n",
       " mean: 0.50816, std: 0.05805, params: {'n_neighbors': 22, 'weights': 'uniform'},\n",
       " mean: 0.57347, std: 0.05805, params: {'n_neighbors': 22, 'weights': 'distance'},\n",
       " mean: 0.55714, std: 0.06521, params: {'n_neighbors': 23, 'weights': 'uniform'},\n",
       " mean: 0.56122, std: 0.06002, params: {'n_neighbors': 23, 'weights': 'distance'},\n",
       " mean: 0.51020, std: 0.04999, params: {'n_neighbors': 24, 'weights': 'uniform'},\n",
       " mean: 0.56327, std: 0.05787, params: {'n_neighbors': 24, 'weights': 'distance'},\n",
       " mean: 0.55102, std: 0.06323, params: {'n_neighbors': 25, 'weights': 'uniform'},\n",
       " mean: 0.56531, std: 0.05988, params: {'n_neighbors': 25, 'weights': 'distance'},\n",
       " mean: 0.50612, std: 0.05227, params: {'n_neighbors': 26, 'weights': 'uniform'},\n",
       " mean: 0.55102, std: 0.05322, params: {'n_neighbors': 26, 'weights': 'distance'},\n",
       " mean: 0.54286, std: 0.04672, params: {'n_neighbors': 27, 'weights': 'uniform'},\n",
       " mean: 0.54490, std: 0.05555, params: {'n_neighbors': 27, 'weights': 'distance'},\n",
       " mean: 0.52245, std: 0.05415, params: {'n_neighbors': 28, 'weights': 'uniform'},\n",
       " mean: 0.55510, std: 0.04261, params: {'n_neighbors': 28, 'weights': 'distance'},\n",
       " mean: 0.54898, std: 0.04868, params: {'n_neighbors': 29, 'weights': 'uniform'},\n",
       " mean: 0.55306, std: 0.05434, params: {'n_neighbors': 29, 'weights': 'distance'},\n",
       " mean: 0.52449, std: 0.06057, params: {'n_neighbors': 30, 'weights': 'uniform'},\n",
       " mean: 0.56327, std: 0.04202, params: {'n_neighbors': 30, 'weights': 'distance'},\n",
       " mean: 0.55510, std: 0.06244, params: {'n_neighbors': 31, 'weights': 'uniform'},\n",
       " mean: 0.56327, std: 0.05415, params: {'n_neighbors': 31, 'weights': 'distance'},\n",
       " mean: 0.52041, std: 0.06405, params: {'n_neighbors': 32, 'weights': 'uniform'},\n",
       " mean: 0.56531, std: 0.05776, params: {'n_neighbors': 32, 'weights': 'distance'},\n",
       " mean: 0.55102, std: 0.05985, params: {'n_neighbors': 33, 'weights': 'uniform'},\n",
       " mean: 0.54694, std: 0.05685, params: {'n_neighbors': 33, 'weights': 'distance'},\n",
       " mean: 0.52245, std: 0.06136, params: {'n_neighbors': 34, 'weights': 'uniform'},\n",
       " mean: 0.56122, std: 0.06597, params: {'n_neighbors': 34, 'weights': 'distance'},\n",
       " mean: 0.54694, std: 0.06177, params: {'n_neighbors': 35, 'weights': 'uniform'},\n",
       " mean: 0.55102, std: 0.05772, params: {'n_neighbors': 35, 'weights': 'distance'},\n",
       " mean: 0.52449, std: 0.06772, params: {'n_neighbors': 36, 'weights': 'uniform'},\n",
       " mean: 0.55714, std: 0.06193, params: {'n_neighbors': 36, 'weights': 'distance'},\n",
       " mean: 0.54694, std: 0.07175, params: {'n_neighbors': 37, 'weights': 'uniform'},\n",
       " mean: 0.55510, std: 0.06505, params: {'n_neighbors': 37, 'weights': 'distance'},\n",
       " mean: 0.52449, std: 0.07473, params: {'n_neighbors': 38, 'weights': 'uniform'},\n",
       " mean: 0.55510, std: 0.05830, params: {'n_neighbors': 38, 'weights': 'distance'},\n",
       " mean: 0.55306, std: 0.06918, params: {'n_neighbors': 39, 'weights': 'uniform'},\n",
       " mean: 0.55918, std: 0.06336, params: {'n_neighbors': 39, 'weights': 'distance'},\n",
       " mean: 0.53265, std: 0.06978, params: {'n_neighbors': 40, 'weights': 'uniform'},\n",
       " mean: 0.56122, std: 0.05862, params: {'n_neighbors': 40, 'weights': 'distance'},\n",
       " mean: 0.54082, std: 0.07259, params: {'n_neighbors': 41, 'weights': 'uniform'},\n",
       " mean: 0.54898, std: 0.06857, params: {'n_neighbors': 41, 'weights': 'distance'},\n",
       " mean: 0.52653, std: 0.07515, params: {'n_neighbors': 42, 'weights': 'uniform'},\n",
       " mean: 0.55714, std: 0.07013, params: {'n_neighbors': 42, 'weights': 'distance'},\n",
       " mean: 0.55306, std: 0.07661, params: {'n_neighbors': 43, 'weights': 'uniform'},\n",
       " mean: 0.56122, std: 0.07143, params: {'n_neighbors': 43, 'weights': 'distance'},\n",
       " mean: 0.52449, std: 0.07693, params: {'n_neighbors': 44, 'weights': 'uniform'},\n",
       " mean: 0.56122, std: 0.07143, params: {'n_neighbors': 44, 'weights': 'distance'},\n",
       " mean: 0.55102, std: 0.07128, params: {'n_neighbors': 45, 'weights': 'uniform'},\n",
       " mean: 0.56122, std: 0.06274, params: {'n_neighbors': 45, 'weights': 'distance'},\n",
       " mean: 0.52653, std: 0.06878, params: {'n_neighbors': 46, 'weights': 'uniform'},\n",
       " mean: 0.55918, std: 0.06136, params: {'n_neighbors': 46, 'weights': 'distance'},\n",
       " mean: 0.55102, std: 0.06644, params: {'n_neighbors': 47, 'weights': 'uniform'},\n",
       " mean: 0.55510, std: 0.06878, params: {'n_neighbors': 47, 'weights': 'distance'},\n",
       " mean: 0.54286, std: 0.06204, params: {'n_neighbors': 48, 'weights': 'uniform'},\n",
       " mean: 0.56327, std: 0.06467, params: {'n_neighbors': 48, 'weights': 'distance'},\n",
       " mean: 0.55918, std: 0.06136, params: {'n_neighbors': 49, 'weights': 'uniform'},\n",
       " mean: 0.56122, std: 0.06340, params: {'n_neighbors': 49, 'weights': 'distance'},\n",
       " mean: 0.53878, std: 0.06903, params: {'n_neighbors': 50, 'weights': 'uniform'},\n",
       " mean: 0.55714, std: 0.06457, params: {'n_neighbors': 50, 'weights': 'distance'}]"
      ]
     },
     "execution_count": 398,
     "metadata": {},
     "output_type": "execute_result"
    }
   ],
   "source": [
    "grid_knn.grid_scores_"
   ]
  },
  {
   "cell_type": "code",
   "execution_count": 399,
   "metadata": {},
   "outputs": [
    {
     "name": "stdout",
     "output_type": "stream",
     "text": [
      "0.7204081632653061\n",
      "{'n_neighbors': 1, 'weights': 'uniform'}\n",
      "KNeighborsClassifier(algorithm='auto', leaf_size=30, metric='minkowski',\n",
      "           metric_params=None, n_jobs=1, n_neighbors=1, p=2,\n",
      "           weights='uniform')\n"
     ]
    }
   ],
   "source": [
    "print(grid_knn.best_score_)\n",
    "print(grid_knn.best_params_)\n",
    "print(grid_knn.best_estimator_)"
   ]
  },
  {
   "cell_type": "code",
   "execution_count": 374,
   "metadata": {},
   "outputs": [],
   "source": [
    "# Test the model in test set\n",
    "# knn = KNeighborsClassifier(n_neighbors=48)\n",
    "# knn.fit(X_train_scaled, y_train)\n",
    "# y_pred_knn = knn.predict(X_test_scaled)\n",
    "# print(metrics.precision_score(y_test, y_pred_knn))"
   ]
  },
  {
   "cell_type": "code",
   "execution_count": 376,
   "metadata": {},
   "outputs": [],
   "source": [
    "# confusion_matrix(y_test, y_pred_knn)"
   ]
  },
  {
   "cell_type": "code",
   "execution_count": 377,
   "metadata": {},
   "outputs": [],
   "source": [
    "# knn_confusion = confusion_matrix(y_test, y_pred_knn)\n",
    "# plt.figure(dpi=150)\n",
    "# sns.heatmap(knn_confusion, cmap=plt.cm.Blues, annot=True, square=True,\n",
    "#            xticklabels=['bad', 'good'],\n",
    "#            yticklabels=['bad', 'good'])\n",
    "\n",
    "# plt.xlabel('Predicted Values')\n",
    "# plt.ylabel('Actual Values')\n",
    "# plt.title('kNN confusion matrix');"
   ]
  },
  {
   "cell_type": "markdown",
   "metadata": {},
   "source": [
    "### Logistic Regression"
   ]
  },
  {
   "cell_type": "code",
   "execution_count": 448,
   "metadata": {},
   "outputs": [
    {
     "name": "stdout",
     "output_type": "stream",
     "text": [
      "0.7582713687896122\n"
     ]
    }
   ],
   "source": [
    "# Cross validation using default parameters\n",
    "lm = LogisticRegression()\n",
    "scores = cross_val_score(lm, X_train_smoted, y_train_smoted, cv=10, scoring='precision')\n",
    "print(np.mean(scores))"
   ]
  },
  {
   "cell_type": "code",
   "execution_count": 427,
   "metadata": {},
   "outputs": [],
   "source": [
    "lm = LogisticRegression()\n",
    "penalty = ['l1', 'l2']\n",
    "C = np.logspace(0, 4, 10)\n",
    "param_grid_lm = dict(penalty=penalty, C=C)"
   ]
  },
  {
   "cell_type": "code",
   "execution_count": 428,
   "metadata": {},
   "outputs": [
    {
     "data": {
      "text/plain": [
       "GridSearchCV(cv=10, error_score='raise',\n",
       "       estimator=LogisticRegression(C=1.0, class_weight=None, dual=False, fit_intercept=True,\n",
       "          intercept_scaling=1, max_iter=100, multi_class='ovr', n_jobs=1,\n",
       "          penalty='l2', random_state=None, solver='liblinear', tol=0.0001,\n",
       "          verbose=0, warm_start=False),\n",
       "       fit_params=None, iid=True, n_jobs=1,\n",
       "       param_grid={'penalty': ['l1', 'l2'], 'C': array([1.00000e+00, 2.78256e+00, 7.74264e+00, 2.15443e+01, 5.99484e+01,\n",
       "       1.66810e+02, 4.64159e+02, 1.29155e+03, 3.59381e+03, 1.00000e+04])},\n",
       "       pre_dispatch='2*n_jobs', refit=True, return_train_score='warn',\n",
       "       scoring='recall', verbose=0)"
      ]
     },
     "execution_count": 428,
     "metadata": {},
     "output_type": "execute_result"
    }
   ],
   "source": [
    "grid_lm = GridSearchCV(lm, param_grid_lm, cv=10, scoring='recall')\n",
    "grid_lm.fit(X_train_smoted, y_train_smoted)"
   ]
  },
  {
   "cell_type": "code",
   "execution_count": 430,
   "metadata": {
    "scrolled": true
   },
   "outputs": [
    {
     "data": {
      "text/plain": [
       "[mean: 0.69796, std: 0.07117, params: {'C': 1.0, 'penalty': 'l1'},\n",
       " mean: 0.69388, std: 0.06257, params: {'C': 1.0, 'penalty': 'l2'},\n",
       " mean: 0.69592, std: 0.06353, params: {'C': 2.7825594022071245, 'penalty': 'l1'},\n",
       " mean: 0.69388, std: 0.06257, params: {'C': 2.7825594022071245, 'penalty': 'l2'},\n",
       " mean: 0.69592, std: 0.06353, params: {'C': 7.742636826811269, 'penalty': 'l1'},\n",
       " mean: 0.69388, std: 0.06454, params: {'C': 7.742636826811269, 'penalty': 'l2'},\n",
       " mean: 0.69388, std: 0.06454, params: {'C': 21.544346900318832, 'penalty': 'l1'},\n",
       " mean: 0.69388, std: 0.06454, params: {'C': 21.544346900318832, 'penalty': 'l2'},\n",
       " mean: 0.69388, std: 0.06454, params: {'C': 59.94842503189409, 'penalty': 'l1'},\n",
       " mean: 0.69388, std: 0.06454, params: {'C': 59.94842503189409, 'penalty': 'l2'},\n",
       " mean: 0.69388, std: 0.06454, params: {'C': 166.81005372000593, 'penalty': 'l1'},\n",
       " mean: 0.69388, std: 0.06454, params: {'C': 166.81005372000593, 'penalty': 'l2'},\n",
       " mean: 0.69388, std: 0.06454, params: {'C': 464.15888336127773, 'penalty': 'l1'},\n",
       " mean: 0.69388, std: 0.06454, params: {'C': 464.15888336127773, 'penalty': 'l2'},\n",
       " mean: 0.69388, std: 0.06454, params: {'C': 1291.5496650148827, 'penalty': 'l1'},\n",
       " mean: 0.69388, std: 0.06454, params: {'C': 1291.5496650148827, 'penalty': 'l2'},\n",
       " mean: 0.69388, std: 0.06454, params: {'C': 3593.813663804626, 'penalty': 'l1'},\n",
       " mean: 0.69388, std: 0.06454, params: {'C': 3593.813663804626, 'penalty': 'l2'},\n",
       " mean: 0.69388, std: 0.06454, params: {'C': 10000.0, 'penalty': 'l1'},\n",
       " mean: 0.69388, std: 0.06454, params: {'C': 10000.0, 'penalty': 'l2'}]"
      ]
     },
     "execution_count": 430,
     "metadata": {},
     "output_type": "execute_result"
    }
   ],
   "source": [
    "grid_lm.grid_scores_"
   ]
  },
  {
   "cell_type": "code",
   "execution_count": 431,
   "metadata": {},
   "outputs": [
    {
     "name": "stdout",
     "output_type": "stream",
     "text": [
      "0.6979591836734694\n",
      "{'C': 1.0, 'penalty': 'l1'}\n",
      "KNeighborsClassifier(algorithm='auto', leaf_size=30, metric='minkowski',\n",
      "           metric_params=None, n_jobs=1, n_neighbors=48, p=2,\n",
      "           weights='distance')\n"
     ]
    }
   ],
   "source": [
    "print(grid_lm.best_score_)\n",
    "print(grid_lm.best_params_)\n",
    "print(grid.best_estimator_)"
   ]
  },
  {
   "cell_type": "code",
   "execution_count": 449,
   "metadata": {},
   "outputs": [],
   "source": [
    "# lm.fit(X_train_smoted, y_train_smoted)\n",
    "# y_pred_lm = lm.predict(X_train_smoted)\n",
    "# print(metrics.precision_score(y_train_smoted, y_pred_lm))"
   ]
  },
  {
   "cell_type": "code",
   "execution_count": 402,
   "metadata": {},
   "outputs": [
    {
     "data": {
      "text/plain": [
       "(array([[-0.39486425, -0.33835071, -0.17308174,  0.02934308,  0.38100975,\n",
       "          0.21958069,  0.07227766,  0.02338731, -0.08700536,  0.07961727,\n",
       "          0.3577826 , -0.08700536,  0.07961727,  0.3577826 ,  0.15140744,\n",
       "         -0.05657578,  0.25498308, -0.05657547,  0.12194125,  0.47376625,\n",
       "          0.08534204,  0.0312703 ,  0.73948451,  0.21355911, -0.24730286,\n",
       "          0.32716323,  0.23774107,  0.25693054,  0.00249698, -0.04111559,\n",
       "         -0.01071718,  0.0781824 ,  0.08196659, -0.02338731,  0.02811155,\n",
       "         -0.35303116,  0.08431374, -0.08627527, -0.15991717, -0.036442  ,\n",
       "         -0.02900941,  0.0356382 ,  0.16978773, -0.2178086 ]]),\n",
       " array([0.46616842]))"
      ]
     },
     "execution_count": 402,
     "metadata": {},
     "output_type": "execute_result"
    }
   ],
   "source": [
    "lm.coef_, lm.intercept_"
   ]
  },
  {
   "cell_type": "code",
   "execution_count": 403,
   "metadata": {},
   "outputs": [],
   "source": [
    "# confusion_matrix(y_test, y_pred_lm)"
   ]
  },
  {
   "cell_type": "markdown",
   "metadata": {},
   "source": [
    "| | predict bad (0) | predict good (1)|\n",
    "|---|---|---|\n",
    "| **is bad (0)** | 41 | 49 |\n",
    "| **is good (1)** | 32 | 178 |"
   ]
  },
  {
   "cell_type": "code",
   "execution_count": 378,
   "metadata": {},
   "outputs": [],
   "source": [
    "# lm_confusion = confusion_matrix(y_test, y_pred_lm)\n",
    "# plt.figure(dpi=150)\n",
    "# sns.heatmap(lm_confusion, cmap=plt.cm.Blues, annot=True, square=True,\n",
    "#             xticklabels=['bad', 'good'],\n",
    "#             yticklabels=['bad', 'good'])\n",
    "\n",
    "# plt.xlabel('Predicted Values')\n",
    "# plt.ylabel('Actual Values')\n",
    "# plt.title('Logistic regression confusion matrix');"
   ]
  },
  {
   "cell_type": "markdown",
   "metadata": {},
   "source": [
    "### Support Vector Machine (GridSearchCV)"
   ]
  },
  {
   "cell_type": "code",
   "execution_count": 450,
   "metadata": {},
   "outputs": [
    {
     "name": "stdout",
     "output_type": "stream",
     "text": [
      "0.7897959183673469\n"
     ]
    }
   ],
   "source": [
    "# Cross validation using default parameters\n",
    "svm_lm = SVC()\n",
    "scores = cross_val_score(svm_lm, X_train_smoted, y_train_smoted, cv=10, scoring='recall')\n",
    "print(np.mean((scores)))\n"
   ]
  },
  {
   "cell_type": "code",
   "execution_count": 422,
   "metadata": {},
   "outputs": [],
   "source": [
    "param_grid_svm = [{'C': np.linspace(0.1,100,101), 'kernel': ['linear']},\n",
    "                  {'C': np.linspace(0.1,100,101), 'gamma': np.linspace(-9,3,13), 'kernel': ['rbf']},]\n",
    "\n"
   ]
  },
  {
   "cell_type": "code",
   "execution_count": 424,
   "metadata": {},
   "outputs": [],
   "source": [
    "# Takes forever to run....\n",
    "# grid_svm = GridSearchCV(svm, param_grid_svm, cv=10, scoring='recall')\n",
    "# grid_svm.fit(X_train_smoted, y_train_smoted)"
   ]
  },
  {
   "cell_type": "code",
   "execution_count": 425,
   "metadata": {},
   "outputs": [],
   "source": [
    "#grid_svm.grid_scores_"
   ]
  },
  {
   "cell_type": "code",
   "execution_count": 426,
   "metadata": {},
   "outputs": [],
   "source": [
    "# print(grid_svm.best_score_)\n",
    "# print(grid_svm.best_params_)\n",
    "# print(grid_svm.best_estimator_)"
   ]
  },
  {
   "cell_type": "code",
   "execution_count": null,
   "metadata": {},
   "outputs": [],
   "source": [
    "# svm_lm = svm.SVC(kernel='linear')\n",
    "# svm_lm.fit(X_train_scaled, y_train)\n",
    "# y_pred_svm_lm = svm_lm.predict(X_test_scaled)\n",
    "# print(metrics.precision_score(y_test, y_pred_svm_lm))"
   ]
  },
  {
   "cell_type": "code",
   "execution_count": null,
   "metadata": {},
   "outputs": [],
   "source": [
    "# Cross validation\n",
    "# svm_poly = svm.SVC(kernel='poly', gamma = 0.001)\n",
    "# scores = cross_val_score(svm_poly, X_train_scaled, y_train, cv=10, scoring='precision')\n",
    "# print(scores)"
   ]
  },
  {
   "cell_type": "code",
   "execution_count": null,
   "metadata": {},
   "outputs": [],
   "source": [
    "# svm_poly = svm.SVC(kernel='poly', gamma = 0.001)\n",
    "# svm_poly.fit(X_train_scaled, y_train)\n",
    "# y_pred_svm_poly = svm_ploy.predict(X_test_scaled)\n",
    "# print(metrics.precision_score(y_test, y_pred_svm_poly))"
   ]
  },
  {
   "cell_type": "code",
   "execution_count": null,
   "metadata": {},
   "outputs": [],
   "source": [
    "# Cross validation\n",
    "# svm_rbf = svm.SVC(kernel='rbf')\n",
    "# scores = cross_val_score(svm_rbf, X_train_scaled, y_train, cv=10, scoring='precision')\n",
    "# print(scores)"
   ]
  },
  {
   "cell_type": "code",
   "execution_count": null,
   "metadata": {},
   "outputs": [],
   "source": [
    "# svm_rbf = svm.SVC(kernel='rbf')\n",
    "# svm_rbf.fit(X_train_scaled, y_train)\n",
    "# y_pred_svm_rbf = svm_rbf.predict(X_test_scaled)\n",
    "# print(metrics.precision_score(y_test, y_pred_svm_rbf))"
   ]
  },
  {
   "cell_type": "code",
   "execution_count": null,
   "metadata": {},
   "outputs": [],
   "source": [
    "# svm_rbf_confusion = confusion_matrix(y_test, y_pred_svm_rbf)\n",
    "# plt.figure(dpi=150)\n",
    "# sns.heatmap(svm_rbf_confusion, cmap=plt.cm.Blues, annot=True, square=True,\n",
    "#            xticklabels=['bad', 'good'],\n",
    "#            yticklabels=['bad', 'good'])\n",
    "\n",
    "# plt.xlabel('Predicted Values')\n",
    "# plt.ylabel('Actual Values')\n",
    "# plt.title('SVM_RBF confusion matrix');"
   ]
  },
  {
   "cell_type": "markdown",
   "metadata": {},
   "source": [
    "### Random Forest"
   ]
  },
  {
   "cell_type": "code",
   "execution_count": 451,
   "metadata": {},
   "outputs": [
    {
     "name": "stdout",
     "output_type": "stream",
     "text": [
      "0.7673469387755102\n"
     ]
    }
   ],
   "source": [
    "# Cross validation using default parameters\n",
    "randomforest = RandomForestClassifier()\n",
    "scores = cross_val_score(randomforest, X_train_smoted, y_train_smoted, cv=10, scoring='recall')\n",
    "print(np.mean(scores))"
   ]
  },
  {
   "cell_type": "code",
   "execution_count": 440,
   "metadata": {
    "scrolled": true
   },
   "outputs": [
    {
     "name": "stdout",
     "output_type": "stream",
     "text": [
      "0.7678571428571429\n"
     ]
    }
   ],
   "source": [
    "# randomforest = RandomForestClassifier()\n",
    "# randomforest.fit(X_train_scaled, y_train)\n",
    "# y_pred_randomforest = randomforest.predict(X_test_scaled)\n",
    "# print(metrics.precision_score(y_test, y_pred_randomforest))"
   ]
  },
  {
   "cell_type": "code",
   "execution_count": 281,
   "metadata": {
    "scrolled": false
   },
   "outputs": [
    {
     "data": {
      "image/png": "iVBORw0KGgoAAAANSUhEUgAAA0oAAALpCAYAAACNJdYZAAAABHNCSVQICAgIfAhkiAAAAAlwSFlzAAAXEQAAFxEByibzPwAAADl0RVh0U29mdHdhcmUAbWF0cGxvdGxpYiB2ZXJzaW9uIDIuMi4yLCBodHRwOi8vbWF0cGxvdGxpYi5vcmcvhp/UCwAAIABJREFUeJzs3Xd0VOX2//HPJKFHeo10woQuvSsdpEgRCKBw0UsRpYlyRZReBBtIU+oFVJTeCQooENRICe1qAkFqkN5LQur5/cEv55tMhj7kTOL7tdasRU579pyZDLOzn7OPzTAMQwAAAAAAk4fVAQAAAACAuyFRAgAAAAAHJEoAAAAA4IBECQAAAAAckCgBAAAAgAMSJQAAAABwQKIEAAAAAA5IlAAAAADAAYkSAAAAADggUQIAAAAAByRKAAAAAOCARAkAAAAAHJAoAQAAAIADEiUAAAAAcECiBDxlfn5+932ULVtW1atX18svv6zJkyfrxo0bVof8QDt37jTjj42NtTqce7p48aIGDx6s2rVrq1y5cnr++ecVGBhodVguYxiGjh49anUYLnfs2DG9+eabqlGjhsqXL6/69evr8OHDKTb+tGnT5Ofnpy5duqTYmKldZGSkTp8+/cj7JXyO/Pbbb08hKgB4Ml5WBwD8UxQtWlQ5c+ZMtjw6Olrh4eH6888/9eeff2rlypVaunSpChQoYEGUaUd8fLx69uypQ4cOycvLSyVLllRMTIyeffZZq0NziYMHD2rs2LEqUqSIPvvsM6vDcZnbt2+re/fuunDhgjJmzKiSJUsqMjJSBQsWtDo03MO6dev06aefqn///urYsaPV4QCAy5AoASnkjTfe0Msvv+x0XXx8vNatW6cPP/xQFy5c0NChQ7VgwYKUDTCNOX78uA4dOiRJmjlzpp5//nmLI3Kt7777TgcPHlSRIkWsDsWl9uzZowsXLshms2nlypUqUaJEisfw6quvqkWLFsqUKVOKj50aTZ48WefPn3+sfQMCAiRJPj4+rgwJAFyCRAlwAx4eHmrTpo1OnDihL7/8UkFBQTp+/LiKFStmdWip1tWrV81/16hRw8JI8CgSXrfcuXNbkiRJUs6cOZ1Wf+F6Vr3GAPAwuEYJcCMNGjQw//3XX39ZGEnqFxcXZ/47ffr0FkaCRxEfHy+J1wwAYD0SJcCNeHj836+kYRjJ1oeGhmr48OFq3ry5KleurHLlyql27drq1auXfvjhh2Tbr1y5Un5+fho0aJAiIiL0xRdfqFmzZipfvrxq1KihPn36aM+ePfeMZ+fOnerTp4/q1q2r5557Th06dND69esf+DyOHz+ukSNHqkmTJipXrpyqVKkif39/LViwQHfu3Em2/fvvvy8/Pz8tW7ZMJ06c0Lvvvqs6deqoQoUKatGihebPn2+ej02bNunVV19V5cqVVbFiRXXu3Fnbt283j3X69Gn5+fnpX//6l7ks4YLxadOmJRk3KChI/fv3V926dVWuXDnVrFlTPXv21KZNm5w+r4YNG8rPz0+HDh3SuHHjVK1aNVWqVEkvv/yyrl27Zm4XHh6uUaNGqUmTJipfvryqVq2qV155RcuWLUuSwCV24MABDRo0SM2aNVOFChVUrVo1+fv7a/bs2bp161aS18TPz0+rVq2SdPf6ED8/P3Xr1u1BL4spOjpa3333nbp06aIaNWqoXLlyatq0qcaNG6eLFy863ed///uf/vOf/6h+/foqV66cqlevrm7dumn58uVOn1O3bt3k5+enwMBAHTp0SAMHDjSbajRq1EgfffSRrly5kux5DR06VJL0999/m6/bypUrk5z/ZcuWOY0x4X30/vvvJ1keFxen7777Tt26dTNf67p166pv377aunVrsuM8qJnDjz/+qJ49e6pmzZrmsfr376+goCCn2yc8j6ioKG3evFndunVT1apV9dxzz6lt27ZasGCBYmJinO7rTMJ7/IUXXlB8fLwWLVqktm3b6rnnnlPNmjXVt29fs8nHlStXNHbsWPN1q1evnsaMGaObN286PfajfMYknKe///5bkjRs2LAkv2eJP3+Cg4PVpk0b83wlTC12bOZw9OhRPffcc/Lz89OwYcOSxXf58mXVrl1bfn5+Gj58+EOfMwB4HEy9A9xIwnx9Dw8PVahQIcm67777TmPHjlV8fLyyZcumIkWK6M6dOzp9+rQCAwMVGBioPn36aNCgQcmOe+PGDXXq1ElhYWHKmzevfH199ddff2nr1q0KDAzUl19+qfr16yfZZ/bs2Zo0aZIMw1CuXLnk6+trJjHVq1e/53NYu3atPvzwQ0VHRytjxoyy2+26ffu2Dhw4oAMHDmjFihWaM2eO8ufPn2zfvXv3avz48YqNjVWJEiVks9l09OhRTZw4UVeuXJHNZtOsWbOUNWtWFS1aVMePH9e+ffv0xhtvaPbs2XrhhReUIUMGVa5cWbdu3VJYWJgkqXLlypKUpEHG2LFj9e2330qSsmfPrlKlSun8+fPasWOHduzYoebNm+vTTz9VunTpksU5evRo7d27V76+voqMjFT69OmVPXt2SdLmzZs1ePBg3blzRxkzZlTx4sUVGRmp4OBgBQcHa8OGDZoxY4ayZMliHm/Tpk0aNGiQYmNjlSNHDvn6+ur27ds6ePCgDhw4oLVr12rx4sXy9vbWM888o8qVK+vkyZO6fPmycubMqaJFi8put9/zNUnswoULevPNN/XHH39IkooUKaL8+fPr2LFj+uabb/TDDz9oyZIlSZpezJkzR5MmTVJ8fLy8vb3l5+enq1evateuXdq1a5fWrFmjL7/8Us8880yy8QIDA7V48WIZhqGiRYsqS5YsOnXqlBYuXKht27Zp5cqVSZ7XlStXdOLECaVPn17lypWTJOXKleuhnpszhmFo0KBB+vHHH83nmy9fPp05c0ZbtmzRli1b9NZbb2ngwIEPPFZMTIwGDRqkzZs3S5Ly5MmjUqVK6fTp09q0aZM2bdqk7t2764MPPnC6/xdffKH//ve/ypw5s4oUKaILFy4oNDRUoaGhOnDggCZPnvxIzy0+Pl4DBw7Upk2blC9fPhUpUkTHjh3Tli1btHv3bs2aNUsDBw7UxYsXVaRIEfn4+OjkyZNatGiRQkJC9P3338tms5nHe9TPmAIFCqhy5cr6448/FB0drSJFiihXrlzJGtEcO3ZMPXv2lKenp0qWLKmjR4/K19fX6XMqUaKE3nvvPY0ZM0bLli1TixYtVLt2bXP90KFDdfnyZfn6+t7zPAOAyxgAniq73W7Y7XZjxYoV99wmKirKWLhwoVG6dGnDbrcbH374YZL1x48fN8qWLWvY7Xbjyy+/NKKjo811V69eNQYOHGjY7XajbNmyxrVr18x1K1asMMevU6eOsWPHDnPd+fPnjZdeesmw2+1G69atk4y3Z88ew263G35+fsa8efOMuLg4wzAM486dO8bYsWPNY9rtdiMmJsbcb//+/UaZMmUMu91uDBs2zLh586a5LiQkxGjatKlht9uNdu3aJdlvyJAh5vG6dOliXLhwwTAMw4iLizPef/99w263G6VKlUoWz5UrV4y2bdsadrvd6Nq1a5Ln8Pvvv5vHdDRv3jzDbrcbZcqUMb799lvzeIZhGAEBAUbFihUNu91ujB07Nsl+DRo0MI+5YcMGc/nly5cNwzCM0NBQo1y5coafn58xefJk486dO+Y2f/75p/n8Bw8ebC6Pi4sz6tSpY9jtdmPOnDlGbGysue6PP/4watasadjtdmPWrFlJYkk4Z++++26y53c/PXr0MOx2u9G4cWPjjz/+MJefP3/e6NSpk2G3241OnTqZy3/44QfzOX/xxRdGVFSUuS4oKMioXbu2YbfbjT59+iQZp2vXruZ+vXv3Ns6fP2+u27Jli/lenz9/fpL9Et6zDRo0SBZ7wvlfunSp0+eWcE6GDBliLtu+fbtht9uNmjVrGocOHTKXx8bGGjNnzjTfB2fPnjXXTZ061bDb7Ubnzp2THH/MmDGG3W43KlasaGzcuDHJsb799lvzve/4nBL/vnz++efm+yI2Ntb47LPPzHUhISFOn5ej8PBwc58yZcoYK1euNOLj4w3DMIzDhw8bzz33nPk707ZtW+P48ePmvsuXLzf33blzp7n8cT9jDOPer0vizx9/f3/jxo0bhmHc/b1NiDdh/a+//ppk3549e5rvg1u3bhmGYRhff/21YbfbjfLlyyd5LQHgaWHqHZBCZs2apS5duiR5dO7cWa1atVKVKlU0fvx4xcXFqUWLFsmmnPz666/y9PRU2bJl9eabbyapcmTPnl1DhgyRdPcv3sePH3c6/ogRI1S3bl3z57x586pfv36SpEOHDun27dvmuq+++kqS1K5dO/373/82pwRmyJBBw4YNU82aNZ2OMXXqVMXGxqpu3boaO3asvL29zXWlS5fW3LlzlTFjRv3555/asGFDsv29vLw0adIk5cmTR9Ldylrv3r0l3f3reZs2bZLEkyNHDnOKXUhIiNOYHEVFRZnPb8CAAXr11VeTTHls3ry5xo0bJ+nuX9id3RumatWqatGihflzwoX/06ZNU3R0tLp27aq3335bGTJkMLcpU6aMpk6dKk9PT61bt868Bu3KlSvmdDd/f395enqa+5QtW1aDBg1S48aNzYrVkzhw4IB27NghDw8Pffnllypbtqy5Lm/evJo0aZI8PT21b98+HTt2TJLMKkenTp00cODAJNcO1axZU9OnT5ck/fzzz06ncebKlUtTp05V3rx5zWWNGjXSCy+8IOluFfFpSuh8WKlSJfn5+ZnLPT099cYbb+jFF19Uy5Ytdf369fse59y5c1q8eLGku9XIF198McmxXn31VbMqNX369CS/TwkaNGigd955x3xfeHp66u2331a2bNkkPd656NChg9q1a2dWhux2uxo1aiTpbjVtypQpKlq0qLl9+/btzWph4t8ZV3zG3M/bb79tVhxz5MiRpJLlzIQJE5QzZ079/fffmjx5sv766y99+umnkv5viiUAPG0kSkAKOXHihPbu3ZvksW/fPh05ckQ+Pj7q1q2bFi9erMmTJytjxoxJ9n311Vd14MABfffdd06PnXj7yMjIZOs9PT3NL6aJJe44lXAdTGRkpHbu3CnpbqLkTOfOnZMti4iIMPdLfH1QYoUKFVLjxo0lST/99FOy9X5+fsmm5CWeAlavXr1k+yR8AU98Hc/97NmzRzdu3JCXl5deffVVp9u0aNFC+fLlU1xcnLZt25ZsfZUqVZIti46ONm9m27p1a6fH9fPzU6lSpWQYhnltTI4cOcwvyoMHD9a+ffvMhgbS3eRpxowZ8vf3f6jndz8///yzpLtTEUuWLJlsvY+Pj1auXKmgoCAVL15cJ06cML8Ud+/e3ekxK1WqpEqVKkly/prWqlUrScKYIOG9d69rZVwlIUnYvn27Zs2apbNnzyZZP2XKFH3yyScP/OIdGBio2NhY5cmTJ0mSnFjXrl2VLl063bx5U7t27Uq2vmHDhsmWeXp6mi3eH+dm045TZqX/+50pVqyYChcunGy9s9+ZJ/2MuR8PDw/zPfKwcufOrbFjx0q6+weLvn37KioqSo0bN9Yrr7zySMcCgMfFNUpACpkwYYJ5H6X4+Hj9/fffmjt3rhYvXqwLFy6oaNGiD/wykSFDBh08eFBhYWEKDw/XqVOnFBYWZv71X3LeBCJbtmzJkq+E4yWIjY2VJJ05c0bR0dGS5PTLtHS3OuQoPDzcvCA94doSZ8qVK6f169c7/au0s5vsJq5g5MiRI9l6L69H+xhLOFdFihRJUvFKzGazqUyZMjp//rzTOBMqXomdOHHCPG+jR4++Z9e2M2fOJInD09NTgwcP1vDhw7V9+3Zt375d2bJlU40aNVSnTh3Vr1/f6fVcj+PUqVOSpFKlSt1zm8TrEmLMlCnTfds4lytXTvv27XN6rvLly+d0n4T3Y8L77mlp2LChqlevrl27dmnSpEmaNGmSihcvrtq1a+v555+/ZyLnKOFclC5dOkkFMrHMmTOrWLFiCgsL0/Hjx5N0sZQefC7u1ejjfpz9ziRUg+7V4jxhvbPPisf9jLmfrFmzOv38eZDGjRurY8eOZpOXAgUKaPz48Y98HAB4XCRKgAU8PDxUqFAhjR49Wrlz59b06dM1duxYRUVFqUePHk73Sbhg/sSJE0mWFyxYUB06dNDSpUvvOZ6zhgSOEr78JJ6ClLjhQGJZs2ZNtizxX6edXdSfICE5cTY16UE3+LzXF9RHkRDn/WKU7h+nsy99iSsjCY0S7ifx9v7+/ipSpIjmz5+v3377TdevXzebA9hsNtWvX1+jRo164oQpoTNf5syZH2r7hHN1r4QyQcL7xNm5epj33tPk5eWlefPmadGiRVq5cqX5pf/YsWP69ttv5e3trZ49e6pPnz73nQ7mivfNg87FoyYg0v1/Zx719+VJPmPu52ES0Xtp1KiR2eXQx8fH6WcPADwtJEqAxfr166f9+/frl19+0WeffaYyZcqoVq1aSbZZtWqV2fL4+eefV5MmTVSyZEmVKFFC2bJlU0xMzGN/iXGU+FqYW7duOf2rdFRUVLJliZOqmzdv3rNTWUIidq8k7GlLGPdBU74SpkE9bJyJk4+9e/c+8vOrUaOGatSooTt37mjPnj3avXu3duzYoT///FNbt27V2bNntXr16gde23E/CV+qnX2JdybhOTxoWuOjnqsnda+EIiIiwuny9OnT6/XXX9frr7+uc+fO6ffff9fOnTsVGBioS5cu6YsvvlDGjBn1+uuv33PMp/W+cRcp+RnzsK5fv65Ro0ZJupv0BQcH67///a969uyZonEA+OfiGiXAYjabTR999JGeeeYZxcfHa8iQIcm+mM6aNUuS1LZtW82dO1edOnVS5cqVzWtbzp0757J4fHx8zIrJvRokHDlyJNmywoULm38xv19FJXFbaisUL15cknTy5Ml7JgDx8fHmc3/YOAsVKmQ2YrjfzYIPHjyow4cPm8lKdHS0jh49qgMHDki6W62qW7euBg0apJUrV2rSpEmS7jYlOHz48EPFci8J1+s4e/0SDB8+XG+88Ya2b99unqvIyEjzvjzOpNRrmnB+E6Y4Orpw4UKyZdevX9f+/fvNa5Py58+vtm3basKECdq2bZs5PW7NmjX3HTvhXISGhia5hiyxW7dumdUYq97fjyslP2Me1qhRo3Tu3DmVKlVKEyZMkHS3xXpCgw4AeNpIlAA3kC9fPrOr1Pnz5/XJJ58kWZ/QeS1xl7LEli9fbv77Sa/5yJgxo9n44fvvv3e6jbMbfmbOnFk1atSQJH399ddO9wsPDzcbCjhrLpESqlSpomzZsik2NlaLFi1yus2GDRt08eJF2Ww2Pf/88w91XG9vb/P+Uvd7/q+88opat25t3rwzMDBQLVq0UO/evZ0mAInvIZP4GpaEytKjTNdKaIYRHBzs9Hqiy5cva82aNdq2bZsyZsyoYsWKqVixYpKkhQsXOj3m3r17dfDgQUlP/zVNuEYt8fUyCc6dO+c0Qf/ggw/UqVMnzZkzJ9m6dOnSma/Zg64PeuGFF+Tl5aWLFy+a9ztz9O233yo2NlaZMmW6773G3NGTfMY8znvxQdasWaOAgAClS5dOEydOVNu2bdWoUSPFxMRo8ODBTqvaAOBqJEqAm+jQoYP55Wrp0qXavXu3uS7hr9lLlizR+fPnzeW3bt3StGnTNHv2bHPZnTt3njiW/v37K126dNqyZYs+/fRT8wt8TEyMpkyZok2bNjndr1+/fvLy8tIvv/yi4cOHJ6nYHDp0SL169VJUVJRKlSqltm3bPnGcjyNTpkxmy/GpU6dq0aJFSSoEP/74o0aMGCHp7rVDCYnCw+jfv788PT21fv16TZgwIckUt7CwMPXu3VsxMTF69tln9dJLL0m6+wU8R44cunbtmoYMGWJeRyTdnSL38ccfS7p70X7i5hoJU7sSmkM8jBo1aqhatWqKi4tTv379klSJzp8/r4EDByoqKkoVKlQwk96EltdLlizR1KlTkyRzO3fu1IABAyTdna6VOKl7GhK6Da5atUrBwcHm8hMnTuitt94ym4kk1qZNG0l341+9enWSL/NHjhzRN998I8l5R8XEChQoYHYeHD58uJnoSncrkN99952mTZsmSXrrrbceeC2Tu3mSz5iEaad///23S2I5c+aM2fGud+/eZvOY0aNHK1u2bDpy5Ig+//xzl4wFAPfDNUqAm7DZbBo9erTatGmj6OhoDRs2TOvWrVP69Ok1aNAgvfXWW/rrr7/UqFEj88v7yZMnFRUVpUKFCslms+nUqVMumSJjt9v10Ucf6YMPPtDcuXO1bNkyFS5cWOHh4bp27ZqaNGmizZs3J9uvUqVKGj9+vIYNG6alS5dq7dq1KlGihCIiIswKht1u1/Tp0+/ZFS4l9OjRQ6dPn9b333+vMWPGaNq0aSpUqJDOnTtnTt9q1qyZPvzww0c6bpUqVTR27FiNHDlSCxYs0OLFi1WiRAndvn1bJ0+elGEYyp07t+bNm2c+//Tp02vKlCnq0aOHAgIC9NNPP6lw4cLy8PBQeHi4IiIilClTJk2cODHJOUv48rh37169+OKL8vX1Ne9pdD+ff/65evbsqbCwMLVs2VIlSpSQh4eHjh8/biZxCdP9pLv3lTp16pQmT56sGTNmaOHChSpWrJiuXLlifjGuXr26Pv300ye6fuphdO/eXWvXrtWlS5f0yiuvyNfXV9LdClPWrFn12muvacGCBUn2adq0qfz9/bV06VINGTJEH3/8sQoUKKBbt27p1KlTMgxDFSpUUJ8+fR44/tChQ3X+/Hn99NNPGjhwoPLmzav8+fMrPDxcV69elXS3RXivXr1c/tyftif5jClTpozCwsI0d+5cBQYGqkmTJnrrrbceK46E6cc3b96Un5+f3nzzTXNdnjx59MEHH2jIkCH6+uuv1aBBg2TXcwKAK1FRAtxI8eLFzS9sJ06c0IwZMyTdvVHl8uXL1bhxY+XJk0fHjh3T2bNnZbfb9e6772rNmjVmhSLh/jxPqnXr1lq2bJlatWqljBkz6vDhw8qTJ4+GDx9+3wSibdu2WrNmjfz9/ZU7d24dOXJEV69eVeXKlTVixAgtX75chQoVckmMj8tms2nUqFGaN2+eGjduLE9PT4WGhkq6e65nzJihqVOnPla3rvbt22vNmjXq1KmT8uTJoyNHjujs2bMqUaKEevbsqbVr1yarUtWoUUPLli1TmzZtlCdPHp04cUKnTp1Svnz51K1bNwUEBCS7yW/btm3Vs2dP5cmTR6dPn77vtTOJ5cuXT0uXLtV7772nsmXL6syZMzpx4oQKFSqkPn36aM2aNclenzfeeENLly5Vq1at5O3trUOHDunOnTuqVauWPv74Yy1cuNBp63ZXy58/v1asWKHOnTurQIECOnnypG7evKkOHTpo7dq1ZuLkaPTo0ZowYYJq1Kih+Ph4HT58WNeuXVOVKlU0YsQIfffddw/s7CfdTWpnzJihyZMnq27duoqOjlZoaKgyZcqkli1b6uuvv9bw4cOfesL4NDzJZ8yQIUPUrFkzZcqUSceOHbvv9WwPMm/ePO3atUteXl6aOHFisk6Bbdu2Vf369WUYhoYMGfLAGwUDwJOwGa6cVAwAAAAAaQAVJQAAAABwQKIEAAAAAA5IlAAAAADAAYkSAAAAADggUQIAAAAAByRKAAAAAOCARAkAAAAAHJAoAQAAAIADEiUAAAAAcECiBAAAAAAOSJQAAAAAwIGX1QGkRlcj4qwOAQBcLi7esDoEAHgqcnunzq+8mSr1s2zsyH3TLRvbXVBRAgAAAAAHJEoAAAAA4CB11iEBAACAtM5GTcNKnH0AAAAAcECiBAAAAAAOmHoHAAAAuCObzeoI/tGoKAEAAACAAypKAAAAgDuimYOlOPsAAAAA4ICKEgAAAOCOuEbJUlSUAAAAAMABiRIAAAAAOGDqHQAAAOCOaOZgKc4+AAAAADigogQAAAC4I5o5WIqKEgAAAAA4IFECAAAAAAdMvQMAAADcEc0cLMXZBwAAAAAHVJQAAAAAd0QzB0tRUQIAAAAAByRKAAAAAOCAqXcAAACAO6KZg6U4+wAAAADggIoSAAAA4I5o5mApKkoAAAAA4ICKEgAAAOCOuEbJUpx9AAAAAHBAogQAAAAADph6BwAAALgjmjlYiooSAAAAADigogQAAAC4I5o5WIqzDwAAAAAOSJQAAAAAwAFT7wAAAAB3xNQ7S3H2AQAAAMABFSUAAADAHXnQHtxKVJQAAAAAwAGJEgAAAAA4YOodAAAA4I5o5mApzj4AAAAAOKCiBAAAALgjG80crERFCQAAAAAckCgBAAAAgAOm3gEAAADuiGYOluLsAwAAAIADKkoAAACAO6KZg6WoKAEAAACAAypKAAAAgDviGiVLcfYBAAAAwAGJEgAAAAA4YOodAAAA4I5o5mApKkoAAAAA4ICKEgAAAOCOaOZgKc4+AAAAADggUQIAAAAAB0y9AwAAANwRzRwsRUUJAAAAABxQUQIAAADcEc0cLMXZBwAAAAAHJEoAAAAA4ICpdwAAAIA7opmDpagoAQAAAIADKkoAAACAO6KZg6U4+wAAAADggIoSAAAA4I6oKFmKsw8AAAAADkiUAAAAAMABU+8AAAAAd0R7cEtRUQIAAAAAB1SUAAAAAHdEMwdLcfYBAAAAwAGJEgAAAAA4YOodAAAA4I5o5mApKkoAAAAA4ICKEgAAAOCOaOZgKc4+AAAAADggUQIAAAAAB0y9AwAAANwRzRwsRUUJAAAAABxQUQIAAADckI2KkqWoKAEAAACAAypKAAAAgBuiomQtKkoAAAAA4IBECQAAAAAcMPUOAAAAcEfMvLMUFSUAAAAAcEBFCQAAAHBDNHOwFhUlAAAAAHBAogQAAAAADph6BwAAALghpt5Zi4oSAAAAADigogQAAAC4ISpK1qKiBAAAAAAOqCgBAAAAeOoGDRqk4OBgBQYGJlvXuXNn7du3z+l+9evX16xZs5Is27Nnj2bMmKGQkBDFxMSofPny6tu3r6pXr+6yeEmUAAAAADeUlqbezZw5UwEBAcqXL1+ydYZhKCwsTM8DfCCGAAAgAElEQVQ++6zatWuXbH3RokWT/Lx161b169dPWbNm1UsvvaS4uDitX79e3bt317Rp09S4cWOXxEyiBAAAAOCpiIqK0vjx47VkyZJ7bnPy5Endvn1bzZs3V//+/R94vOHDh8vb21srV65UgQIFJEmvv/66OnbsqFGjRqlOnTrKlCnTE8fONUoAAACAO7JZ+HCBn3/+Wc2bN9eSJUtUr169e24XGhoqSSpduvQDj/njjz/q4sWL6ty5s5kkSVLhwoXVrVs3Xbx4UVu2bHny4EWiBAAAAOApWL58uW7fvq2RI0cmu8YosUOHDkmSSpUq9cBj7tmzR5JUq1atZOtq1qwpSfr9998fJ9xkmHoHAAAAuKHUfo1S9+7d9cknn8jb2/u+2yVUlEJDQ/XJJ5/oyJEjSp8+vWrVqqUBAwaoePHi5rbHjh2TdLeC5ChhWcI2T4qKEgAAAACXq1GjxgOTJEkKCQmRJE2aNEnFihVT586dZbfbtXHjRnXo0EEHDhwwt71x44YkKVu2bMmOkzVrVknSzZs3XRE+FSUAAAAA1oiMjFTevHmVM2dOffXVV3r22WfNdYsXL9bIkSP13nvvKSAgQJ6enoqIiJAkpU+fPtmxEpZFRUW5JDYSJQAAAMANpfapdw8jU6ZMWrlypdN1nTt31po1a7R3714dOHBAlStXVoYMGSRJMTExSpcuXZLto6OjJUmZM2d2SWxMvQMAAADglsqXLy9JCg8Pl/R/U+6cTa9LmJb3zDPPuGRsEiUAAADADdlsNsseKeXq1asKDg6+ZwOGyMhISVLGjBklSSVKlJAknTp1Ktm2CcsStnlSJEoAAAAALLF792698sor+uijj5Kti4+P1969e2Wz2czKUrVq1SQ5bwEeFBQkSapSpYpLYiNRAgAAAGCJOnXqKFu2bPrll18UGBiYZN2MGTP0119/qUmTJvLx8ZEkNWrUSDly5NC3335rTseT7laTvv32W+XOnVvNmjVzSWw0cwAAAADc0D+hmUOWLFk0btw4DRo0SH369FHjxo3l4+Ojffv2af/+/SpWrJhGjRqVZPsRI0bo3XffVfv27dWqVSsZhqENGzbo1q1bmjZtmtnw4UmRKAEAAACwTNOmTfX999/rq6++0s6dO3X79m0VKFBAPXv2VJ8+fZI1Z2jRooWyZcumr776SqtWrVK6dOlUunRp9e3bV9WrV3dZXDbDMAyXHe0f4mpEnNUhAIDLxcXz3wGAtCm3d+qsDeTq/r1lY19e2MWysd0F1ygBAAAAgAMSJQAAAABwkDrrkAAAAEAa909o5uDOqCgBAAAAgAMqSgAAAIAboqJkLSpKAAAAAOCAihIAAADghqgoWYuKEgAAAAA4IFECAAAAAAdMvQMAAADcETPvLEVFCQAAAAAcUFECAAAA3BDNHKxFRQkAAAAAHJAoAQAAAIADpt4BAAAAboipd9aiogQAAAAADqgoAQAAAG6IipK1qCgBAAAAgAMSJQAAAABwwNQ7AAAAwA0x9c5aVJQAAAAAwAEVJQAAAMAdUVCyFBUlAAAAAHBAogQAAAAADph6BwAAALghmjlYi4oSAAAAADigogQAAAC4ISpK1qKiBAAAAAAOqCgBAAAAboiKkrWoKAEAAACAAxIlAAAAAHDA1DsAAADAHTHzzlJUlAAAAADAARUlAAAAwA3RzMFaVJQAAAAAwAGJEgAAAAA4IFEC3ETw7p2qVbmsRn743gO3HTPiA9WsVEa7fv8tBSIDgCcTvHun6lYtp9HDhiRbFxUVpQVzZ+qV9i+pQa1KateikUZ+MFjhp05aECngXmw2m2UPkCgBbuH2rVsaO/JDGYbxwG0Dt/6kgHWrUyAqAHhyt2/d0kejhzn9fIu6c0dvv9lDc76apqzZsqpD51dVqnRZ/bTpB/Xq3lmnw0mWAFiHZg6AG5j82QSdO3vmgdtdu3pVE8aNeurxAICrTPl84j0/3+bPnamDB/apS7fX1e/twebygHWrNX7Uh5rz1TSN/uizlAoVcDtUdqxFRQmw2I7tW7V+zSo9X6/BA7edOG6UoqLuqHLV6k8/MAB4Qr8EbtWGtatU18nnW1RUlFYtW6zCRYqpT7+3k6x7sWVrtWrTXgULFUmpUAEgGRIlwELXrl7VhLEjVLFSFXV6pdt9t924fq22/bxZA98ZovwFfFIoQgB4PNeuXtXH40bquUpV5N+5a7L1B/YF69atm6rXsLG8vJJOcPHw8NDQEWPU683+KRUuACRDogRY6JOPRisyIkLDRo+XzePev44Xzp/TpE8+Us3addXm5Q4pGCEAPJ7PJoxRZESEPhg5zunn219hhyVJxUv46vffdqhf79fUuG5VNW9YW6M++M9DTUcG0jqaOVgr1V2jtHz58sfet0MHvmDCffwQsE4/b9mkwe8PU8FChXX+/Ll7bjt+9HBJ0gcjx6ZUeADw2H4MWK+tP23SO0M+VMFChXXByefbxYvnJUlbt2xS4LafVLVGLbV52V9hh0O1+ccA7d71u2bNX6SChQqndPgAICkVJkrDhg17YJZrGIbTbUiU4C4uXDivSR+PV5VqNdTev8t9t12+9HvtDPpVw0d/pLx586VQhADweC5eOK/Jn45X5arV9XLHe3++RUZESJICt/2kwUNHqF2HTua6hf+drdkzpuizCWP1xZdznnrMgNuisGOpVJco9e3bN1kStGTJEl2+fFmNGzdW1apVlT17dkVERGj//v0KCAiQj4+PevfubVHEQHIfjR6u2Lg4fThq3H0T//BTJzXji89U94UGatm6bQpGCACPZ8KY4YqLi7s75e4+n28enp6SpNJlyyVJkiSpa/ceWrdqufbsCtLVq1eUI0fOpxozADiT6hKl/v2TXti5aNEiXblyRTNnztQLL7yQZF3nzp3VsWNHde/eXZcuXUrJMIF7WrlssX7/7Re9P2yUfHyeved28fHxGjPiA6VLn15Dh49KuQAB4DGtWr5EO4N+1XsfjlSB+3y+SZK3t7ckqXSZcsnWeXp6yrekn86e+VtnTp8mUcI/FtcKWctmPMwdLt1Ys2bN5Ofnp6lTp95zm3feeUf79+/Xzz//7JIxr0bEueQ4+Gd6s2d37Qve/cDtWrzU9qFvLDtjzgJVoWU4nlBcfKr+7wBuoF/v1x7q8615qzaqWLmqJowZrpfattf7w8ck22bwgDcV9Gugvl68SiVK2p9GuPgHye2d6moDkqTi7wRYNvaxSS0sG9tdpM53TSLnzp1T/fr177tNzpw5deXKlZQJCHiAlq3bqnLVasmWnz1zRgHrVqtESbvqN2wsu18pFfBx3gY8cOtPOhJ2WM1btpZPwYIP/MstAKSE5q3aqFIVZ59vf2vj+jUq4WtXvYaNVdJeSsV9S0qSgnfvUnx8vDwSdcaLiYnWkbBDypQpE80cAFgm1SdKPj4++uWXXxQdHa306dMnW3/79m1t3bpVRYpw0zq4h1at2zldHrxnlwLWrZZvSbt69eknSarXoLHTbc+eOXM3UWrVWtVr1n5qsQLAo2h5j8+3vXt23U2UStrV442+5vIatepoZ9CvWjhvll7v9aa5fP6cmbp08YLavNxRGTJmfOpxA+6KqXfWSvX3UWrXrp2OHj2q/v3766+//kqy7s8//1SfPn105swZde7c2aIIAQCAM+99OEr5C/ho7szp6tf7NU3/4jP16/2aFs6bpUJFiqpP/0FWhwjgHyzVV5R69Oih4OBgbd++XYGBgcqUKZOyZMmiW7du6c6dOzIMQ+3bt1eXLvdvwQwAAFJW/gI+mvfNUi2YN1M7tv2sPw7uV85cueX/Sje93utNZc2azeoQAUtRULJWqm/mkGDt2rVas2aNQkNDdePGDWXPnl3ly5eXv7+/GjRo4NKxaOYAIC2imQOAtCq1NnPwHbzRsrH/+qy5ZWO7i9T5rnGidevWat26tdVhAAAAAEgDUv01Sg/r2LFjVocAAAAAPDSbzWbZA2mkorRt2zatXr1aV65cUXx8vBJmExqGodjYWF27dk3h4eEKDQ21OFIAAAAAqUGqT5R+/vln9e3bV/e71CpdunSqWbNmCkYFAAAAPBkKO9ZK9VPvFi5cKEkaPXq0Nm7cKF9fX7Vr104BAQGaMmWKihQposyZM2vixIkWRwoAAAAgtUj1iVJoaKjq1aunTp06qVixYqpSpYoOHTqk4sWLq1mzZlqwYIFiYmI0a9Ysq0MFAAAAkEqk+kQpIiJCJUuWNH8uUaKEjhw5otjYWElSgQIF1KBBA+3atcuqEAEAAIBHRjMHa6X6RClr1qyKjIw0fy5YsKDi4uJ08uRJc9mzzz6rs2fPWhEeAAAAgFQo1SdKZcqU0Y4dOxQdHS3pbkXJMAzt37/f3ObUqVNKly6dVSECAAAAj8xms+6BNJAo+fv76+TJk+rQoYMOHDigIkWKyG636/PPP9fq1as1Z84cbd68WaVKlbI6VAAAAACpRKpPlJo2baq33npLx44d099//y1Jeuedd3T9+nUNHTpUn3/+uTw9PTVgwACLIwUAAAAenoeHzbIHJJtxvxsQpSKXL19WunTplDVrVknSH3/8oXXr1iljxoxq2bKl7Ha7y8a6GhHnsmMBgLuIi08T/x0AQDK5vVPnrUPLfLDJsrFDPmpq2djuInW+a5yIiIjQhg0bFBISotu3byt79uwqX768WrdurZw5c1odHgAAAIBUJE0kSjNnztT06dMVFxenxAWygIAATZ06VWPHjlXLli0tjBAAAAB4NDRVsFaqT5TWrVunL774Qvnz51evXr1UsWJFZcmSRefPn9fu3bu1cOFCvffee8qbN6+qVatmdbgAAAAAUoFUf41Sx44dFR4erlWrVqlAgQLJ1h87dkwdO3ZUuXLltHDhQpeMyTVKANIirlECkFal1muUyg3bbNnYf4xrYtnY7iLVd707cuSImjZt6jRJkqTixYuradOmOnjwYApHBgAAACC1SvWJkre3t7y87v9XgmeeeUYZMmRIoYgAAAAApHapPlFq0aKFNmzYoHPnzjldf/36df3www9q2pQWhwAAAEg9bDbrHkiFzRyCgoKS/FyjRg1t3LhR7dq1U69evVSlShXlzp1bN2/e1P/+9z/NmzdPmTNn1iuvvGJRxAAAAABSm1TXzKFUqVKyOaS5CU/BcXnidR4eHgoJCXFJDDRzAJAW0cwBQFqVWps5VBixxbKxD45pbNnY7iLVvWvatm3rNCECAAAAAFdJdYnSxIkTrQ4BAAAAQBqX6hIlAAAA4J+AWVTWSvVd7wAAAADA1agoAQAAAG6IgpK1qCgBAAAAgAMqSgAAAIAb4hola1FRAgAAAAAHJEoAAAAA4ICpdwAAAIAbYuadtagoAQAAAIADKkoAAACAG6KZg7WoKAEAAACAAxIlAAAAAHDA1DsAAADADTHzzlpUlAAAAADAARUlAAAAwA3RzMFaVJQAAAAAwAGJEgAAAAA4YOodAAAA4IaYeWctKkoAAAAA4ICKEgAAAOCGaOZgLSpKAAAAAOCARAkAAAAAHDD1DgAAAHBDzLyzFhUlAAAAAHBARQkAAABwQzRzsBaJEgAAAICnbtCgQQoODlZgYGCydadOndKXX36pX3/9VVeuXFHWrFlVrVo1vfXWWypVqlSSbU+cOKFmzZrdc5wpU6boxRdffOJ4SZQAAAAAN5SWCkozZ85UQECA8uXLl2zdoUOH1LVrV928eVP16tVTiRIlFB4ers2bN2vbtm2aPXu2atasaW4fGhoqSWrUqJFKly6d7Hi+vr4uiZlECQAAAMBTERUVpfHjx2vJkiX33GbMmDG6efOmPv/8c7Vq1cpc/ttvv6lHjx768MMPtXnzZnl43G2vcOjQIUnSv//9b1WtWvWpxU4zBwAAAAAu9/PPP6t58+ZasmSJ6tWr53SbCxcuKDg4WGXKlEmSJElS7dq1Vb16dZ0+fVphYWHm8tDQUNlstmRT8lyNihIAAADghlJ7M4fly5fr9u3bGjlypLp06eI0sfH09NR7772nPHnyOD1G+vTpJUm3b982l4WGhqpgwYLy9vZ+OoH/fyRKAAAAAFyue/fu+uSTT+6b0OTKlUs9evRwuu7y5cvas2ePvLy8VKJECUnSlStXdOHCBVWpUkUTJ07UTz/9pHPnzsnHx0cvvfSSevfubSZXT4pECQAAAHBDqbygpBo1ajzR/mPHjlVERIRat26t7NmzS5JCQkIkScHBwbpy5YoaNmyoyMhI7dixQ9OmTVNQUJDmz5/vkmSJRAkAAACAWxk3bpw2btyo/Pnza+jQoebyW7duqWjRoqpZs6aGDx8uL6+76UxERIT69u2r3377TbNnz1a/fv2eOAaaOQAAAABwCzExMXr//ff1zTffKFeuXJo7d65y5sxprn/xxRf1448/avTo0WaSJEmZM2fWyJEjJUnr1q1zSSxUlAAAAAA3lNqbOTyqGzduqG/fvtq1a5d8fHw0b948FS9e/KH3L1q0qLJmzarw8HCXxENFCQAAAIClzp49q86dO2vXrl0qXbq0Fi9e7DRJOn78uIKCgpJ0wUsQHx+vqKgoZciQwSUxkSgBAAAAbshms1n2SEmXLl1S9+7ddfToUdWtW1eLFi1Svnz5nG778ccf67XXXtP27duTrTt48KCioqJUoUIFl8RFogQAAADAMv/5z3908uRJvfDCC5o5c6ayZMlyz21btmwpSZo+fbpu3bplLr969arGjBkj6W5bclfgGiUAAAAAlvj111/122+/SZKKFCmimTNnOt2ubdu2KlSokFq1aqVNmzZp06ZNat68uZo0aaLo6Ght27ZNFy9e1GuvvaaGDRu6JDYSJQAAAMAN/RN6OezcudP89zfffHPP7apUqaJChQrJZrNpypQp+v7777V8+XItX75cnp6eKlWqlIYOHWpWnFzBZhiG4bKj/UNcjYizOgQAcLm4eP47AJA25fZOnbWBepN/tWzs7YPqWDa2u0id7xoAAAAgjfuntQd3NzRzAAAAAAAHVJQAAAAAN0RByVpUlAAAAADAAYkSAAAAADhg6h0AAADghmjmYC0qSgAAAADggIoSAAAA4IYoKFmLihIAAAAAOCBRAgAAAAAHTL0DAAAA3JAHc+8sRUUJAAAAABxQUQIAAADcEAUla1FRAgAAAAAHJEoAAAAA4ICpdwAAAIAbsjH3zlJPPVGKj4/XTz/9pDNnzqhChQqqVKnS0x4SAAAAAJ6ISxOlLVu2aOrUqRowYIAaN24swzDUq1cv/fbbb+Y27du317hx41w5LAAAAJDmeFBQspTLrlEKDg7WgAEDdOTIEZ09e1aStHHjRv3666/KlCmTWrVqpdy5c2vFihVav369q4YFAAAAAJdzWaK0cOFCxcfHa8SIEerataskaf369bLZbBo+fLg+/fRTLVu2TBkyZNDy5ctdNSwAAACQJtlsNssecGGitG/fPpUtW1ZdunSRzWZTTEyMgoKC5OnpqSZNmkiS8ufPrypVqig0NNRVwwIAAACAy7ksUbp27ZoKFSpk/rx3715FRkaqTJky8vb2NpdnyZJFt2/fdtWwAAAAAOByLmvmkDt3bl2+fNn8eceOHbLZbKpVq1aS7Y4ePaocOXK4algAAAAgTWIGnLVcVlHy9fXV3r17tWvXLp06dUqrV6+WJDVq1MjcZtGiRTp69CgtwgEAAAC4NZdVlLp27apffvlF3bt3lyQZhqGKFSuqQoUKku62BQ8JCZGXl5f+/e9/u2pYAAAAIE2yiZKSlVxWUapXr54mTJigAgUKyMvLS3Xq1NGUKVPM9bGxscqXL5/mzJmjihUrumpYAAAAAHA5m2EYRkoMFB4enqTZQ2p2NSLO6hAAwOXi4lPkvwMASHG5vV02iSpFtZq127Kx179RzbKx3cVTf9fExMQoXbp0aSZJAgAAAFKCBzPvLOWyqXcJwsLCNHToUDVs2FBly5bVsGHDJEkjRozQf//7X8XHx7t6SAAAAABwKZdWlFasWKFRo0YpJibGXJYws2/fvn1atmyZ9u/fry+++EIeHi7P0QAAAIA0w0Z/cEu5LFs5ePCgRowYofTp0+udd94x24Mn6Nevn3Lnzq3Nmzdrw4YNrhoWAAAAAFzOZYnS7NmzZRiGZs2apd69e6tUqVJJ1jdr1kzz58+Xh4eHli5d6qphAQAAAMDlXDb1Ljg4WM8995yqVq16z218fX1VuXJlHT9+3FXDAgAAAGkSM++s5bKK0q1bt5QnT54Hbpc1a1bduHHDVcMCAAAAgMu5rKKUJ08eHT58+IHbhYWFKXfu3K4aFgAAAEiTPCgpWcplFaU6dero1KlTWrx48T23+f777xUeHq46deq4algAAAAAcDmXVZR69+6tgIAAjR49Wvv371etWrUkSdeuXdOWLVu0detWrVq1ShkzZlSPHj1cNSwAAACQJlFQspbNSLjRkQsEBQXp7bff1vXr15P1fTcMQ5kzZ9Znn32mhg0bumpIS1yNiLM6BABwubh4l/13AABuJbe3S28dmmLa/zfYsrFX/LuKZWO7C5e+a2rVqqUffvhBS5cu1e+//64zZ87IMAzlyZNH1atXV+fOnZUvXz5XDgkAAAAALufSitI/BRUlAGkRFSUAaVVqrSh1mL/XsrGXv17ZsrHdhcuaOQAAAABAWuGy9HrChAkPva3NZtP777/vqqEBAACANIdmDtZyWaK0cOFC2Ww2OZvJl7ixg2EYJEoAAAAA3JrLEqU+ffo4XR4fH69r165p//79CgsLU7t27dSsWTNXDQsAAAAALueyROntt99+4DbTp0/XV199pU6dOrlqWAAAACBN8mDunaVStJlDv379VKBAAX355ZcpOSwAAAAAPJIU75VYpkwZBQUFpfSwAAAAQKpCPclaKd4e/PTp04qNjU3pYQEAAADgoaVYonTnzh199dVXCgkJUalSpVJqWAAAAAB4ZC6bele9evV7rouLi1NkZKTZGrxbt26uGhYAAABIk2w0c7CUyxKlGzduPHCbPHnyqHfv3mrRooWrhgUAAAAAl3NZorRp06Z7rrPZbMqSJYty5szpquEAAACANM2DgpKlXJYoFS5c2FWHAgAAAABLpXjXOwAAAABwd49dUWrXrt1jD2qz2bRy5crH3h8AAABI62jmYK3HTpRCQ0Mfe1BedAAAAADu7LETpfnz57syDgAAAACJUFuw1mMnSrVq1XJlHAAAAADgNlzW9e5RhIeHq1ChQlYMDQAAAKQKXK5iLZcmSuHh4Vq+fLlOnz6t6OhoGYZhrouPj1dUVJQuXbqkI0eOKCQkxJVDAwAAAIDLuCxROnr0qPz9/RUREWEmSDabLcm/JckwDGXNmtVVwwIAAACAy7ksUZo7d65u376tMmXK6KWXXtK+ffu0ZcsWDRs2TJGRkdqxY4d27twpu92uVatWuWpYAAAAIE3yYOadpVx2w9mdO3fK29tbCxYs0Ouvvy5/f38ZhiFfX1/17NlTCxcu1Ouvv64jR45o7dq1rhoWAAAAAFzOZYnSpUuXVKFCBXNaXenSpWUYhv73v/+Z2wwaNEhZs2bV6tWrXTUsAAAAkCbZbDbLHnBhouTp6alnnnnG/DlXrlzKnDmzjh49ai5Lnz69KlasqPDwcFcNCwAAAAAu57JEKW/evDp9+nSSZYULF9bhw4eTLPPy8tLly5ddNSwAAAAAuJzLEqWqVasqJCREmzdvNpf5+vrq0KFDOn78uCQpKipKBw4cUK5cuVw1LAAAAJAm2Sx8wIWJUvfu3eXp6akBAwZoxIgRkqSXX35Z8fHx6tWrlyZPnqwuXbro8uXLqlKliquGBQAAAACXc1miZLfbNXnyZOXIkUPR0dGSpNq1a6tx48Y6ffq0Zs+erZCQEHl7e2vAgAGuGhYAAABIkzxsNssekGxGwh1hXSQmJkaXLl1SgQIFJN29wezq1au1d+9e5ciRQ/7+/ipYsKArh0xxVyPirA4BAFwuLt6l/x0AgNvI7e2yW4emqJ5L/rBs7Lmdylk2trt47ETp+PHjKlasmKvjSRVIlACkRSRKANIqEqVHR6L0BFPvWrRooX/9618KCAhQTEyMK2MCAAAA/vFsNusekB47vfb09NSuXbu0e/duZc+eXe3atZO/v7+KFi3qwvAAAAAAIOU9dkXpl19+0dChQ2W323X16lXNnz9fzZs312uvvaaNGzcqNjbWlXECAAAA/yg2m82yB1zUzCEkJETLly/Xhg0bdP36ddlsNuXIkUMvv/yy/P39VbhwYVfE6ja4RglAWsQ1SgDSqtR6jVLvZX9aNvbsjmUtG9tduLTrXXR0tDZv3qyVK1cqKChI8fHx8vDwUM2aNeXv76/GjRvLyyt1vlETI1ECkBaRKAFIq1JrovTGcusSpVkdSJRc3h48wblz57RixQqtWrVKp0+fls1mU86cOdW+fXt17NhRhQoVehrDpggSJQBpEYkSgLSKROnRkSg9xUQpsV27dmnDhg3asmWLrly5Ig8PD/35p3Uv/JMiUQKQFpEoAUirSJQeHYnSE3S9exTVqlUz/71ixQrFxZFoAAAAAPfjQVMFSz3VROnQoUNas2aN1q1bp8uXL8swDPn4+Ojll19+msMCAAAAwBNxeaJ06dIlrVu3TqtXr1ZYWJgMw5CXl5caNmwof39/vfDCC7QcBAAAAB6Ar8zWckmilNDtbvXq1QoKClJcXJwMw1DBggXVoUMHtW/fXnny5HHFUAAAAADw1D1RorR7926tXr1aP/74o27/P/buOzyqavv/+GdCICGEEBAIECDUhBp6700QEaWF3kSkCV79Xq4g6MUCAio2UEBRiqh0FESp0i4dQpEqQUoEklDTCUnO74/8MppJAA2TnJnwfvnMc8nee85ek+e5gZW1zj4xMdbq0eOPP66goCA1adLEXnECAAAAQLbJdKLUpk0bXb58WZJkGIb8/PzUo0cPdVERb8EAACAASURBVO3aVYUKFbJbgAAAAMCjiNtVzJXpROmPP/5Qnjx51K5dOwUFBalBgwb2jMuh5c2Ty+wQAMDuCtZ7wewQACBLxAXPNDsEOKFMJ0rjxo3TM888I29vb3vGAwAAAECSi9kBPOIynSgNGjTIjmEAAAAAgOMgUQUAAAAAG1n6wFkAAAAAmcNhDuaiogQAAAAANqgoAQAAAA7IhYKSqagoAQAAAIANKkoAAACAA6KiZK5MJ0obNmx4qI0ff/zxh3o/AAAAAGSVTCdKY8aMeaiTOE6ePJnp9wIAAABAVsp0olSvXj17xgEAAADgLzge3FyZTpQWLVpkzzgAAAAAwGFwmAMAAADggDjMwVx2T5Sio6N19epVJSQkyDAM63hycrLu3Lmja9euadOmTXrvvffsvTUAAAAA2IXdEqXk5GRNmjRJK1euVFJS0gPXkygBAAAAcFR2S5S++eYbLV26VJLk5eWl5ORkxcTEqHjx4oqMjFR0dLQkqVSpUurXr5+9tgUAAAByJM5yMJeLvS60du1aWSwWTZ8+Xfv27dMrr7wiSVq4cKEOHDigxYsXy9fXV9euXVOrVq3stS0AAAAAJ/DSSy+pefPmGc7FxMToww8/VPv27RUYGKjWrVvr/fffV1xcXIbrT58+rVGjRqlJkyaqVauWevbs+dDPebVlt0QpJCREFStWVOfOnSVJNWvWlGEYOnDggCSpTp06mjlzpuLi4jRv3jx7bQsAAADkSC4Wi2kve5s9e7bWrVuX4VxCQoKGDx+uzz77TCVLltTAgQPl6+uruXPnavDgwUpISEiz/tixY+rVq5d27dqlNm3aqEePHrp8+bJGjx5t15O57dZ6FxcXpzJlyli/LlOmjFxcXHT69GnrWOXKlVWtWjUFBwfba1sAAAAADurOnTuaPHmylixZcs8133zzjfbt26fnnntOY8eOtY5PnjxZCxcu1OLFizV48GDr+Guvvaa7d+9q+fLlqlSpkiRp+PDh6tmzp9599109/vjj8vHxeejY7VZRyp8/v+7cuWP9Onfu3CpWrJjOnj2bZp2vr6+uXr1qr20BAAAAOKAtW7boiSee0JIlS9SiRYt7rvvmm2/k5uamkSNHphl/6aWX5OHhoe+++846dvDgQZ08eVIdOnSwJkmSVKhQIY0cOVJ37tzRqlWr7BK/3RIlf39/HT58WPHx8dYxPz8//frrr2mOCQ8PD0/zNQAAAID0XEx82cPy5csVExOj//73v5ozZ06GayIiInThwgUFBgYqX758aeY8PDxUo0YNnT9/3lpoOXjwoCSpUaNG6a6VOrZnzx67xG+3RKl9+/a6ffu2BgwYoH379kmSGjZsqFu3bmnGjBmKj4/XDz/8oODgYJUuXdpe2wIAAABwQAMHDtTmzZvVp08fWe5x31NISIiklJOxM5KaN5w7dy7N+ozyCR8fH7m5uVnXPiy7JUo9evRQnTp1dPToUc2fP1+S1LNnT3l4eOiLL75QrVq19Morr8hisah379722hYAAADIkSwW81720KBBA3l6et53TVRUlCTJ29s7w/n8+fNLkiIjI9P8b4ECBdKttVgs8vT0tF7zYdktUcqdO7fmz5+viRMnWo/98/b21ty5c1WqVCkZhiFXV1cNGjRI3bt3t9e2AAAAAJxUTEyMJClPnjwZzqeOp56FEBsb+8D1fz034WHY7dQ7KSVZsn2YbJ06dbRhwwZdv35dnp6ecnNzs+eWAAAAQI6UFcd0O5rU3MD2CPBUqeOp9y+lrr979+4913t4eNglNrsmSvfz2GOPZddWAAAAAJxAasvdvdrlUsdTW/hSW+5SW/D+yjAMRUdH2y3vsFui9E+fhPv444/ba2sAAAAATqhcuXKSpIsXL2Y4nzpeoUIFSVL58uUlSZcuXVKdOnXSrA0LC9OdO3esax6W3RKlMWPG3PM0i78yDEMWi0UnT56019YAAABAjvMIdN7Jx8dHfn5+Onr0qGJjY9O0zcXGxurIkSPy8/NT4cKFJUn16tWTlHIE+DPPPJPmWrt27ZKkdAlUZtktUUoN2lZycrJu376t33//XUlJSWrbtq3Kli1rr20BAAAAOLHu3bvr/fff14cffqhXX33VOv7BBx8oNjZWffr0sY7Vrl1b5cqV09q1a9WnTx8FBgZKkm7cuKHPPvtMbm5udjs4zm6J0qJFi+47f+vWLY0fP14HDhzQxIkT7bUtAAAAkCO5PAIVJUkaNGiQfv75Zy1YsEAnT55UzZo1dfjwYe3bt09169ZNkyhZLBa99dZbevbZZ9W/f3916tRJnp6eWrduncLDw/X666+rSJEidonLbseDP4i3t7fef/99GYahjz76KLu2BQAAAODA8uTJo4ULF2rw4MG6dOmS5s+fr6tXr2r48OGaM2dOuqPA69atq8WLF6t+/fr6+eeftXz5cvn6+mrmzJnq27ev3eKyGIZh2O1qf8PIkSN19OhR7dy5Mzu3tav4RLMjAAD7K1jvBbNDAIAsERc80+wQMmXSht/M2/vxiqbt7Siy7XjwVHFxcRke5wcAAADgT4/Cc5QcWba13kkpp1Ps27dPpUqVys5tAQAAAOAfsVtFafjw4fecS05O1rVr16xHgj/99NP22hYAAADIkSgomctuidLWrVv/1roOHTro2Weftde2AAAAAGB3dkuU3nnnnXvOWSwW5cuXT5UqVaLtDgAAAIDDs1ui1KVLF3tdCgAAAHjkPSrPUXJUdjvMYfz48Vq2bNkD182ZM0cDBgyw17YAAAAAYHd2S5RWrVql/fv3P3BdcHCwDh8+bK9tAQAAgBzJYuJ/eIjWuylTpigqKirN2OHDhzV+/Ph7vicyMlLbtm1T4cKFM7stAAAAAGS5TCdKJUqU0NSpU61fWywWXbx4URcvXnzge3v27JnZbQEAAAAgy2U6UerXr59y5cql5ORkGYahqVOnqlq1anrqqacyXG+xWOTm5iY/Pz81bNgw0wEDAAAAjwIOczBXphMlV1dX9e/f3/r1woULVbduXQ0cONAugQEAAACAWex2PPiWLVusfw4LC5OPj4/166tXr+r06dNq2rSpcuXKZa8tAQAAgByLipK57HbqnSQdPXpUHTp00Msvv5xmfP/+/Ro2bJjat2+vI0eO2HNLAAAAALA7uyVKISEhGjBggM6fP59urkiRIqpatapCQ0P17LPP/q0DHwAAAIBHmcViMe0FOyZKs2fPVnx8vF555RUtXrw4zVzDhg21YsUKjRs3TjExMfr000/ttS0AAAAA2J3dEqXg4GBVqlRJgwcPvueaQYMGqWLFitq5c6e9tgUAAAAAu7NbohQREaEyZco8cF25cuV069Yte20LAAAA5EguFvNesGOiVLhwYYWEhDxw3aVLl1SwYEF7bQsAAAAAdme3RKlx48Y6e/asVqxYcc8169at04kTJ9SgQQN7bQsAAADkSBaLeS/Y8TlKgwYN0po1a/Taa69p165datOmjYoXLy6LxaIrV65o27ZtWrNmjfLkyaPnn3/eXtsCAAAAgN3ZLVEqX7683nvvPY0fP14//vij1q1bl2beMAzlzZtX06dPl7+/v722BQAAAAC7s1uiJElt27ZVzZo1tWrVKu3Zs0fh4eFKTExUkSJFVL9+ffXo0UM+Pj4KCwuTj4+PPbcGAAAAchQXeuBMZddESUo51GHo0KEaOnRourk9e/Zo8uTJ2rJli3799Vd7bw0AAAAAdmH3RMlWTEyMVq9erW+++Ubnzp2TYRg87RcAAAB4AI7pNleWJUohISFavHixvv/+e8XGxsowDLm4uKhRo0bq1q1bVm0LAAAAAA/NrolScnKyNm3apMWLF2vfvn2SUg5xKFmypLp06aKuXbuqePHi9twSAAAAAOzOLonS9evXtWTJEi1ZskTh4eEyDENubm5ydXVVbGysNm3aZI9tAAAAgEcGd6uY66ESpUOHDmnx4sXasGGDEhMTZRiG/P39FRQUpM6dO2vUqFE6cOCAvWIFAAAAgGyR6USpS5cuOnXqlAzDkKenp5555hl1795dNWrUsGd8AAAAwCPJRZSUzJTpROnkyZNyd3fXkCFDNHToULm7u9szLgAAAAAwjUtm31ioUCHFx8fr008/VceOHfXuu+8qJCTEnrEBAAAAjyyLxbwXHiJR2r59uz766CM1btxYV69e1bx589SpUyf17t1bK1euVFxcnD3jBAAAAIBsYzEMw3jYi1y+fFnLli3TqlWrdPXqVVksFnl4eChXrlyKiorSyZMn7RGrw4hPNDsCALC/gvVeMDsEAMgSccEzzQ4hUz7ddd60vUc2LmPa3o4i0xWlvypRooRefPFFbdmyRbNnz1arVq10584dRUZGSpJatWqlDz74gNY8AAAA4G9ysZj3gp0qShm5du2aVqxYoRUrVujixYuy/P9mx8qVK+vpp5/WwIEDs2LbbEFFCUBOREUJQE7lrBWl2bvPm7b38EZlTNvbUWRZovRXu3fv1tKlS7V582YlJCTIYrE4dTseiRKAnIhECUBO5ayJ0tw9F0zb+/mGfqbt7Sge6oGzf1ejRo3UqFEj3bp1S6tXr9by5cuzY1sAAAAAyBS73KP0d3l7e2vQoEFau3Ztdm4LAAAAAP9ItlSUAAAAAPwzPM/IXNlaUQIAAAAAZ0BFCQAAAHBALpSUTEVFCQAAAABskCgBAAAAgA1a7wAAAAAHROeduagoAQAAAIANKkoAAACAA6KiYS6+/wAAAABgg4oSAAAA4IAs3KRkKipKAAAAAGCDRAkAAAAAbNB6BwAAADggGu/MRUUJAAAAAGxQUQIAAAAckAuHOZiKihIAAAAA2CBRAgAAAAAbtN4BAAAADojGO3NRUQIAAAAAG1SUAAAAAAfEWQ7moqIEAAAAADZIlAAAAADABq13AAAAgAOy0HtnKipKAAAAAGCDihIAAADggKhomIvvPwAAAADYoKIEAAAAOCDuUTIXFSUAAAAAsEGiBAAAAAA2aL0DAAAAHBCNd+aiogQAAAAANqgoAQAAAA6IwxzMRUUJAAAAAGyQKAEAAACADVrvAAAAAAdERcNcfP8BAAAAwAYVJQAAAMABcZiDuagoAQAAAIANEiUAAAAAsEHrHQAAAOCAaLwzFxUlAAAAALBBRQkAAABwQJzlYC4qSgAAAABgg4oSAAAA4IBcuEvJVFSUAAAAAMAGiRIAAAAA2KD1DgAAAHBAHOZgLipKAAAAAGCDihIAAADggCwc5mAqKkoAAAAAYINECQAAAABs0HoHAAAAOCAOczAXFSUAAAAAsEFFCQAAAHBALhzmYCoqSgAAAABgg0QJAAAAAGzQegcAAAA4IA5zMBcVJQAAAACwQUUJAAAAcEBUlMxFRQkAAAAAbJAoAQAAAIANWu8AAAAAB2Rx4ucoBQQEPHBNly5dNHXqVOvXzZo1U3h4eIZr+/btq9dff91u8f0dJEoAAAAA7OqFF17IcNwwDM2fP18xMTFq2LChdfzGjRsKDw9XpUqV1LZt23TvCwwMzLJY74VECQAAAHBALs5bUNLo0aMzHJ83b55iYmLUs2dPPfPMM9bxkydPSpLat2+vkSNHZkuMD8I9SgAAAACy3JkzZ/TBBx/I19dX48aNSzOXmihVrlzZjNAyREUJAAAAcEDOfI9SRt555x3dvXtXr776qjw8PNLMpSZKlSpVMiO0DJEoAQAAAMhSW7du1a5du1S7du0M70E6deqUPDw8tHHjRq1YsUIXLlyQp6enWrRooTFjxsjHxyfbY6b1DgAAAECWmjt3riRp2LBh6ebi4+P1+++/KzY2VrNmzVJgYKCCgoLk4+Oj5cuXq1u3brp06VJ2h0xFCQAAAHBElhzSeXfs2DEdPHhQ/v7+atmyZbr5iIgIVahQQV5eXvrkk09UsGBBSSkn5H3wwQeaM2eOJkyYoIULF2Zr3CRKAAAAALLM8uXLJUm9evXKcL5UqVL64Ycf0o1bLBaNGTNGa9eu1d69exUWFpatLXi03gEAAAAOyGLif/ZiGIY2b96sXLlyqX379v/4/a6urtaT8LK7/Y5ECQAAAECWOHr0qCIiIlS3bl0VLlw4wzXh4eE6cOCALl++nOF8XFycJMnd3T3L4swIiRIAAACALBEcHCxJatCgwT3X/Pjjj+rbt6/mzJmTbi4mJkbHjx9X3rx5VbFixSyLMyMkSgAAAIADcrGY97KXY8eOSZJq1qx5zzXt2rVT7ty5tXr1ap06dco6npiYqClTpujWrVvq1auX3Nzc7BfY38BhDgAAAACyxMWLFyVJZcqUueeakiVLauzYsZoyZYqCgoL0xBNPyMvLS3v27NGZM2dUu3Ztvfjii9kU8Z9IlAATRUZGat7c2frll826euWKChV6TC1bt9Hzw0eqUKFCadb+8UeoZn3ykXbv+p8ib0eqaNGiat2mrYaPGq38+fOb9AkAOKuFUwercc1yqtDhtQeunTCsoyYO7/jAdQEdX9fFKzfsEd4D5cubR/83uJ26P15HJX28FXY9UsvWH9I7n/+kuPi76dY/06amRvRqoZqVSsotj6suXL6hVZsOa/q89YqNT8iWmIF/yp6HKpjlxo0bcnFxUdGiRe+7buDAgSpXrpy+/PJLbdq0SQkJCSpdurRefvllDR48WHny5MmmiP9kMQzDyPZdnVx8otkRICeIiYnWgL69dfa3M6rfoKGqVKmq338/p21bf1FRHx99/e0y6xGYoaGX1K93kG7euKFmzVuoXPnyOnL4sA4HH1KFiv5auPhb5cvnafIngrMrWO8Fs0NANhn77ON6c3Rn/RF2828lSs3qVFTzuhnfG1Crcik92aK6ToRcUZO+0xV/J32SYm95crtqzaej1LxuRW3cdVKHT11Sg8Cyal63ovYcOaf2Qz9Wwt0//7J+9fkn9NqIJ3XtZrTWbjuqqOh4Na/nrxoBJXXoxEW1G/IhyVIOFxc80+wQMmXHmZum7d3Mv6BpezsKKkqASeZ+9qnO/nZGI0aN1vCRf/4D9dvFX2vqlLf06cyP9MZbUyRJs2fN1M0bNzT2lfHqN2CQde1bb7yu5UuXaPGihXp++Mjs/ggAnIxbHle9O7a7hnZv+o/et+Pgb9px8Ld0497582rvkvGKjr2jni9/ni1JkiQ936OpmtetqPe/2qiJH39vHX/33930Qt9WGt6zuT7+eoskqULpoho/tIMuXbmhpv3eVfiNKEkpz2eZ/d++GvB0Q708qK3enr0uW2IH4Dw4zAEwSWhoqB57rLAGDh6SZrxT56clSYeDD1nHjh07Ikl6pmv3NGu7B6U8uO3I4eCsDBVADtCxeTUdXjlRQ7s31U87frXLNT8c31OlixfSxI++19mL4Xa5ZrM6FRUXPFMTht271W9Yz+aKi0/QO5//lGb8vzPXKDr2joZ0a2Ide6ZtTbm65tKHizZbkyQp5dkub322VpLUsXl1u8QO2JvFYt4LVJQA07z/4ccZjv9+LkSSVLhwEeuYt3dBSb/r8h+h8g+oZB0PDwuTJBUsmPZ+JgCwNeiZRvL0cNeYKd/p82U7H7oVqXHNcur5RF0Fn7ykuct2pJt3cbFoWFBz9e/cUAFlfHQ3MUmHTlzUBws3aeOuk5ne1+ex/KpQuqh2HPxNMXFp2+Vi4xO079jvat2gknyLeuuP8FvafThEb3y6Vpv3nEp3rTsJKe15+fNl70laAJwDFSXAQUTevq1NG9brP//3klxdXdO00vXs1UeS9PrEV3Xi+K+Ki4vT/n17NXXyW3Jzc1Pvvv3MChuAk/hk8VZV7vRffb5sp12uN/3f3SRJEz5aLdvbnV1cLFoy43nNeKWH3PK46qtV/9O36/arUrli+mHWKI3q3TLT+waULSZJOnfpWobzqeP+ZVPu8fzfoRBN/fxnnf49LN3aLm1rSZJ+/S3jh1wCZrOY+IKTVZRatmyZqfdZLBb98ssv9g0GsKOlS77V5DcnSZJy5cqlyVPfVYOGjazzHTs9Jdfcrnrzv6+pd1A363iRIkX01cLFqlqNthEA95fRPUaZ1bK+v+pU9dPB4xf0y97T6eZH9GyhTi2q6+s1ezX8jcVKSkqWJL0xa422zH9ZU1/uoo27T+rM+fTJy4N4588rSboZGZvh/O2ouDTr7qVUsYKaOCKlvW/O0u3/OA4AOZ9TJUpXr16973yBAgVUoEABxcbG6tq1lN8oeXl5ydOT08Dg2AoVLKTBQ4bqWkSEtmzeqAnjxioiPFwDBg2WJJ05fUozP/5QcXFxatuuvUr4+urM6VPas3uXXp/4qj75dLZKlPA1+VMAeFSM6ddakvTeVxsznH+2WxMlJibp5WnLrEmSJN2KitO0z9dr/juDNKBzQ038+HuVLl5I/Ts3tK7xK5HSSpxyyt6f9ykdPR2qNVuPKp9HSptcatucrTv//7Q7tzy57xl/scJeWvPpKBUpmF+fL9+prfvO/I1PDWQ/F24WMpVTJUp/fVKvJF26dEl9+vRRhQoV9Oqrr6pixT+PLv3jjz80depUHTx4UHPnzs3uUIF/pO3j7dX28faSpCuXX1T/PkF6/92pqle/vvzKlNWI55/T7du39OWCr1WjZi3r+9atXaPxr/xbY0YN17KVP8jCD1QAWaxYYS+1b1JFV69F6odfjqSb93DPoyrli+t2VJw1ofqrIoVSfnlZs3IpSZJficcyfEZT87ppjyRf9MMerdl6VHfupCRCeXLnyjA+t9wp/7SJib2T4XxFv6L6fuZIlS1ZWGt+OaKXpy2938cF8AhzqkTJ1vTp0+Xh4aHPPvtM7u7uaeZ8fX01Y8YMdenSRe+8847mzZtnUpTAP1O8RAkNfu55TX9nsrZs3qRy5crr2rUI9ejZK02SJKW05K35YbV2/W+njh45nG4eAOztqVaBcnFx0epNwUpOTv8oxtSWtwL58973IbUFvTwkpbQE5q315yMSmtWpqA1fvKi3Z6/T5Dnpj+y+ERljvX5GUsdvR8elm2tet6K+fe85FSqQT9/+uE/PT/paiYnJ6dYBgOTkidKuXbvUtWvXdElSqty5c6tJkyZaupTfFsGxJCQk6OCB/UpOSlKTZs3TzZcsmfKb1hs3rsvdPeUv/XLlK2R4rQoV/bXrfzt1+fJlEiUAWe7JFin3RC7feCjD+aj/X8k5ee6KanebbPf9Uw9lKFeycIbz5UqljJ86l7Zdv2eHuprzRl+55cmd7vlLgKOiT8RcTp0o5c6dWzdu3LjvmtDQUHl4eGRTRMDfk5SUpBdGPC93d3f9smO38uTJk2b+5InjkqTSpf3+/9Hg0vnff8/wWhfOp4wXLVo0CyMGgBT1q5dVXHyC9h7N+GdSVEy8zl2KUPlSRVSoQD7duB2TZr5mpZIK6lBXOw6ezdTznK5E3NbZi+GqV72MPNzzKDb+zyPCPdzzqH71sjp7MTzNM5O6tauleW8PkCSNnvydvlhun5P/AORsTn08eK1atbR+/Xrt3bs3w/lNmzZpy5YtatiwYYbzgFny5s2r1m3bKTo6WrM+/jDN3MmTJ7Tgq3nKm9dDTzzZSc1btlS+fPn0/eqVOv7rsTRrt239Rdu3bZVvyZJUkwBkufKli6igl4cOn7p035a1+at3K09uV300Pki5Xf+8l8jDPY8+mdBLLw1se8/Wub9jwerdypfXTZNGdUoz/sYLT8nTw01zlvx5il2F0kU1541+ypXLRUP/u4gkCc6F88FN5dQVpdGjR2v37t0aMmSI2rRpo8DAQOXPn1+RkZE6cOCAtm/fLi8vL7344otmhwqkM/aV8fr12FHN/2qeDh8OVo2aNXXl8mVt2bxZFos09d0ZKlo05Tkgk96arPH/+bcG9uutVq3bqIRvSYWEnNXO7dvk4eGhd6a9J1dXp/6/MwAHEejvq6da1dCFy9f19Zq0v4gsXyrlQdi/XYi47zU+WLhJLev7q3v7OqpRqZQ27z6pZMPQUy0DVap4Ia3YcEhLfz6Q4Xtt71nKyMdf/6Jn2tbS6H6tFRhQUvuOnVeDwLJqXreidh46q7l/eVbUhGFPKF9eN124fF3lShbRhGHp75uKionXx19vue+eAB49FsP2KXFOZv/+/Zo4caIuXLggKeWZSakfqUqVKpoyZYoqVapk1z3jMz6RFPjHbt68oTmffaqtWzYrIiJc+b28VK9efQ0ZOlyVKldOs/bXY0f15Ref69DB/YqKilLBggXVqHFTDR02QqX9/Ez6BMhJCta7/z9OkbPEBc/UH2E3VaHDa2nG+z3VQJ+/2V/bD/ym9kM/SjPXp1N9zXtrgKbM/Ulvffbjfa/v6uqiET1bqPeT9RVQxkcJiYkKuRihL1fu0oLvd6c5Njwz8udz14RhT6hr21oqUii//gi7peUbDum9rzYo+i8n3p3bMFnFixS477Uy+j4gZ4kLnml2CJmyJ+SWaXs3LO9t2t6OwukTJUkyDENHjx7V8ePHFRUVJW9vb1WvXl1VqlTJkv1IlADkRCRKAHIqZ02U9obcNm3vBuXv/wuGR0GO6NWxWCyqUaOGatSoYXYoAAAAAHKAHJEo/fzzz1qyZIlOnDihuLg4eXt7KyAgQF26dFHHjvd+hgMAAADgqHiOvLmcPlH673//q6VLl8owDOXKlUuFChVSVFSUduzYoZ07d2rPnj168803zQ4TAAAAgBNx6uPBf/jhBy1ZskQBAQFatGiRjh49qh07dujQoUP67rvvVK1aNS1btkw///yz2aECAAAAcCJOnSh9++23Kly4sL766ivVq1dPuXKlPKvBYrGoZs2amjt3rh577DF98803JkcKAAAA/DM8RslcTp0onT59Wi1btlTBggUznC9YsKBatmypU6dOZXNkAAAAAJyZU9+jlJSUpDx58tx3Te7cuZWQkJBNEQEAAAB2QmnHVE5dUSpfvrx27typO3fuZDgfHx+vnTt3qmzZstkcGQAAAABn5tSJ0jPPNIJF6AAAIABJREFUPKOLFy/q5Zdf1rVr19LMXbp0SWPGjFFoaKiefvppkyIEAAAAMsdi4n9w8ta7fv36adu2bdq8ebO2bt0qPz8/5c+fX2FhYQoPD1dycrIaNWqk/v37mx0qAAAAACfi1ImSi4uLZs+era+++korVqzQuXPnrHN+fn7q1q2bnn32WetpeAAAAADwd1gMwzDMDsJeYmNjFRUVJU9PT+XLly/L9olPzLJLA4BpCtZ7wewQACBLxAXPNDuETDl4PtK0veuU8TJtb0fh1BWlvwoLC9OJEycUFxcnb29vVahQQUWLFjU7LAAAAABOyOkTpfDwcL322mvavn17mnGLxaImTZro7bfflo+Pj0nRAQAAAJnDkQrmcupE6fbt2+rTp49CQ0Pl5+enWrVqycfHR7dv39a+ffu0Y8cO9e/fXytXrpSnp6fZ4QIAAABwEk6dKM2ZM0ehoaEaMWKEXnjhhXSHNnz66af6+OOPNW/ePL344osmRQkAAADA2Tj1c5Q2bdqkGjVq6MUXX8zwZLuRI0eqRo0aWr9+vQnRAQAAAA/BYuILzp0oXblyRbVr177vmlq1aumPP/7IpogAAAAA5ARO3XqXL18+hYWF3XdNWFiY3N3dsykiAAAAwD4slHZM5dQVpVq1amnz5s06c+ZMhvOnTp3S5s2bVatWrWyODAAAAIAzc+qK0tChQ7Vt2zYNGDBAQ4cOVb169eTp6amwsDAdOHBACxYsUFJSkoYOHWp2qAAAAACciFMnSrVr19Zbb72lN954Q++9916aOcMwlDt3bk2aNEl16tQxKUIAAAAgcyx03pnKqRMlSerWrZsaN26s77//XidOnFB0dLQ8PT1VpUoVde7cWSVKlDA7RAAAAABOxqkTpcuXL1v/3LlzZ3Xu3DndmrCwMOXNm1deXl7ZGRoAAADwUCgomcupE6XWrVvL8jdrknnz5lXjxo31yiuvqFSpUlkcGQAAAABn5tSn3nXr1k2+vr4yDEP58+dX3bp19eSTT6pFixZ67LHHZBiGvLy8VLlyZeXPn1+bNm1Sz549H3ikOAAAAGA6HjhrKqdOlNq3b6/Lly+rX79+2rJlixYtWqT33ntPs2fP1vbt2zVy5EjFxMRo/Pjx2rZtm6ZNm6Zbt25pzpw5ZocOAAAAwIFZDMMwzA4is3r27ClXV1ctXrz4nmv69u0rwzD0zTffSJKGDRumkJAQbdq0KdP7xidm+q0A4LAK1nvB7BAAIEvEBc80O4RMOXIpyrS9a5TKb9rejsKpK0qnT59+4MNkAwMDdfz4cevX/v7+ioiIyOrQAAAAgIdiMfE/OHmi5OXlpdOnT993zW+//aa8efNav46NjZWnp2dWhwYAAADAiTl1otS0aVPt3LlTixYtynB+2bJl2rlzp5o0aSIpJUn65ZdfVK5cuewMEwAAAPjHLBbzXnDy48HHjBmjHTt2aMqUKfr2229Vo0YNFSlSRFFRUTp8+LBOnTqlggUL6l//+pfu3r2rDh06KCIiQv/+97/NDh0AAACAA3PqRKlYsWL67rvvNGXKFG3dulXnzp2zzlksFrVo0UITJkxQqVKldOHCBcXHx2vEiBHq2LGjiVEDAAAAcHROferdX926dUvHjx/XzZs3lS9fPlWtWlVFixbNkr049Q5ATsSpdwByKmc99e7X0GjT9q5Wknv6nbqi9Ffe3t7We5EAAAAA4GHkmEQJAAAAyFE4VMFUTn3qHQAAAABkBRIlAAAAALBB6x0AAADggCz03pmKihIAAAAA2KCiBAAAADggCwUlU1FRAgAAAAAbJEoAAAAAYIPWOwAAAMAB0XlnLipKAAAAAGCDihIAAADgiCgpmYqKEgAAAADYoKIEAAAAOCAeOGsuKkoAAAAAYINECQAAAABs0HoHAAAAOCALnXemoqIEAAAAADaoKAEAAAAOiIKSuagoAQAAAIANEiUAAAAAsEHrHQAAAOCI6L0zFRUlAAAAALBBRQkAAABwQBZKSqaiogQAAAAANkiUAAAAAMAGrXcAAACAA7LQeWcqKkoAAAAAYIOKEgAAAOCAKCiZi4oSAAAAANigogQAAAA4IkpKpqKiBAAAAAA2SJQAAAAAwAatdwAAAIADstB7ZyoqSgAAAABgg4oSAAAA4IB44Ky5qCgBAAAAgA0SJQAAAACwQesdAAAA4IDovDMXFSUAAAAAsEFFCQAAAHBElJRMRUUJAAAAAGyQKAEAAACADVrvAAAAAAdkoffOVFSUAAAAAMAGFSUAAADAAVkoKJmKihIAAAAA2KCiBAAAADggCkrmoqIEAAAAADZIlAAAAADABq13AAAAgAPiMAdzUVECAAAAABtUlAAAAACH5PwlpQ8++ECzZ8/OcM7Dw0PBwcHWr0NDQ/Xxxx9r7969unXrlsqUKaO+ffsqKCgou8JNg0QJAAAAQJY4efKkLBaLRo4cKYtNL2Hu3Lmtfw4NDVWvXr1069YtdezYUYULF9amTZv02muv6dy5cxo3blx2hy6LYRhGtu/q5OITzY4AAOyvYL0XzA4BALJEXPBMs0PIlNCbCabtXbJgHrtcp1mzZnJ3d9fGjRvvu27kyJHavHmz5s6dqxYtWkiS4uPjNXDgQB05ckTLly9XtWrV7BLT38U9SgAAAIADsljMe9nDjRs3FB4ersqVK9933ZUrV7RlyxbVrl3bmiRJkru7u/7v//5PhmFoyZIl9gnqHyBRAgAAAGB3J0+elCQFBATcd92hQ4dkGIYaNWqUbq527dpyc3PTnj17siTG+yFRAgAAAByQxcSXPaQmSjExMRo2bJgaNWqkWrVqqV+/ftqxY4d1XUhIiCSpdOnS6a7h6uqq4sWLKzQ0VAkJ2duKSKIEAAAAwO5SE6WvvvpKktS1a1c1a9ZMhw8f1tChQ7V48WJJUmRkpCSpQIECGV7Hy8tLycnJio6Ozoao/8SpdwAAAADsztXVVb6+vnrzzTfVtGlT6/jx48fVt29fTZkyRc2aNVNsbKwkKU+ejA+QSB3P7ooSiRIAAADggOx1qIJZpk2bluF41apVNXDgQM2ePVvr1q2Tm5ubJOnu3bsZrk9NkDw8PLIm0Hug9Q4AAABAtqpevbok6dKlS9aWu9QWPFuRkZGyWCzy9PTMtvgkKkoAAACAQ7LY7ViF7JeQkKBTp04pOTlZNWvWTDcfFxcnKeUI8PLly0uSLl68mG5dYmKirly5orJly8rFJXtrPFSUAAAAANhVTEyMgoKCNGTIkAxb6vbv3y8ppbJUr149WSwW7d27N926gwcP6s6dO6pTp06Wx2yLRAkAAABwRE58PnjBggXVuHFjRUdHa+bMmWnmdu3apeXLl6tYsWLq0KGDihUrpiZNmmjfvn3atGmTdV18fLxmzJghSerTp8/DB/UPWQzDMLJ9VycXn2h2BABgfwXrvWB2CACQJeKCZz54kQO6Gpnx4QbZoZhX7oe+xvnz59WnTx9dv35ddevWVWBgoC5cuKBffvlF7u7umjdvnmrXri1J+v3339WrVy9FRUXpiSeekI+PjzZv3qzz589ryJAh+s9//vPQ8fxTJEqZQKIEICciUQKQU5Eo/XP2SJQkKSwsTLNmzdK2bdt07do1eXt7q3Hjxho1apTKlCmTZu358+f14Ycfavfu3bpz547KlCmjvn37qnv37rKYcAQgiVImkCgByIlIlADkVM6aKIWZmCj52ClRcmbcowQAAAAANjgeHAAAAHBAzv7AWWdHRQkAAAAAbJAoAQAAAIANWu8AAAAAB2SxxwONkGlUlAAAAADABhUlAAAAwBFRUDIVFSUAAAAAsEGiBAAAAAA2aL0DAAAAHBCdd+aiogQAAAAANqgoAQAAAA7IQknJVFSUAAAAAMAGiRIAAAAA2KD1DgAAAHBAFo5zMBUVJQAAAACwQUUJAAAAcEAc5mAuKkoAAAAAYINECQAAAABskCgBAAAAgA0SJQAAAACwwWEOAAAAgAPiMAdzUVECAAAAABtUlAAAAAAHxANnzUVFCQAAAABskCgBAAAAgA1a7wAAAAAHxGEO5qKiBAAAAAA2qCgBAAAADoiCkrmoKAEAAACADRIlAAAAALBB6x0AAADgiOi9MxUVJQAAAACwQUUJAAAAcEAWSkqmoqIEAAAAADaoKAEAAAAOiAfOmouKEgAAAADYIFECAAAAABu03gEAAAAOiM47c1FRAgAAAAAbVJQAAAAAR0RJyVRUlAAAAADABokSAAAAANig9Q4AAABwQBZ670xFRQkAAAAAbFBRAgAAAByQhYKSqagoAQAAAIANi2EYhtlBAAAAAIAjoaIEAAAAADZIlAAAAADABokSAAAAANggUQIAAAAAGyRKAAAAAGCDRAkAAAAAbJAoAQAAAIANEiUAAAAAsEGiBAAAAAA2SJQAAAAAwAaJEgAAAADYIFECAAAAABskSgAAAABgg0QJAAAAAGyQKAFZbNy4cQoICNCuXbuybc9PPvlEAQEBWrZsWbbtCQBmCggIUPPmzc0OA0AOQqIEAAAAADZIlAAAAADABokSAAAAANhwNTsA4FERGxurKVOm6Mcff1R0dLQqVqyoAQMGqHPnzmnWbdiwQUuWLNGJEycUGRkpDw8PVa5cWQMHDlSbNm3SrE1MTNSXX36plStX6vLlyypevLj69++fnR8LwCPiypUr+uSTT7Rjxw5FRkYqICBAo0aN0oYNG7R8+XJt3rxZJUuWlCQdOnRIn3/+uQ4dOqSYmBgVL15cbdu21bBhw+Tt7Z3muklJSVq8eLFWrVqlkJAQ5cqVSwEBAerdu7eefvrpdHEcP35cM2fO1KFDh3T37l01atRI48aNy5bvAYBHC4kSkE0mTZqkhIQEdezYUYmJidq4caPGjh2r0NBQjRw5UpL08ccfa9asWSpdurQ6duwod3d3nT17Vtu2bdPevXv12WefqXXr1pIkwzA0atQobd26VeXKlVPPnj119epVTZ48WY899piZHxVADhMaGqrevXsrPDxcTZs2VUBAgIKDgzV8+HCVKFEizdoVK1Zo4sSJcnV1VZs2beTj46NDhw7pyy+/1IYNG/TNN9/Ix8dHkpSQkKARI0Zo586dKlWqlLp27aqEhARt27ZN//nPf3Tw4EG9+eab1mvv379fzz33nBITE9WuXTsVLlxY27dvV+/evbP1+wHg0UCiBGSTu3fvatWqVfL19ZUkjRgxQn369NHMmTPVqVMneXh4aM6cOapYsaKWLVumvHnzWt/77bffatKkSVq9erU1UVqzZo22bt2qZs2aadasWXJzc5Mkbdu2TcOHD8/+Dwggx3rnnXcUHh6u8ePHa9CgQdbxt956S19//bX168uXL2vSpEny8vLSggULVKlSJUkpv9j58MMPNXv2bE2cOFGff/65JGn+/PnauXOnWrVqpQ8++MD6c+/GjRsaPHiwlixZooYNG6pjx45KTk7WxIkTdffuXc2bN0+NGjWSlFKtHzlypCIiIrLpuwHgUcE9SkA2ee6556xJkiT5+vpq6NChSkpK0tq1a+Xq6qrp06frrbfeSpMkSVLDhg0lSTdv3rSOff/995KksWPHWpMkSWrRooXatWuXlR8FwCPk5s2b+uWXX1S2bFkNGDAgzdxLL70kLy8v69c//PCDEhISNGTIEGuSJEkWi0WjR4+Wn5+ftm/fritXrkhKqT65uLjojTfeSPNzr1ChQpowYYIkacmSJZKko0eP6vz582rTpo01SZIkDw8Pvfrqq/b/4AAeeVSUgGxSt27ddGM1a9aUJJ04cULe3t568sknJUnnz59XSEiIQkNDFRISooMHD0pK6eVPdeLECXl4eMjf3z/ddevUqaP169dnxccA8Ig5fvy4kpKSVKNGDbm4pP39qqenpypVqqR9+/ZJSvm5JEn169dPdx1XV1fVqlVLFy5c0IkTJ+Tl5aXz58+rbNmy1la8v6pdu7Zy5cqlkydPWuOQpMDAwHRr/f39VaBAgYf7oABgg0QJyCaFCxdON5YvXz5JKa0jkrR161bNmDFDp0+flpTyD4sKFSqoevXqOnv2rAzDsL43KipK3t7eslgs6a5re7M0AGRWaiW7SJEiGc4XLVrU+ueoqChJUv78+TNcm5oQxcXFKTo6+r5rXV1dVahQId26detvXbtAgQK6c+fOfT8LAPwTJEpANkn9S/6vwsLCJKX8BX/s2DGNHDlSXl5eevvtt1WzZk35+fkpT548CgkJ0apVq9K819vbW9HR0TIMI12ylJp4AcDDSv2FTkY/wyQpJibG+mdPT09JKT/bypcvn27t7du3JaX8/Eq9burPQVvJycmKjo62/uIn9X8jIyMzXB8bG6tcuXI98PMAwN/FPUpANjl27Fi6sQMHDkiSqlevrjVr1igpKUljx45Vjx49VLFiReXJk0eSdPbsWUlKU1GqVq2a4uLi9Ouvv6a77pEjR7LiIwB4BFWtWlUWi0WHDx9ON5eUlJTmZ1uVKlUkpZxOl5F9+/bJYrGoYsWK8vT0lJ+fn8LDw3Xx4sV0a48ePaq4uDgFBARISvk5KcnaivxXoaGhunbt2j//cABwHyRKQDb58ssvrS0kknTu3DktWLBAefPmVefOneXu7i5Jun79epr3XblyRTNmzJCU8tykVEFBQZKkadOmWVtYpJR/RPz4449Z9jkAPFp8fHzUokULnTp1SsuWLUszN2vWrDQJSufOnZU7d24tWLBAp06dSrP2008/1blz59SkSRNrC163bt1kGIbefPNNxcXFWdfevHlTkydPliR16dJFUkrCVrVqVW3btk0bN260rk1ISNC0adPs+6EBQJLF+OuvqAHY3bhx47Rq1SqVKVNGsbGx6tChg6Kjo7V+/XrFxcVp2rRp6ty5s06fPq3u3bsrKSlJ7dq1U+nSpXX58mVt2bJFuXPnVmxsrIoVK6ZNmzZZr/3qq69qxYoV8vX1VatWrXTz5k1t2LBBvr6+On/+vN5++2316NHDxE8PICe4ePGigoKCdPPmTTVt2lQVK1bU0aNHdeTIEXl4eCgyMlJbt25V8eLFtWzZMr3++utpnqMUHBysI0eOqGTJkvr6669VvHhxSSmPTRg6dKh2796tUqVKqWnTprp79662bdumiIgI9ejRQ2+//bY1jlOnTmnAgAGKjIxU69atVbJkSf3vf//T9evXlZSUpLx582r79u1mfZsA5DC5Jk2aNMnsIICcbNOmTTp16pTmz5+vyMhI/fTTTzp58qSqV6+uyZMnq02bNpJSDnuoX7++Ll26pCNHjig4OFjx8fFq3bq1ZsyYoRMnTuj48ePq2LGjChUqJElq3bq1ChUqpDNnzmjXrl26ffu2nn32WTVr1kxbtmxR69atVbVqVTM/PoAcoECBAnr88cd1/fp1HTx4UIcOHVKRIkU0depUHTt2TBERERoxYoTc3d1VtWpVNWzYUBEREdq/f7+Cg4Pl5uamXr16afr06WkeiJ0rVy49+eST8vLy0rlz57R7926dP39eFStW1L///W8NGzYsTRyFCxdWu3btdOPGDe3fv19HjhxRhQoVNGPGDG3cuFHJyckaPHhwdn97AORQVJQAAMA9GYahCxcuqESJEtb7Jv+qefPmioqK0qFDhzI8hRMAnBX3KAEAgHuyWCzq0aOH2rRpk+aEOynlwddhYWFq2LAhSRKAHIeKEgAAuK8PP/xQn332mUqUKKFWrVrJw8NDZ86c0Y4dO+Tl5aWlS5fKz8/P7DABwK5IlAAAwAOtXbtW3333nUJCQhQdHa0iRYqoWbNmGjFihIoVK2Z2eABgdyRKAAAAAGCDe5QAAAAAwAaJEgAAAADYIFECAAAAABskSgAAAABgg0QJAAAAAGyQKAEAAACADRIlAHByPOUBAAD7I1EC4JT27t2rgICADF9VqlRRnTp19NRTT2nKlCm6fPmyQ8TaqVOnNOOp8d64cSPT1z548KC6dev2sCE+UP/+/RUQEKCff/75vus2bNiggIAA1axZU9HR0Q+8bmJiopo0aaKAgABt3749U7FduHBBAQEBqlu3bqbeDwBARlzNDgAAHoaHh4fatGmTZiw5OVkxMTE6fPiwFixYoNWrV2v+/PmqUqWKSVFmjejoaPXp08fsMNJo3bq1ihQpooiICG3YsEFdu3a97/qtW7fq2rVr8vX1VdOmTbMpSgAAHoxECYBTK1iwoN57770M52JjYzVs2DDt27dPEydO1MqVK7M5uvtbt26dJKlAgQKZen9ycrI9w7ELV1dXdenSRXPnztXq1asfmCitWLFCkhQUFCQXF5ocAACOg7+VAORYHh4emjBhgiTp+PHjunTpkskRpVW+fHmVL19euXLlMjsUuwoKCpLFYtG+ffvu2/Z4/fp1bd++Xa6urtnSPggAwD9BogQgRytdurT1z9euXZP05z1DEyZM0OrVq9WyZUtVr15dHTt2VEREhHX9gQMHNGrUKDVu3FjVqlVTq1at9Prrr9/zH/83btzQ9OnT1a5dOwUGBqp9+/b68ssv71n5udc9SvHx8friiy/UtWtX1a5dWw0bNlTv3r21bt0668ENn3zyierVq5fuWn8VHR2tWbNm6amnnlKNGjVUu3Zt9enTR6tXr77nARBbt27VwIEDVb9+fdWpU0cjRozQ2bNn7/XtzVCpUqXUsGFDGYahH3744Z7rVq9ercTERGu73l9dunRJb7/9tjp16qRatWqpWrVqatasmcaMGaMjR448MIbExETr9yQyMjLd/LJlyxQQEKCRI0emm7t27ZqmTp2q9u3bq3r16qpfv76GDBlyz3uojhw5otGjR6tNmzaqVq2aGjVqpKFDh2rLli0PjBMA4LhovQOQo505c8b65xIlSqSZO3DggFauXKnAwED5+/srMjLS+g/2L7/8UtOnT5ckValSRXXr1tVvv/2mJUuWaP369fr8888VGBhovdbVq1c1YMAAXbhwQUWLFlXLli0VFhamadOmqWLFin873hs3bmjQoEE6ffq0ChQooAYNGighIUF79+7VSy+9pCNHjmj8+PEKCAjQE088oZ9++kmS9NRTT6W5TlhYmAYNGqRz586pUKFCatCggZKSknTgwAG98sor2rVrl6ZNmyaLxWJ9z9y5c/X+++/LxcVFdevWVYECBbR//34FBQX94/bAoKAg7d69W99//72GDx+e4ZrUVsiePXumGQ8ODtaQIUMUExOjChUqqGnTpoqNjdXx48e1fv16bdmyRfPnz8+SwxtOnTql5557ThERESpWrJiaNm2q6Oho7dmzRzt37tQLL7yg0aNHW9fv2bNHzz33nO7evavq1auratWqioiI0I4dO7R9+3aNHz9egwYNsnucAIBsYACAE9qzZ4/h7+9vtGrV6p5rrl27ZnTp0sXw9/c3Bg0alO69/v7+xrvvvmsdT0pKMgzDMPbu3WsEBAQYdevWNfbu3ZvmmosWLTL8/f2N5s2bG3FxcdbxUaNGGf7+/sbo0aON+Ph46/iGDRuMKlWqGP7+/saTTz6Z5lqpMVy/ft069q9//cvw9/c3nnvuOSMqKso6fvbsWaN+/fqGv7+/cfDgQcMwDOP27dvWa9jq37+/4e/vb4wdO9aIiYmxjl+9etV46qmnDH9/f2PhwoXW8RMnThiVKlUyAgMD03zmqKgo67X8/f2Nn3766V7f7jTu3LljNGzY0PD39zeOHDmSbj44ONjw9/c3WrdubSQnJ6eZS43viy++SDMeExNjDB061PD39zdeeukl6/j58+cNf39/o06dOtaxu3fvWmO+fft2uv2XLl36/9q7/5iqqz+O40/CCwr4I6yrhrpu0Y2CXFeQbJpg4pByxlyWFVOqlZMs5jQLGysx5pos2mxlS40B2SJNWatB0fg1EIhfY6MGK7BkA8wWBKJwgfv9w91P3AvCze+3lfu+Hhv/3HM+n3M+578373Pex2G1Wh3bt293mXNMTIzDarU63n77bYfdbjfaWlpaHCtXrnRYrVZHSUmJ8XtCQoLDarU6PvvsM5f3FxcXO6xWqyMiIsIxPDw81XKJiMi/kLbeich17ffff2f37t0ufzt37uSpp54iOjqa5uZmbrnlFt58880Jnx/7335nMYEjR47gcDjYtWsXkZGRLv0TEhKIioqiq6uLL774AriSvSkqKsLPz4/09HR8fX2N/mvXrh2XMbmaCxcuUFBQwPTp0zl48CABAQFG2+2338727duxWq20tbVN+p6mpiaqq6sJCgpi//79+Pn5GW3z5s0z1uLIkSPG75988gmjo6MkJia6fHNAQAAZGRmYTCaPvsHJx8eH+Ph44MoWO3djs0ljs1oXL14kNDSUmJiYcZkYPz8/4yxTR0fHX5qPJ77++mt++eUXIiIi2LlzJ9Om/bnpwmq18sorrwCu63b+/HkAFixY4PKu6Oho0tLS2LdvH8PDw//zuYqIyN9PW+9E5Lo2MDBgBCxO06ZNIyAggLCwMFatWsWTTz454daxm2++mZtuusnlt5GREWpqagBYsWLFhGNGRUVRWlpKVVUVmzZtoqamBofDQXh4ODNnzhzXPzY2lo8//njKb6mqqmJ0dJSIiAjmzJkzrj0xMdGjbVxVVVUAREREuARtTkuWLCEwMJCuri7a29uxWCxUV1cDV8p7uzObzdhsNmNdPPXYY49x7NgxvvzyS1JSUoxg6/Lly3z11VeYTKZxVfH8/f05cODAuHf19PTQ2tpKRUUFAENDQ39pLp44c+YMAPfff/+E7VFRUXh5edHQ0MDg4CC+vr7cd999nD17luTkZB555BFWrVrFsmXL8PPz8zhAFhGRfycFSiJyXQsKCrrmQ/OzZs0a91tPTw+XLl0CICYmZtLnnUUduru7gfFZBaexBSUmM9V7POWcV35+Pvn5+ZP27ezsxGKxGGPPnz9/wn6LFi36y4GSxWIhMjKSmpoaSktLjfUsKCigr6+P2NjYcYFpg7yOAAAHMklEQVSqU1NTE3l5eXz//fd0dHTQ29sLYGSfHFcpRvHf6OzsBK4Uyjh06NBV+9ntdn799VcWLlzInj176OzspKysjNzcXHJzczGZTCxbtoy4uDji4+Px8fH5n89VRET+fgqUROT/1kT39jgr1Hl5ebF+/fpJnw8KCjL6TsbT8t8jIyMevW8qzm8ICQmZspCEM1icasyx29D+CmfG7fTp00ag5Nx2t3nz5gmfSU9PJzs7G7iy5fCBBx7gtttuIywsjKGhIXbs2HFNcxnLudZjOdctPDx8XOEPd871CAgI4MMPP6SlpYVvv/2WyspKGhsbqayspLKyktzcXI4fP+6yjVJERK4PCpRERMaYM2cOJpMJu91OSkoKc+fOnfIZZwboaudmnNmaqTgr7jkzG+4uXLhAUVERwcHBk1Z8M5vNANhsNt544w2Pxp4/fz5tbW10dHQwb968ce2efoO7devWkZ6eTklJCb29vfT19VFTU8PixYsn3OJWXV1NdnY2s2fP5v333yc8PNyl3XlJ71TGBsETBUXODNVYzvVfu3YtTz/9tEfjODlLkSclJXHp0iXKysrYv38/LS0t5OXl8cwzz/yl94mIyD9PxRxERMYwmUzYbDYAiouLJ+yTkZHBxo0bycnJAWD58uV4e3tTW1tr3NU0lqdbAyMiIvDy8qKuro7+/v5x7YWFhbz++utGtuVqWSBnMYbKysoJz/J0d3cTFxfH1q1b6enpAf48j1VYWDiuvzO4uRY+Pj5s2LABu91OUVGRcRfUpk2bJpx/fX09ACtXrhwXJAGUl5cDXPVuKqcbbriB6dOnA1cutnXX0NAw7jfnupWUlEz4zqamJtatW0dSUhIjIyP09/fz6KOPEhUV5bLOM2bMIDY21ig8MdmluyIi8u+lQElExM2zzz4LwMGDB40iB07ffPMNWVlZNDc3ExoaCkBgYCDx8fEMDQ2xe/dulyCnurqaY8eOeTTuokWLWLNmDQMDA+zdu5fLly8bbW1tbbz77rvAn/cOjS3UMDZDEhkZyT333MPPP/9MamoqFy9eNNr6+/vZs2cPbW1teHt7G0UjEhIS8PX15fjx4xQVFRn9BwcHSUlJYWBgwKNvmIhzvoWFhRQUFGAymYwgwt2NN94IQF1dnctFvCMjI2RlZXHq1CnAs2IOISEhAHz00UcuZ5pOnjw5YRC8fv16zGYzVVVVZGZmYrfbjbbu7m727t1Le3s7ZrMZb29vAgICmDZtGl1dXbzzzjsuwVtfX58xxtj7tkRE5PqhrXciIm6io6NJSkrivffeY8uWLdx9990sXLiQc+fO8cMPPwCwa9culi5dajzz6quv0traypkzZ1izZg2RkZH09PTw3XffYbPZjEzJVNLS0jh79iyFhYXU1taydOlS+vv7qa2txW63k5iYaGR/fHx8WLBgAZ2dnSQkJGCxWDhw4AD+/v5kZmaydetWTp8+TUlJCWFhYXh7e1NfX09fXx+LFy92qS536623kpaWxmuvvcYLL7yAzWbDbDZTX19Pb28voaGhNDc3X9N6BgcHY7PZqKioYHh4mLi4uKtuaXz44Yc5fPgwnZ2dxMbGGlml5uZmzp8/j9VqpbW1ld9++43R0dEJz5k5Pffcc+zYsYMTJ07Q0NBAcHAwP/30Ez/++CMbN240zko5zZgxg0OHDrFt2zYOHz7M559/TmhoKENDQ9TW1jI4OIjNZuPll182ntm3bx9PPPEER48epbCwkJCQEIaGhmhsbOSPP/5gxYoVPPTQQ9e0biIi8s9SRklEZALJyclkZWXx4IMP0tXVRXFxMb29vaxevZrs7Gyef/55l/6zZs0iJyeH5ORkAgMDKS0tpaOjg23btvHWW295PO7cuXP59NNPefHFFwkMDKSsrIzGxkaWLFlCZmYmKSkpLv0zMjIICQmhvb2d6upqzp07B1zJTp06dYqkpCTMZjO1tbXU19cTFBTESy+9xIkTJ8adRYqPjyc3N5fVq1fT3t5OeXk5FouFnJwc7rrrrmtcySsef/xx4z6hycpmz5w5k7y8PDZv3szs2bOpqKigubmZoKAgUlJSOHnyJHfccQd9fX3jsn3uYmJiOHr0KMuXL6erq4vy8nLj7NPVziDde++95Ofns2XLFvz8/IzxrVYrqampZGVl4e/vb/S/8847ycvLY8OGDYyMjFBaWkpdXR0Wi4XU1FQ++OCDay6EISIi/ywvx99RY1VEREREROQ6poySiIiIiIiIGwVKIiIiIiIibhQoiYiIiIiIuFGgJCIiIiIi4kaBkoiIiIiIiBsFSiIiIiIiIm4UKImIiIiIiLhRoCQiIiIiIuJGgZKIiIiIiIgbBUoiIiIiIiJuFCiJiIiIiIi4UaAkIiIiIiLiRoGSiIiIiIiIGwVKIiIiIiIibhQoiYiIiIiIuFGgJCIiIiIi4kaBkoiIiIiIiBsFSiIiIiIiIm7+AzBAoO0U6l/gAAAAAElFTkSuQmCC\n",
      "text/plain": [
       "<Figure size 1200x825 with 2 Axes>"
      ]
     },
     "metadata": {},
     "output_type": "display_data"
    }
   ],
   "source": [
    "# randomforest_confusion = confusion_matrix(y_test, y_pred_randomforest)\n",
    "# plt.figure(dpi=150)\n",
    "# sns.heatmap(randomforest_confusion, cmap=plt.cm.Blues, annot=True, square=True,\n",
    "#            xticklabels=['bad', 'good'],\n",
    "#            yticklabels=['bad', 'good'])\n",
    "\n",
    "# plt.xlabel('Predicted Values')\n",
    "# plt.ylabel('Actual Values')\n",
    "# plt.title('Randomforest confusion matrix');"
   ]
  },
  {
   "cell_type": "code",
   "execution_count": null,
   "metadata": {},
   "outputs": [],
   "source": [
    "# knn and random forest"
   ]
  },
  {
   "cell_type": "markdown",
   "metadata": {},
   "source": [
    "### Oversampling"
   ]
  },
  {
   "cell_type": "code",
   "execution_count": 305,
   "metadata": {},
   "outputs": [],
   "source": [
    "# Since we only have 0.3 of fraud, we'll try oversampling to see if it helps\n",
    "X_train_smoted, y_train_smoted = SMOTE(random_state=42).fit_sample(X_train_scaled,y_train)"
   ]
  },
  {
   "cell_type": "code",
   "execution_count": 306,
   "metadata": {},
   "outputs": [],
   "source": [
    "X_test_smoted, y_test_smoted = SMOTE(random_state=42).fit_sample(X_test_scaled,y_test)"
   ]
  },
  {
   "cell_type": "code",
   "execution_count": 311,
   "metadata": {},
   "outputs": [
    {
     "name": "stdout",
     "output_type": "stream",
     "text": [
      "Counter({1: 490, 0: 490})\n",
      "Counter({0: 210, 1: 210})\n"
     ]
    }
   ],
   "source": [
    "print(Counter(y_train_smoted))\n",
    "print(Counter(y_test_smoted))"
   ]
  },
  {
   "cell_type": "code",
   "execution_count": 307,
   "metadata": {},
   "outputs": [
    {
     "name": "stdout",
     "output_type": "stream",
     "text": [
      "0.7066666666666667\n"
     ]
    }
   ],
   "source": [
    "# knn\n",
    "knn = KNeighborsClassifier(n_neighbors=2)\n",
    "knn.fit(X_train_smoted, y_train_smoted)\n",
    "y_pred_knn_smoted = knn.predict(X_test_smoted)\n",
    "print(metrics.precision_score(y_test_smoted, y_pred_knn_smoted))"
   ]
  },
  {
   "cell_type": "code",
   "execution_count": 319,
   "metadata": {},
   "outputs": [
    {
     "name": "stdout",
     "output_type": "stream",
     "text": [
      "0.7522935779816514\n"
     ]
    }
   ],
   "source": [
    "# random forest\n",
    "randomforest = RandomForestClassifier()\n",
    "randomforest.fit(X_train_smoted, y_train_smoted)\n",
    "y_pred_randomforest_smoted = randomforest.predict(X_test_smoted)\n",
    "print(metrics.precision_score(y_test_smoted, y_pred_randomforest_smoted))"
   ]
  },
  {
   "cell_type": "code",
   "execution_count": 315,
   "metadata": {},
   "outputs": [
    {
     "data": {
      "image/png": "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\n",
      "text/plain": [
       "<Figure size 1200x825 with 2 Axes>"
      ]
     },
     "metadata": {},
     "output_type": "display_data"
    }
   ],
   "source": [
    "randomforest_confusion = confusion_matrix(y_test_smoted, y_pred_randomforest_smoted)\n",
    "plt.figure(dpi=150)\n",
    "sns.heatmap(randomforest_confusion, cmap=plt.cm.Blues, annot=True, square=True,\n",
    "           xticklabels=['bad', 'good'],\n",
    "           yticklabels=['bad', 'good'])\n",
    "\n",
    "plt.xlabel('Predicted Values')\n",
    "plt.ylabel('Actual Values')\n",
    "plt.title('Randomforest confusion matrix');"
   ]
  },
  {
   "cell_type": "code",
   "execution_count": null,
   "metadata": {},
   "outputs": [],
   "source": []
  },
  {
   "cell_type": "code",
   "execution_count": null,
   "metadata": {},
   "outputs": [],
   "source": []
  },
  {
   "cell_type": "code",
   "execution_count": null,
   "metadata": {},
   "outputs": [],
   "source": []
  },
  {
   "cell_type": "markdown",
   "metadata": {},
   "source": [
    "# Default of Credit Card Clients Dataset"
   ]
  },
  {
   "cell_type": "markdown",
   "metadata": {},
   "source": [
    "### Variable Description\n",
    "<ul>\n",
    "<li><b>ID</b>: Client ID\n",
    "<li><b>LIMIT_BAL</b>: Amount of given credit in NT dollars (includes individual and family/supplementary credit)\n",
    "<li><b>SEX</b>: Gender (1=male, 2=female)\n",
    "<li><b>EDUCATION</b>: Highest level of education (1=graduate school, 2=university, 3=high school, 4=others, 5=unknown, 6=unknown)\n",
    "<li><b>MARRIAGE</b>: Marital status (1=married, 2=single, 3=others)\n",
    "<li><b>AGE</b>: Age in years\n",
    "<li><b>PAY_0</b>: Repayment status in September, 2005 (-1=pay duly, 1=payment delay for one month, 2=payment delay for two months, ... 8=payment delay for eight months, 9=payment delay for nine months and above)\n",
    "<li><b>PAY_2</b>: Repayment status in August, 2005 (same scale as above)\n",
    "<li><b>PAY_3</b>: Repayment status in July, 2005 (same scale as above)\n",
    "<li><b>PAY_4</b>: Repayment status in June, 2005 (same scale as above)\n",
    "<li><b>PAY_5</b>: Repayment status in May, 2005 (same scale as above)\n",
    "<li><b>PAY_6</b>: Repayment status in April, 2005 (same scale as above)\n",
    "<li><b>BILL_AMT1</b>: Amount of bill statement in September, 2005 (NT dollar)\n",
    "<li><b>BILL_AMT2</b>: Amount of bill statement in August, 2005 (NT dollar)\n",
    "<li><b>BILL_AMT3</b>: Amount of bill statement in July, 2005 (NT dollar)\n",
    "<li><b>BILL_AMT4</b>: Amount of bill statement in June, 2005 (NT dollar)\n",
    "<li><b>BILL_AMT5</b>: Amount of bill statement in May, 2005 (NT dollar)\n",
    "<li><b>BILL_AMT6</b>: Amount of bill statement in April, 2005 (NT dollar)\n",
    "<li><b>PAY_AMT1</b>: Amount of previous payment in September, 2005 (NT dollar)\n",
    "<li><b>PAY_AMT2</b>: Amount of previous payment in August, 2005 (NT dollar)\n",
    "<li><b>PAY_AMT3</b>: Amount of previous payment in July, 2005 (NT dollar)\n",
    "<li><b>PAY_AMT4</b>: Amount of previous payment in June, 2005 (NT dollar)\n",
    "<li><b>PAY_AMT5</b>: Amount of previous payment in May, 2005 (NT dollar)\n",
    "<li><b>PAY_AMT6</b>: Amount of previous payment in April, 2005 (NT dollar)\n",
    "<li><b>default.payment.next.month</b>: Default payment setting (1=yes, 0=no)"
   ]
  },
  {
   "cell_type": "markdown",
   "metadata": {},
   "source": [
    "### Exploratory Data Analysis (EDA)"
   ]
  },
  {
   "cell_type": "code",
   "execution_count": 1,
   "metadata": {
    "collapsed": true
   },
   "outputs": [],
   "source": [
    "import pandas as pd"
   ]
  },
  {
   "cell_type": "code",
   "execution_count": 2,
   "metadata": {
    "collapsed": true
   },
   "outputs": [],
   "source": [
    "df = pd.read_csv('UCI_Credit_Card.csv')"
   ]
  },
  {
   "cell_type": "code",
   "execution_count": 3,
   "metadata": {},
   "outputs": [
    {
     "data": {
      "text/html": [
       "<div>\n",
       "<style>\n",
       "    .dataframe thead tr:only-child th {\n",
       "        text-align: right;\n",
       "    }\n",
       "\n",
       "    .dataframe thead th {\n",
       "        text-align: left;\n",
       "    }\n",
       "\n",
       "    .dataframe tbody tr th {\n",
       "        vertical-align: top;\n",
       "    }\n",
       "</style>\n",
       "<table border=\"1\" class=\"dataframe\">\n",
       "  <thead>\n",
       "    <tr style=\"text-align: right;\">\n",
       "      <th></th>\n",
       "      <th>ID</th>\n",
       "      <th>LIMIT_BAL</th>\n",
       "      <th>SEX</th>\n",
       "      <th>EDUCATION</th>\n",
       "      <th>MARRIAGE</th>\n",
       "      <th>AGE</th>\n",
       "      <th>PAY_0</th>\n",
       "      <th>PAY_2</th>\n",
       "      <th>PAY_3</th>\n",
       "      <th>PAY_4</th>\n",
       "      <th>...</th>\n",
       "      <th>BILL_AMT4</th>\n",
       "      <th>BILL_AMT5</th>\n",
       "      <th>BILL_AMT6</th>\n",
       "      <th>PAY_AMT1</th>\n",
       "      <th>PAY_AMT2</th>\n",
       "      <th>PAY_AMT3</th>\n",
       "      <th>PAY_AMT4</th>\n",
       "      <th>PAY_AMT5</th>\n",
       "      <th>PAY_AMT6</th>\n",
       "      <th>default.payment.next.month</th>\n",
       "    </tr>\n",
       "  </thead>\n",
       "  <tbody>\n",
       "    <tr>\n",
       "      <th>0</th>\n",
       "      <td>1</td>\n",
       "      <td>20000.0</td>\n",
       "      <td>2</td>\n",
       "      <td>2</td>\n",
       "      <td>1</td>\n",
       "      <td>24</td>\n",
       "      <td>2</td>\n",
       "      <td>2</td>\n",
       "      <td>-1</td>\n",
       "      <td>-1</td>\n",
       "      <td>...</td>\n",
       "      <td>0.0</td>\n",
       "      <td>0.0</td>\n",
       "      <td>0.0</td>\n",
       "      <td>0.0</td>\n",
       "      <td>689.0</td>\n",
       "      <td>0.0</td>\n",
       "      <td>0.0</td>\n",
       "      <td>0.0</td>\n",
       "      <td>0.0</td>\n",
       "      <td>1</td>\n",
       "    </tr>\n",
       "    <tr>\n",
       "      <th>1</th>\n",
       "      <td>2</td>\n",
       "      <td>120000.0</td>\n",
       "      <td>2</td>\n",
       "      <td>2</td>\n",
       "      <td>2</td>\n",
       "      <td>26</td>\n",
       "      <td>-1</td>\n",
       "      <td>2</td>\n",
       "      <td>0</td>\n",
       "      <td>0</td>\n",
       "      <td>...</td>\n",
       "      <td>3272.0</td>\n",
       "      <td>3455.0</td>\n",
       "      <td>3261.0</td>\n",
       "      <td>0.0</td>\n",
       "      <td>1000.0</td>\n",
       "      <td>1000.0</td>\n",
       "      <td>1000.0</td>\n",
       "      <td>0.0</td>\n",
       "      <td>2000.0</td>\n",
       "      <td>1</td>\n",
       "    </tr>\n",
       "    <tr>\n",
       "      <th>2</th>\n",
       "      <td>3</td>\n",
       "      <td>90000.0</td>\n",
       "      <td>2</td>\n",
       "      <td>2</td>\n",
       "      <td>2</td>\n",
       "      <td>34</td>\n",
       "      <td>0</td>\n",
       "      <td>0</td>\n",
       "      <td>0</td>\n",
       "      <td>0</td>\n",
       "      <td>...</td>\n",
       "      <td>14331.0</td>\n",
       "      <td>14948.0</td>\n",
       "      <td>15549.0</td>\n",
       "      <td>1518.0</td>\n",
       "      <td>1500.0</td>\n",
       "      <td>1000.0</td>\n",
       "      <td>1000.0</td>\n",
       "      <td>1000.0</td>\n",
       "      <td>5000.0</td>\n",
       "      <td>0</td>\n",
       "    </tr>\n",
       "    <tr>\n",
       "      <th>3</th>\n",
       "      <td>4</td>\n",
       "      <td>50000.0</td>\n",
       "      <td>2</td>\n",
       "      <td>2</td>\n",
       "      <td>1</td>\n",
       "      <td>37</td>\n",
       "      <td>0</td>\n",
       "      <td>0</td>\n",
       "      <td>0</td>\n",
       "      <td>0</td>\n",
       "      <td>...</td>\n",
       "      <td>28314.0</td>\n",
       "      <td>28959.0</td>\n",
       "      <td>29547.0</td>\n",
       "      <td>2000.0</td>\n",
       "      <td>2019.0</td>\n",
       "      <td>1200.0</td>\n",
       "      <td>1100.0</td>\n",
       "      <td>1069.0</td>\n",
       "      <td>1000.0</td>\n",
       "      <td>0</td>\n",
       "    </tr>\n",
       "    <tr>\n",
       "      <th>4</th>\n",
       "      <td>5</td>\n",
       "      <td>50000.0</td>\n",
       "      <td>1</td>\n",
       "      <td>2</td>\n",
       "      <td>1</td>\n",
       "      <td>57</td>\n",
       "      <td>-1</td>\n",
       "      <td>0</td>\n",
       "      <td>-1</td>\n",
       "      <td>0</td>\n",
       "      <td>...</td>\n",
       "      <td>20940.0</td>\n",
       "      <td>19146.0</td>\n",
       "      <td>19131.0</td>\n",
       "      <td>2000.0</td>\n",
       "      <td>36681.0</td>\n",
       "      <td>10000.0</td>\n",
       "      <td>9000.0</td>\n",
       "      <td>689.0</td>\n",
       "      <td>679.0</td>\n",
       "      <td>0</td>\n",
       "    </tr>\n",
       "  </tbody>\n",
       "</table>\n",
       "<p>5 rows × 25 columns</p>\n",
       "</div>"
      ],
      "text/plain": [
       "   ID  LIMIT_BAL  SEX  EDUCATION  MARRIAGE  AGE  PAY_0  PAY_2  PAY_3  PAY_4  \\\n",
       "0   1    20000.0    2          2         1   24      2      2     -1     -1   \n",
       "1   2   120000.0    2          2         2   26     -1      2      0      0   \n",
       "2   3    90000.0    2          2         2   34      0      0      0      0   \n",
       "3   4    50000.0    2          2         1   37      0      0      0      0   \n",
       "4   5    50000.0    1          2         1   57     -1      0     -1      0   \n",
       "\n",
       "              ...              BILL_AMT4  BILL_AMT5  BILL_AMT6  PAY_AMT1  \\\n",
       "0             ...                    0.0        0.0        0.0       0.0   \n",
       "1             ...                 3272.0     3455.0     3261.0       0.0   \n",
       "2             ...                14331.0    14948.0    15549.0    1518.0   \n",
       "3             ...                28314.0    28959.0    29547.0    2000.0   \n",
       "4             ...                20940.0    19146.0    19131.0    2000.0   \n",
       "\n",
       "   PAY_AMT2  PAY_AMT3  PAY_AMT4  PAY_AMT5  PAY_AMT6  \\\n",
       "0     689.0       0.0       0.0       0.0       0.0   \n",
       "1    1000.0    1000.0    1000.0       0.0    2000.0   \n",
       "2    1500.0    1000.0    1000.0    1000.0    5000.0   \n",
       "3    2019.0    1200.0    1100.0    1069.0    1000.0   \n",
       "4   36681.0   10000.0    9000.0     689.0     679.0   \n",
       "\n",
       "   default.payment.next.month  \n",
       "0                           1  \n",
       "1                           1  \n",
       "2                           0  \n",
       "3                           0  \n",
       "4                           0  \n",
       "\n",
       "[5 rows x 25 columns]"
      ]
     },
     "execution_count": 3,
     "metadata": {},
     "output_type": "execute_result"
    }
   ],
   "source": [
    "df.head()"
   ]
  },
  {
   "cell_type": "code",
   "execution_count": 4,
   "metadata": {},
   "outputs": [
    {
     "name": "stdout",
     "output_type": "stream",
     "text": [
      "<class 'pandas.core.frame.DataFrame'>\n",
      "RangeIndex: 30000 entries, 0 to 29999\n",
      "Data columns (total 25 columns):\n",
      "ID                            30000 non-null int64\n",
      "LIMIT_BAL                     30000 non-null float64\n",
      "SEX                           30000 non-null int64\n",
      "EDUCATION                     30000 non-null int64\n",
      "MARRIAGE                      30000 non-null int64\n",
      "AGE                           30000 non-null int64\n",
      "PAY_0                         30000 non-null int64\n",
      "PAY_2                         30000 non-null int64\n",
      "PAY_3                         30000 non-null int64\n",
      "PAY_4                         30000 non-null int64\n",
      "PAY_5                         30000 non-null int64\n",
      "PAY_6                         30000 non-null int64\n",
      "BILL_AMT1                     30000 non-null float64\n",
      "BILL_AMT2                     30000 non-null float64\n",
      "BILL_AMT3                     30000 non-null float64\n",
      "BILL_AMT4                     30000 non-null float64\n",
      "BILL_AMT5                     30000 non-null float64\n",
      "BILL_AMT6                     30000 non-null float64\n",
      "PAY_AMT1                      30000 non-null float64\n",
      "PAY_AMT2                      30000 non-null float64\n",
      "PAY_AMT3                      30000 non-null float64\n",
      "PAY_AMT4                      30000 non-null float64\n",
      "PAY_AMT5                      30000 non-null float64\n",
      "PAY_AMT6                      30000 non-null float64\n",
      "default.payment.next.month    30000 non-null int64\n",
      "dtypes: float64(13), int64(12)\n",
      "memory usage: 5.7 MB\n"
     ]
    }
   ],
   "source": [
    "df.info()"
   ]
  },
  {
   "cell_type": "code",
   "execution_count": null,
   "metadata": {
    "collapsed": true
   },
   "outputs": [],
   "source": []
  },
  {
   "cell_type": "code",
   "execution_count": null,
   "metadata": {},
   "outputs": [],
   "source": []
  },
  {
   "cell_type": "code",
   "execution_count": null,
   "metadata": {},
   "outputs": [],
   "source": []
  },
  {
   "cell_type": "code",
   "execution_count": null,
   "metadata": {},
   "outputs": [],
   "source": []
  },
  {
   "cell_type": "code",
   "execution_count": null,
   "metadata": {},
   "outputs": [],
   "source": []
  },
  {
   "cell_type": "code",
   "execution_count": null,
   "metadata": {},
   "outputs": [],
   "source": []
  },
  {
   "cell_type": "code",
   "execution_count": null,
   "metadata": {},
   "outputs": [],
   "source": []
  }
 ],
 "metadata": {
  "kernelspec": {
   "display_name": "Python 3",
   "language": "python",
   "name": "python3"
  },
  "language_info": {
   "codemirror_mode": {
    "name": "ipython",
    "version": 3
   },
   "file_extension": ".py",
   "mimetype": "text/x-python",
   "name": "python",
   "nbconvert_exporter": "python",
   "pygments_lexer": "ipython3",
   "version": "3.6.5"
  }
 },
 "nbformat": 4,
 "nbformat_minor": 1
}
